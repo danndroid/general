{
 "cells": [
  {
   "cell_type": "code",
   "execution_count": 6,
   "id": "ca5f216f-00f8-458e-b27a-b18d91695b5b",
   "metadata": {},
   "outputs": [],
   "source": [
    "import numpy as np\n",
    "import pandas as pd"
   ]
  },
  {
   "cell_type": "code",
   "execution_count": 8,
   "id": "5f87d0b5-6e4d-4330-a762-e046caeed365",
   "metadata": {},
   "outputs": [],
   "source": [
    "outlook = ['s','s','o','r','r','r','o','s','s','r','s','o','o','r']\n",
    "temp = ['h','h','h','m','c','c','c','m','c','m','m','m','h','m']\n",
    "hum = ['h','h','h','h','n','n','n','h','n','n','n','h','n','h']\n",
    "wind = [0,1,0,0,0,1,1,0,0,0,1,1,0,1]\n",
    "play = [0,0,1,1,1,0,1,0,1,1,1,1,1,0]"
   ]
  },
  {
   "cell_type": "code",
   "execution_count": 10,
   "id": "4f709168-7a5b-44a0-b3dc-0d2821754d45",
   "metadata": {},
   "outputs": [
    {
     "data": {
      "text/html": [
       "<div>\n",
       "<style scoped>\n",
       "    .dataframe tbody tr th:only-of-type {\n",
       "        vertical-align: middle;\n",
       "    }\n",
       "\n",
       "    .dataframe tbody tr th {\n",
       "        vertical-align: top;\n",
       "    }\n",
       "\n",
       "    .dataframe thead th {\n",
       "        text-align: right;\n",
       "    }\n",
       "</style>\n",
       "<table border=\"1\" class=\"dataframe\">\n",
       "  <thead>\n",
       "    <tr style=\"text-align: right;\">\n",
       "      <th></th>\n",
       "      <th>outlook</th>\n",
       "      <th>temp</th>\n",
       "      <th>hum</th>\n",
       "      <th>wind</th>\n",
       "      <th>play</th>\n",
       "    </tr>\n",
       "  </thead>\n",
       "  <tbody>\n",
       "    <tr>\n",
       "      <th>0</th>\n",
       "      <td>s</td>\n",
       "      <td>h</td>\n",
       "      <td>h</td>\n",
       "      <td>0</td>\n",
       "      <td>0</td>\n",
       "    </tr>\n",
       "    <tr>\n",
       "      <th>1</th>\n",
       "      <td>s</td>\n",
       "      <td>h</td>\n",
       "      <td>h</td>\n",
       "      <td>1</td>\n",
       "      <td>0</td>\n",
       "    </tr>\n",
       "    <tr>\n",
       "      <th>2</th>\n",
       "      <td>o</td>\n",
       "      <td>h</td>\n",
       "      <td>h</td>\n",
       "      <td>0</td>\n",
       "      <td>1</td>\n",
       "    </tr>\n",
       "    <tr>\n",
       "      <th>3</th>\n",
       "      <td>r</td>\n",
       "      <td>m</td>\n",
       "      <td>h</td>\n",
       "      <td>0</td>\n",
       "      <td>1</td>\n",
       "    </tr>\n",
       "    <tr>\n",
       "      <th>4</th>\n",
       "      <td>r</td>\n",
       "      <td>c</td>\n",
       "      <td>n</td>\n",
       "      <td>0</td>\n",
       "      <td>1</td>\n",
       "    </tr>\n",
       "    <tr>\n",
       "      <th>5</th>\n",
       "      <td>r</td>\n",
       "      <td>c</td>\n",
       "      <td>n</td>\n",
       "      <td>1</td>\n",
       "      <td>0</td>\n",
       "    </tr>\n",
       "    <tr>\n",
       "      <th>6</th>\n",
       "      <td>o</td>\n",
       "      <td>c</td>\n",
       "      <td>n</td>\n",
       "      <td>1</td>\n",
       "      <td>1</td>\n",
       "    </tr>\n",
       "    <tr>\n",
       "      <th>7</th>\n",
       "      <td>s</td>\n",
       "      <td>m</td>\n",
       "      <td>h</td>\n",
       "      <td>0</td>\n",
       "      <td>0</td>\n",
       "    </tr>\n",
       "    <tr>\n",
       "      <th>8</th>\n",
       "      <td>s</td>\n",
       "      <td>c</td>\n",
       "      <td>n</td>\n",
       "      <td>0</td>\n",
       "      <td>1</td>\n",
       "    </tr>\n",
       "    <tr>\n",
       "      <th>9</th>\n",
       "      <td>r</td>\n",
       "      <td>m</td>\n",
       "      <td>n</td>\n",
       "      <td>0</td>\n",
       "      <td>1</td>\n",
       "    </tr>\n",
       "    <tr>\n",
       "      <th>10</th>\n",
       "      <td>s</td>\n",
       "      <td>m</td>\n",
       "      <td>n</td>\n",
       "      <td>1</td>\n",
       "      <td>1</td>\n",
       "    </tr>\n",
       "    <tr>\n",
       "      <th>11</th>\n",
       "      <td>o</td>\n",
       "      <td>m</td>\n",
       "      <td>h</td>\n",
       "      <td>1</td>\n",
       "      <td>1</td>\n",
       "    </tr>\n",
       "    <tr>\n",
       "      <th>12</th>\n",
       "      <td>o</td>\n",
       "      <td>h</td>\n",
       "      <td>n</td>\n",
       "      <td>0</td>\n",
       "      <td>1</td>\n",
       "    </tr>\n",
       "    <tr>\n",
       "      <th>13</th>\n",
       "      <td>r</td>\n",
       "      <td>m</td>\n",
       "      <td>h</td>\n",
       "      <td>1</td>\n",
       "      <td>0</td>\n",
       "    </tr>\n",
       "  </tbody>\n",
       "</table>\n",
       "</div>"
      ],
      "text/plain": [
       "   outlook temp hum  wind  play\n",
       "0        s    h   h     0     0\n",
       "1        s    h   h     1     0\n",
       "2        o    h   h     0     1\n",
       "3        r    m   h     0     1\n",
       "4        r    c   n     0     1\n",
       "5        r    c   n     1     0\n",
       "6        o    c   n     1     1\n",
       "7        s    m   h     0     0\n",
       "8        s    c   n     0     1\n",
       "9        r    m   n     0     1\n",
       "10       s    m   n     1     1\n",
       "11       o    m   h     1     1\n",
       "12       o    h   n     0     1\n",
       "13       r    m   h     1     0"
      ]
     },
     "execution_count": 10,
     "metadata": {},
     "output_type": "execute_result"
    }
   ],
   "source": [
    "table = pd.DataFrame({'outlook':outlook,\n",
    "                      'temp':temp,\n",
    "                      'hum':hum,\n",
    "                      'wind':wind,\n",
    "                      'play':play,})\n",
    "n = len(table)\n",
    "table"
   ]
  },
  {
   "cell_type": "markdown",
   "id": "f1200585-3d14-47f0-a236-aceb31e24008",
   "metadata": {},
   "source": [
    "### $1 \\ P(Humidity = high)$"
   ]
  },
  {
   "cell_type": "code",
   "execution_count": 54,
   "id": "bfc086aa-085c-468d-a33a-967155f27785",
   "metadata": {},
   "outputs": [
    {
     "data": {
      "text/plain": [
       "0.5"
      ]
     },
     "execution_count": 54,
     "metadata": {},
     "output_type": "execute_result"
    }
   ],
   "source": [
    "len(table[table['hum']=='h']) / n"
   ]
  },
  {
   "cell_type": "markdown",
   "id": "1e80eb8a-c5b4-41bd-be48-488b400b3938",
   "metadata": {},
   "source": [
    "### $2 \\ P(Play = yes)$"
   ]
  },
  {
   "cell_type": "code",
   "execution_count": 55,
   "id": "bc95f8b3-d477-453d-a604-7b09fdf90335",
   "metadata": {},
   "outputs": [
    {
     "data": {
      "text/plain": [
       "0.6428571428571429"
      ]
     },
     "execution_count": 55,
     "metadata": {},
     "output_type": "execute_result"
    }
   ],
   "source": [
    "len(table[table['play']==1]) / n"
   ]
  },
  {
   "cell_type": "markdown",
   "id": "9ffc6645-3e6b-46ad-aaaa-1c50e354e8fe",
   "metadata": {},
   "source": [
    "### $3 \\ P(Play=yes | Outlook=sunny)$"
   ]
  },
  {
   "cell_type": "code",
   "execution_count": 56,
   "id": "3da3a0e4-4df2-43f9-986f-98a23003c3e9",
   "metadata": {},
   "outputs": [
    {
     "name": "stderr",
     "output_type": "stream",
     "text": [
      "<ipython-input-56-de99ec93996b>:1: UserWarning: Boolean Series key will be reindexed to match DataFrame index.\n",
      "  len(table[table['outlook']=='s'][table['play']==1]) / len(table[table['outlook']=='s'])\n"
     ]
    },
    {
     "data": {
      "text/plain": [
       "0.4"
      ]
     },
     "execution_count": 56,
     "metadata": {},
     "output_type": "execute_result"
    }
   ],
   "source": [
    "len(table[table['outlook']=='s'][table['play']==1]) / len(table[table['outlook']=='s'])"
   ]
  },
  {
   "cell_type": "markdown",
   "id": "2027a94f-33d8-44d8-b660-b4b0d03ef588",
   "metadata": {},
   "source": [
    "### $4 \\ P(Play=yes | Temperature=hot)$"
   ]
  },
  {
   "cell_type": "code",
   "execution_count": 32,
   "id": "0d77353c-4014-45ee-930a-4835bb059aac",
   "metadata": {},
   "outputs": [
    {
     "name": "stderr",
     "output_type": "stream",
     "text": [
      "<ipython-input-32-a2a20f08a7f8>:1: UserWarning: Boolean Series key will be reindexed to match DataFrame index.\n",
      "  len(table[table['temp']=='h'][table['play']==1]) / len(table[table['temp']=='h'])\n"
     ]
    },
    {
     "data": {
      "text/plain": [
       "0.5"
      ]
     },
     "execution_count": 32,
     "metadata": {},
     "output_type": "execute_result"
    }
   ],
   "source": [
    "len(table[table['temp']=='h'][table['play']==1]) / len(table[table['temp']=='h']) "
   ]
  },
  {
   "cell_type": "markdown",
   "id": "b4e961db-e14c-4749-87bf-a618a11657c9",
   "metadata": {},
   "source": [
    "### $5 \\ P(Windy=true \\cap Play=yes)$"
   ]
  },
  {
   "cell_type": "code",
   "execution_count": 58,
   "id": "dcd3570a-df55-4b58-9646-a9f3933b9336",
   "metadata": {},
   "outputs": [
    {
     "name": "stderr",
     "output_type": "stream",
     "text": [
      "<ipython-input-58-2f5b7aefae0d>:1: UserWarning: Boolean Series key will be reindexed to match DataFrame index.\n",
      "  (len(table[table['play']==1][table['wind']==1]) / len(table[table['play']==1])) * (len(table[table['play']==1]) / n)\n"
     ]
    },
    {
     "data": {
      "text/plain": [
       "0.2142857142857143"
      ]
     },
     "execution_count": 58,
     "metadata": {},
     "output_type": "execute_result"
    }
   ],
   "source": [
    "(len(table[table['play']==1][table['wind']==1]) / len(table[table['play']==1])) * (len(table[table['play']==1]) / n)"
   ]
  },
  {
   "cell_type": "markdown",
   "id": "1b2593d8-75d9-46e4-90eb-01fda14fd959",
   "metadata": {},
   "source": [
    "### $6 \\ P(Windy=false \\cap Play=yes)$"
   ]
  },
  {
   "cell_type": "code",
   "execution_count": 51,
   "id": "c9be21c3-1ff5-41cf-973e-6b56baf797a2",
   "metadata": {},
   "outputs": [
    {
     "name": "stderr",
     "output_type": "stream",
     "text": [
      "<ipython-input-51-0f784888916a>:1: UserWarning: Boolean Series key will be reindexed to match DataFrame index.\n",
      "  (len(table[table['play']==1][table['wind']==0]) / len(table[table['play']==1])) * (len(table[table['play']==1]) / n)\n"
     ]
    },
    {
     "data": {
      "text/plain": [
       "0.4285714285714286"
      ]
     },
     "execution_count": 51,
     "metadata": {},
     "output_type": "execute_result"
    }
   ],
   "source": [
    "(len(table[table['play']==1][table['wind']==0]) / len(table[table['play']==1])) * (len(table[table['play']==1]) / n)"
   ]
  },
  {
   "cell_type": "code",
   "execution_count": null,
   "id": "f2c183e4-6d0a-423b-b95c-5841f8da45ac",
   "metadata": {},
   "outputs": [],
   "source": []
  }
 ],
 "metadata": {
  "kernelspec": {
   "display_name": "Python 3",
   "language": "python",
   "name": "python3"
  },
  "language_info": {
   "codemirror_mode": {
    "name": "ipython",
    "version": 3
   },
   "file_extension": ".py",
   "mimetype": "text/x-python",
   "name": "python",
   "nbconvert_exporter": "python",
   "pygments_lexer": "ipython3",
   "version": "3.9.0"
  }
 },
 "nbformat": 4,
 "nbformat_minor": 5
}

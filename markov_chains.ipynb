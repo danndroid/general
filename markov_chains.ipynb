{
 "cells": [
  {
   "cell_type": "code",
   "execution_count": 1,
   "id": "e07d61f7-777c-4b5a-93f9-b1369140e978",
   "metadata": {},
   "outputs": [],
   "source": [
    "import numpy as np"
   ]
  },
  {
   "cell_type": "code",
   "execution_count": 6,
   "id": "f95f6e6c-1591-442d-acee-ccf2d8c1c4e0",
   "metadata": {},
   "outputs": [
    {
     "data": {
      "text/plain": [
       "array([[0. , 0.5, 0.5, 0. ],\n",
       "       [0.5, 0. , 0.5, 0. ],\n",
       "       [0.4, 0. , 0. , 0.6],\n",
       "       [0. , 0.2, 0.6, 0.2]])"
      ]
     },
     "execution_count": 6,
     "metadata": {},
     "output_type": "execute_result"
    }
   ],
   "source": [
    "P = np.array([\n",
    "    [0,0.5,0.5,0],\n",
    "    [0.5,0,0.5,0],\n",
    "    [0.4,0,0,0.6],\n",
    "    [0,0.2,0.6,0.2]])\n",
    "P"
   ]
  },
  {
   "cell_type": "code",
   "execution_count": 7,
   "id": "ce337a5a-6850-4a2e-99e4-347edfec03f5",
   "metadata": {},
   "outputs": [
    {
     "data": {
      "text/plain": [
       "array([1., 1., 1., 1.])"
      ]
     },
     "execution_count": 7,
     "metadata": {},
     "output_type": "execute_result"
    }
   ],
   "source": [
    "P.sum(axis=1)"
   ]
  },
  {
   "cell_type": "code",
   "execution_count": 13,
   "id": "ca3175e0-8bfb-483a-943c-8df8af2f12be",
   "metadata": {},
   "outputs": [
    {
     "data": {
      "text/plain": [
       "array([0.25, 0.25, 0.25, 0.25])"
      ]
     },
     "execution_count": 13,
     "metadata": {},
     "output_type": "execute_result"
    }
   ],
   "source": [
    "p0 = np.array([.25,.25,.25,.25])\n",
    "p0"
   ]
  },
  {
   "cell_type": "markdown",
   "id": "c7af07bd-7511-4b90-86f6-ec493f7570fe",
   "metadata": {
    "jp-MarkdownHeadingCollapsed": true
   },
   "source": [
    "### test"
   ]
  },
  {
   "cell_type": "code",
   "execution_count": 8,
   "id": "92507385-31dc-40fa-ae60-41d56cccb5c5",
   "metadata": {},
   "outputs": [
    {
     "data": {
      "text/plain": [
       "array([[0.45, 0.  , 0.25, 0.3 ],\n",
       "       [0.2 , 0.25, 0.25, 0.3 ],\n",
       "       [0.  , 0.32, 0.56, 0.12],\n",
       "       [0.34, 0.04, 0.22, 0.4 ]])"
      ]
     },
     "execution_count": 8,
     "metadata": {},
     "output_type": "execute_result"
    }
   ],
   "source": [
    "np.linalg.matrix_power(P, 2)"
   ]
  },
  {
   "cell_type": "code",
   "execution_count": 9,
   "id": "565b2e27-7142-4f09-8e54-78d60805ddd1",
   "metadata": {},
   "outputs": [
    {
     "data": {
      "text/plain": [
       "array([[0.45, 0.  , 0.25, 0.3 ],\n",
       "       [0.2 , 0.25, 0.25, 0.3 ],\n",
       "       [0.  , 0.32, 0.56, 0.12],\n",
       "       [0.34, 0.04, 0.22, 0.4 ]])"
      ]
     },
     "execution_count": 9,
     "metadata": {},
     "output_type": "execute_result"
    }
   ],
   "source": [
    "P@P"
   ]
  },
  {
   "cell_type": "code",
   "execution_count": 10,
   "id": "637821b9-6048-4ef0-b339-b555c770859f",
   "metadata": {},
   "outputs": [
    {
     "data": {
      "text/plain": [
       "array([[0.1  , 0.285, 0.405, 0.21 ],\n",
       "       [0.225, 0.16 , 0.405, 0.21 ],\n",
       "       [0.384, 0.024, 0.232, 0.36 ],\n",
       "       [0.108, 0.25 , 0.43 , 0.212]])"
      ]
     },
     "execution_count": 10,
     "metadata": {},
     "output_type": "execute_result"
    }
   ],
   "source": [
    "np.linalg.matrix_power(P, 3)"
   ]
  },
  {
   "cell_type": "code",
   "execution_count": 11,
   "id": "c3389dc3-77e0-49f8-a2a7-811c70cfd071",
   "metadata": {},
   "outputs": [
    {
     "data": {
      "text/plain": [
       "array([[0.1  , 0.285, 0.405, 0.21 ],\n",
       "       [0.225, 0.16 , 0.405, 0.21 ],\n",
       "       [0.384, 0.024, 0.232, 0.36 ],\n",
       "       [0.108, 0.25 , 0.43 , 0.212]])"
      ]
     },
     "execution_count": 11,
     "metadata": {},
     "output_type": "execute_result"
    }
   ],
   "source": [
    "P@P@P"
   ]
  },
  {
   "cell_type": "markdown",
   "id": "bd79b526-b9c4-4cbf-82aa-fac81d0363e7",
   "metadata": {},
   "source": [
    "### continue"
   ]
  },
  {
   "cell_type": "code",
   "execution_count": 15,
   "id": "6a7ce302-e094-45cf-b5a7-b9baf5f9c4c0",
   "metadata": {},
   "outputs": [
    {
     "data": {
      "text/plain": [
       "0.248"
      ]
     },
     "execution_count": 15,
     "metadata": {},
     "output_type": "execute_result"
    }
   ],
   "source": [
    "(p0@np.linalg.matrix_power(P, 3))[3]"
   ]
  },
  {
   "cell_type": "markdown",
   "id": "e9a01455-bab9-47a9-a84d-0088f0086e3f",
   "metadata": {},
   "source": [
    "### $P(X_3=s,X_5=s,X_6=p) = (\\pi^0P^3)_s*P_{ss}^2*P_{sp}$"
   ]
  },
  {
   "cell_type": "code",
   "execution_count": 17,
   "id": "11cc8120-b001-4916-af35-52c103090d10",
   "metadata": {},
   "outputs": [
    {
     "data": {
      "text/plain": [
       "0.059519999999999997"
      ]
     },
     "execution_count": 17,
     "metadata": {},
     "output_type": "execute_result"
    }
   ],
   "source": [
    "(p0@np.linalg.matrix_power(P, 3))[3]*np.linalg.matrix_power(P, 2)[3,3]*P[3,2]"
   ]
  },
  {
   "cell_type": "markdown",
   "id": "16069271-d35d-4a14-9135-0f884ecaa4d8",
   "metadata": {},
   "source": [
    "### Example 2"
   ]
  },
  {
   "cell_type": "code",
   "execution_count": 21,
   "id": "74ccd484-b300-40a2-9f60-9ad15c0f5ac5",
   "metadata": {},
   "outputs": [
    {
     "name": "stdout",
     "output_type": "stream",
     "text": [
      "['b' 'f' 'p' 's']\n",
      "[1. 1. 1. 1.]\n"
     ]
    },
    {
     "data": {
      "text/plain": [
       "array([[0.1, 0.2, 0.5, 0.2],\n",
       "       [0.5, 0. , 0.3, 0.2],\n",
       "       [0.2, 0.2, 0. , 0.6],\n",
       "       [0.1, 0.2, 0.5, 0.2]])"
      ]
     },
     "execution_count": 21,
     "metadata": {},
     "output_type": "execute_result"
    }
   ],
   "source": [
    "P = np.array([\n",
    "    [0.1,0.2,0.5,0.2],\n",
    "    [0.5,0,0.3,0.2],\n",
    "    [0.2,0.2,0,0.6],\n",
    "    [0.1,0.2,0.5,0.2]])\n",
    "print(np.array(['b','f','p','s']))\n",
    "print(P.sum(axis=1)) \n",
    "P"
   ]
  },
  {
   "cell_type": "markdown",
   "id": "0a9823f8-b3d8-4fcb-8fd3-1d836bd2f267",
   "metadata": {},
   "source": [
    "### $P(X_4=s,X_9=b,X_{30}=p) = (\\pi^0P^4)_s*P_{sb}^5*P_{bp}^{21}$"
   ]
  },
  {
   "cell_type": "code",
   "execution_count": 22,
   "id": "e8664b80-3158-42d4-8ad4-ad96b904fa81",
   "metadata": {},
   "outputs": [
    {
     "data": {
      "text/plain": [
       "0.019715666758712273"
      ]
     },
     "execution_count": 22,
     "metadata": {},
     "output_type": "execute_result"
    }
   ],
   "source": [
    "(p0@np.linalg.matrix_power(P, 4))[3]*np.linalg.matrix_power(P, 5)[3,0]*np.linalg.matrix_power(P, 21)[0,2]"
   ]
  },
  {
   "cell_type": "markdown",
   "id": "236c5645-47d4-4a33-bee5-6164597eee68",
   "metadata": {},
   "source": [
    "### $P(X_4=s,X_9=(b \\lor p),X_{30}=(p\\lor s)) = (\\pi^0P^4)_s*(P_{sb}^5+P_{sp}^5)*(P_{bp}^{21}+P_{bs}^{21}+P_{pp}^{21}+P_{ps}^{21})$"
   ]
  },
  {
   "cell_type": "code",
   "execution_count": 40,
   "id": "b4af4936-0c18-4d9f-934a-11732490bd70",
   "metadata": {},
   "outputs": [
    {
     "data": {
      "text/plain": [
       "0.32489999999999997"
      ]
     },
     "execution_count": 40,
     "metadata": {},
     "output_type": "execute_result"
    }
   ],
   "source": [
    "a = (p0@np.linalg.matrix_power(P, 4))[3]\n",
    "a"
   ]
  },
  {
   "cell_type": "code",
   "execution_count": 42,
   "id": "8aa2018e-6010-409a-8b4e-7bce5056dbfc",
   "metadata": {},
   "outputs": [
    {
     "data": {
      "text/plain": [
       "0.51932"
      ]
     },
     "execution_count": 42,
     "metadata": {},
     "output_type": "execute_result"
    }
   ],
   "source": [
    "b = np.linalg.matrix_power(P, 5)[3,0] + np.linalg.matrix_power(P, 5)[3,2]\n",
    "b"
   ]
  },
  {
   "cell_type": "code",
   "execution_count": 26,
   "id": "ee6fbaf4-0431-4c0c-be4a-f7fcb0158a18",
   "metadata": {},
   "outputs": [
    {
     "data": {
      "text/plain": [
       "array([[0.19777774, 0.16666667, 0.31111131, 0.32444428],\n",
       "       [0.1977778 , 0.16666667, 0.31111099, 0.32444454],\n",
       "       [0.19777783, 0.16666667, 0.31111084, 0.32444466],\n",
       "       [0.19777774, 0.16666667, 0.31111131, 0.32444428]])"
      ]
     },
     "execution_count": 26,
     "metadata": {},
     "output_type": "execute_result"
    }
   ],
   "source": [
    "np.linalg.matrix_power(P, 21) # ESTAS SON PROBABILIDADES NO CONDICIONADAS"
   ]
  },
  {
   "cell_type": "code",
   "execution_count": 27,
   "id": "c5af8cad-768f-4f41-82cd-ca1a02fa75da",
   "metadata": {},
   "outputs": [
    {
     "data": {
      "text/plain": [
       "(0.31111131244235535,\n",
       " 0.3244442833794492,\n",
       " 0.31111083560519714,\n",
       " 0.3244446648491757)"
      ]
     },
     "execution_count": 27,
     "metadata": {},
     "output_type": "execute_result"
    }
   ],
   "source": [
    "np.linalg.matrix_power(P, 21)[0,2] , np.linalg.matrix_power(P, 21)[0,3] , np.linalg.matrix_power(P, 21)[2,2] , np.linalg.matrix_power(P, 21)[2,3]"
   ]
  },
  {
   "cell_type": "code",
   "execution_count": 43,
   "id": "ffab2677-c058-4766-811a-8624ebd228f7",
   "metadata": {},
   "outputs": [
    {
     "data": {
      "text/plain": [
       "1.2711110962761774"
      ]
     },
     "execution_count": 43,
     "metadata": {},
     "output_type": "execute_result"
    }
   ],
   "source": [
    "c = np.linalg.matrix_power(P, 21)[0,2] + np.linalg.matrix_power(P, 21)[0,3] + np.linalg.matrix_power(P, 21)[2,2] + np.linalg.matrix_power(P, 21)[2,3]\n",
    "c"
   ]
  },
  {
   "cell_type": "code",
   "execution_count": 49,
   "id": "ed567d26-0191-4e87-80f0-f25152ae6a7a",
   "metadata": {},
   "outputs": [
    {
     "data": {
      "text/plain": [
       "((0.32489999999999997, 0.51932, 1.2711110962761774), 0.2144708483769451)"
      ]
     },
     "execution_count": 49,
     "metadata": {},
     "output_type": "execute_result"
    }
   ],
   "source": [
    "(a,b,c),a*b*c "
   ]
  },
  {
   "cell_type": "code",
   "execution_count": 47,
   "id": "c5f87664-bcc3-4132-b360-451fd8476036",
   "metadata": {},
   "outputs": [
    {
     "data": {
      "text/plain": [
       "array([[0.19505, 0.16672, 0.32427, 0.31396],\n",
       "       [0.19975, 0.1664 , 0.30365, 0.3302 ],\n",
       "       [0.2013 , 0.16672, 0.29302, 0.33896],\n",
       "       [0.19505, 0.16672, 0.32427, 0.31396]])"
      ]
     },
     "execution_count": 47,
     "metadata": {},
     "output_type": "execute_result"
    }
   ],
   "source": [
    "np.linalg.matrix_power(P, 5)"
   ]
  },
  {
   "cell_type": "code",
   "execution_count": null,
   "id": "2bb592a5-ffed-4dd5-878d-409801b89511",
   "metadata": {},
   "outputs": [],
   "source": []
  },
  {
   "cell_type": "code",
   "execution_count": 46,
   "id": "51d6fdd2-8d80-4337-bd08-fabd5f4e14de",
   "metadata": {},
   "outputs": [
    {
     "data": {
      "text/plain": [
       "(0.06337174500000001, 0.10535532299999997)"
      ]
     },
     "execution_count": 46,
     "metadata": {},
     "output_type": "execute_result"
    }
   ],
   "source": [
    "np.linalg.matrix_power(P, 5)[3,0]*a, np.linalg.matrix_power(P, 5)[3,2]*a"
   ]
  },
  {
   "cell_type": "code",
   "execution_count": 48,
   "id": "d0f2ecc3-3ab4-46be-bf81-92c1394f1866",
   "metadata": {},
   "outputs": [
    {
     "data": {
      "text/plain": [
       "0.16872706799999998"
      ]
     },
     "execution_count": 48,
     "metadata": {},
     "output_type": "execute_result"
    }
   ],
   "source": [
    "(np.linalg.matrix_power(P, 5)[3,0] + np.linalg.matrix_power(P, 5)[3,2])*a"
   ]
  },
  {
   "cell_type": "code",
   "execution_count": 50,
   "id": "e9438a7c-df0f-41bb-8a59-334f2cf1c090",
   "metadata": {},
   "outputs": [
    {
     "data": {
      "text/plain": [
       "(0.01971566675871227, 0.020560600393030194)"
      ]
     },
     "execution_count": 50,
     "metadata": {},
     "output_type": "execute_result"
    }
   ],
   "source": [
    "np.linalg.matrix_power(P, 21)[0,2]*np.linalg.matrix_power(P, 5)[3,0]*a , np.linalg.matrix_power(P, 21)[0,3]*np.linalg.matrix_power(P, 5)[3,0]*a"
   ]
  },
  {
   "cell_type": "code",
   "execution_count": 51,
   "id": "7d3a6cf9-1ae7-4cec-ac5d-873d98e50d83",
   "metadata": {},
   "outputs": [
    {
     "data": {
      "text/plain": [
       "(0.03277718257398544, 0.034181972460811644)"
      ]
     },
     "execution_count": 51,
     "metadata": {},
     "output_type": "execute_result"
    }
   ],
   "source": [
    "np.linalg.matrix_power(P, 21)[2,2]*np.linalg.matrix_power(P, 5)[3,2]*a , np.linalg.matrix_power(P, 21)[2,3]*np.linalg.matrix_power(P, 5)[3,2]*a"
   ]
  },
  {
   "cell_type": "code",
   "execution_count": null,
   "id": "b7cd9301-cc55-4de8-aaf1-9f5131c4fe68",
   "metadata": {},
   "outputs": [],
   "source": [
    "(p0@np.linalg.matrix_power(P, 4))[3]*np.linalg.matrix_power(P, 5)[3,0]*np.linalg.matrix_power(P, 21)[0,2]"
   ]
  },
  {
   "cell_type": "markdown",
   "id": "21383bbd-2ae6-4d12-a7fd-ab86a1c3144a",
   "metadata": {},
   "source": [
    "### 4 paths"
   ]
  },
  {
   "cell_type": "code",
   "execution_count": 54,
   "id": "3fdf334c-757d-4774-816b-c74b48020f4c",
   "metadata": {},
   "outputs": [
    {
     "data": {
      "text/plain": [
       "0.040445748811350005"
      ]
     },
     "execution_count": 54,
     "metadata": {},
     "output_type": "execute_result"
    }
   ],
   "source": [
    "sbps = (p0@np.linalg.matrix_power(P, 4))[3]*np.linalg.matrix_power(P, 5)[3,0]*(np.linalg.matrix_power(P, 5)[0,2] + np.linalg.matrix_power(P, 5)[0,3])\n",
    "sbps"
   ]
  },
  {
   "cell_type": "code",
   "execution_count": 55,
   "id": "3349d0c5-9177-4a3f-a5a8-c50b7b96727e",
   "metadata": {},
   "outputs": [
    {
     "data": {
      "text/plain": [
       "0.06658245702953998"
      ]
     },
     "execution_count": 55,
     "metadata": {},
     "output_type": "execute_result"
    }
   ],
   "source": [
    "spps = (p0@np.linalg.matrix_power(P, 4))[3]*np.linalg.matrix_power(P, 5)[3,2]*(np.linalg.matrix_power(P, 5)[2,2] + np.linalg.matrix_power(P, 5)[2,3])\n",
    "spps"
   ]
  },
  {
   "cell_type": "code",
   "execution_count": 56,
   "id": "ee50e52b-6986-4d79-9e8a-1f4fc664d8bc",
   "metadata": {},
   "outputs": [
    {
     "data": {
      "text/plain": [
       "0.10702820584088998"
      ]
     },
     "execution_count": 56,
     "metadata": {},
     "output_type": "execute_result"
    }
   ],
   "source": [
    "sbps+spps"
   ]
  },
  {
   "cell_type": "code",
   "execution_count": null,
   "id": "22fce035-b9ae-46f4-9f0f-190da703c1a6",
   "metadata": {},
   "outputs": [],
   "source": []
  },
  {
   "cell_type": "code",
   "execution_count": null,
   "id": "f0383573-6895-4d9b-88e3-7f9ae3ece77d",
   "metadata": {},
   "outputs": [],
   "source": []
  },
  {
   "cell_type": "code",
   "execution_count": null,
   "id": "3976221e-88e5-47fd-ae4e-41511d6be96c",
   "metadata": {},
   "outputs": [],
   "source": []
  }
 ],
 "metadata": {
  "kernelspec": {
   "display_name": "Python 3",
   "language": "python",
   "name": "python3"
  },
  "language_info": {
   "codemirror_mode": {
    "name": "ipython",
    "version": 3
   },
   "file_extension": ".py",
   "mimetype": "text/x-python",
   "name": "python",
   "nbconvert_exporter": "python",
   "pygments_lexer": "ipython3",
   "version": "3.9.0"
  }
 },
 "nbformat": 4,
 "nbformat_minor": 5
}

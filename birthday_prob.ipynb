{
 "cells": [
  {
   "cell_type": "code",
   "execution_count": 1,
   "id": "39bbd61a-8604-4b9c-804f-ce0e77feb1a5",
   "metadata": {},
   "outputs": [],
   "source": [
    "import numpy as np"
   ]
  },
  {
   "cell_type": "code",
   "execution_count": 23,
   "id": "3cb24bd1-ac47-499c-b809-26a4e3a73d82",
   "metadata": {},
   "outputs": [],
   "source": [
    "def fac(n):\n",
    "    f = n\n",
    "    while n > 1:\n",
    "        #print(n-1)\n",
    "        f *= n-1\n",
    "        n -= 1\n",
    "    return f"
   ]
  },
  {
   "cell_type": "code",
   "execution_count": 75,
   "id": "9283a685-d6a9-4a3f-a3a7-5ff4c2c8c551",
   "metadata": {},
   "outputs": [],
   "source": [
    "def combinations(n,k):\n",
    "    if n == k:\n",
    "        return int(1)\n",
    "    else:\n",
    "        c = fac(n) / (fac(n-k)*fac(k))\n",
    "        return int(c)"
   ]
  },
  {
   "cell_type": "code",
   "execution_count": 101,
   "id": "c333e618-8807-4d3d-aa88-da7d55b62302",
   "metadata": {},
   "outputs": [],
   "source": [
    "def prob(n):\n",
    "    \n",
    "    if n == 1:\n",
    "        print(f'P{n}:',0)\n",
    "    else:\n",
    "        r = 1/365\n",
    "        p = 0\n",
    "        for k in np.arange(1,n):\n",
    "            k = k+1\n",
    "            print(n,k)\n",
    "            j = combinations(n,k)*( (1/(k-1)) * r)\n",
    "            print(j)\n",
    "            p += j\n",
    "        print(f'P{n}:',p*100)\n",
    "        #return p"
   ]
  },
  {
   "cell_type": "code",
   "execution_count": 131,
   "id": "aad43d78-5c9e-4293-af39-0c380d08a205",
   "metadata": {},
   "outputs": [],
   "source": [
    "def prob_1(n):\n",
    "    \n",
    "    if n == 1:\n",
    "        print(f'P{n}:',0)\n",
    "    else:\n",
    "        r = 1/365\n",
    "        p = combinations(n,2) * r\n",
    "\n",
    "        print(f'P{n}:',p*100)"
   ]
  },
  {
   "cell_type": "code",
   "execution_count": 144,
   "id": "c1293ce2-67f3-4a75-b410-9700ee75952e",
   "metadata": {},
   "outputs": [],
   "source": [
    "def negative(n):\n",
    "    c = combinations(n,2)\n",
    "    p = (364/365)**c\n",
    "    print(f'P{n}:',(1-p)*100)"
   ]
  },
  {
   "cell_type": "code",
   "execution_count": 145,
   "id": "e687aa51-07d2-41ce-8661-ebad8aa5e36d",
   "metadata": {},
   "outputs": [],
   "source": [
    "def positive(n):\n",
    "    c = combinations(n,2)\n",
    "    p = (1/365)**c\n",
    "    print(f'P{n}:',(p)*100)"
   ]
  },
  {
   "cell_type": "code",
   "execution_count": 230,
   "id": "f5296e6b-aff6-4849-9755-e5bda332eea0",
   "metadata": {},
   "outputs": [],
   "source": [
    "def econ(n):\n",
    "    k = 365 - (n)\n",
    "    #print(k)\n",
    "    #print(fac(365)/fac(k))\n",
    "    p = (fac(365)/fac(k)) / (365**n)\n",
    "    \n",
    "    print(f'P{n}:',(1-p)*100)"
   ]
  },
  {
   "cell_type": "code",
   "execution_count": 231,
   "id": "b48cebe6-b9c6-48f9-a4d4-b2950878fb6f",
   "metadata": {},
   "outputs": [
    {
     "data": {
      "text/plain": [
       "0.9437642969040246"
      ]
     },
     "execution_count": 231,
     "metadata": {},
     "output_type": "execute_result"
    }
   ],
   "source": [
    "(fac(365) / fac(358)) / (365**7)"
   ]
  },
  {
   "cell_type": "code",
   "execution_count": 232,
   "id": "ee2954ce-849d-4315-94a4-4b06beca3677",
   "metadata": {},
   "outputs": [
    {
     "data": {
      "text/plain": [
       "0.056235703095975365"
      ]
     },
     "execution_count": 232,
     "metadata": {},
     "output_type": "execute_result"
    }
   ],
   "source": [
    "1 - (fac(365) / fac(358)) / (365**7)"
   ]
  },
  {
   "cell_type": "code",
   "execution_count": 233,
   "id": "b7d56257-460b-4a10-9c61-09ff359c3774",
   "metadata": {},
   "outputs": [
    {
     "data": {
      "text/plain": [
       "253"
      ]
     },
     "execution_count": 233,
     "metadata": {},
     "output_type": "execute_result"
    }
   ],
   "source": [
    "combinations(23,2)"
   ]
  },
  {
   "cell_type": "code",
   "execution_count": 236,
   "id": "f5d28676-c8f4-4ec5-813d-4bae3c40949f",
   "metadata": {},
   "outputs": [
    {
     "name": "stdout",
     "output_type": "stream",
     "text": [
      "P1: 0\n",
      "P1: 0.0\n",
      "P1: 0.0\n",
      "\n",
      "P2: 0.273972602739726\n",
      "P2: 0.2739726027397249\n",
      "P2: 0.2739726027397249\n",
      "\n",
      "P3: 0.8219178082191781\n",
      "P3: 0.8196680350730179\n",
      "P3: 0.8204165884781345\n",
      "\n",
      "P4: 1.6438356164383563\n",
      "P4: 1.6326175132688192\n",
      "P4: 1.6355912466550326\n",
      "\n",
      "P5: 2.73972602739726\n",
      "P5: 2.706194179780841\n",
      "P5: 2.713557369979358\n",
      "\n",
      "P5: 2.73972602739726\n",
      "P5: 2.706194179780841\n",
      "P5: 2.713557369979358\n",
      "\n",
      "P6: 4.10958904109589\n",
      "P6: 4.0317030519740005\n",
      "P6: 4.046248364911154\n",
      "\n",
      "P7: 5.7534246575342465\n",
      "P7: 5.598498275133313\n",
      "P7: 5.623570309597536\n",
      "\n",
      "P8: 7.671232876712329\n",
      "P8: 7.394125468301205\n",
      "P8: 7.433529235166903\n",
      "\n",
      "P9: 9.863013698630137\n",
      "P9: 9.404486501284048\n",
      "P9: 9.462383388916674\n",
      "\n"
     ]
    }
   ],
   "source": [
    "for i in [1,2,3,4,5,5,6,7,8,9]:\n",
    "    prob_1(i)\n",
    "    negative(i)\n",
    "    #positive(i)\n",
    "    econ(i)\n",
    "    print('')"
   ]
  },
  {
   "cell_type": "code",
   "execution_count": null,
   "id": "8a2c6211-4074-4a35-a040-29c803f12ae4",
   "metadata": {},
   "outputs": [],
   "source": []
  },
  {
   "cell_type": "code",
   "execution_count": null,
   "id": "4f2bd1bc-adff-46b3-8148-2089ce94577e",
   "metadata": {},
   "outputs": [],
   "source": []
  }
 ],
 "metadata": {
  "kernelspec": {
   "display_name": "Python 3",
   "language": "python",
   "name": "python3"
  },
  "language_info": {
   "codemirror_mode": {
    "name": "ipython",
    "version": 3
   },
   "file_extension": ".py",
   "mimetype": "text/x-python",
   "name": "python",
   "nbconvert_exporter": "python",
   "pygments_lexer": "ipython3",
   "version": "3.9.0"
  }
 },
 "nbformat": 4,
 "nbformat_minor": 5
}

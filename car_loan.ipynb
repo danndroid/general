{
 "cells": [
  {
   "cell_type": "code",
   "execution_count": 1,
   "id": "3fcd5d2c-80de-479e-bf12-d787ddbe7f4b",
   "metadata": {},
   "outputs": [],
   "source": [
    "import numpy as np"
   ]
  },
  {
   "cell_type": "code",
   "execution_count": 34,
   "id": "4f08bcc9-44cc-4d5a-8fde-1faac8c7e1a4",
   "metadata": {},
   "outputs": [],
   "source": [
    "final = 10035.84\n",
    "initial = 8000.09\n",
    "\n",
    "rate1 = 0.1014\n",
    "rate2 = 0.1134\n",
    "\n",
    "p_rate1 = 0.0514\n",
    "p_rate2 = 0.0624\n"
   ]
  },
  {
   "cell_type": "code",
   "execution_count": 41,
   "id": "afe80db5-7026-4222-81f7-5bbaa19c15e0",
   "metadata": {},
   "outputs": [
    {
     "data": {
      "text/plain": [
       "0.0636164718146921"
      ]
     },
     "execution_count": 41,
     "metadata": {},
     "output_type": "execute_result"
    }
   ],
   "source": [
    "true_rate = ((final/initial)-1)/4\n",
    "true_rate"
   ]
  },
  {
   "cell_type": "code",
   "execution_count": 42,
   "id": "9dd7d8ec-ff7c-4868-b882-addd343e7c85",
   "metadata": {},
   "outputs": [
    {
     "name": "stdout",
     "output_type": "stream",
     "text": [
      "10035.84\n"
     ]
    },
    {
     "data": {
      "text/plain": [
       "209.08"
      ]
     },
     "execution_count": 42,
     "metadata": {},
     "output_type": "execute_result"
    }
   ],
   "source": [
    "print(initial*(1+true_rate*4))\n",
    "initial*(1+true_rate*4) / 48"
   ]
  },
  {
   "cell_type": "code",
   "execution_count": 43,
   "id": "5a7416a3-d049-46c5-af75-930800eb6897",
   "metadata": {},
   "outputs": [
    {
     "name": "stdout",
     "output_type": "stream",
     "text": [
      "9644.908504\n"
     ]
    },
    {
     "data": {
      "text/plain": [
       "200.93559383333334"
      ]
     },
     "execution_count": 43,
     "metadata": {},
     "output_type": "execute_result"
    }
   ],
   "source": [
    "print(initial*(1+p_rate1*4))\n",
    "initial*(1+p_rate1*4) /48"
   ]
  },
  {
   "cell_type": "code",
   "execution_count": 44,
   "id": "91b8b205-c302-4b18-8e49-08860f4246ef",
   "metadata": {},
   "outputs": [
    {
     "name": "stdout",
     "output_type": "stream",
     "text": [
      "9996.912464\n"
     ]
    },
    {
     "data": {
      "text/plain": [
       "208.26900966666668"
      ]
     },
     "execution_count": 44,
     "metadata": {},
     "output_type": "execute_result"
    }
   ],
   "source": [
    "print(initial*(1+p_rate2*4))\n",
    "initial*(1+p_rate2*4) /48"
   ]
  },
  {
   "cell_type": "code",
   "execution_count": null,
   "id": "177a7269-ec3c-4a99-9185-8aa6e0088319",
   "metadata": {},
   "outputs": [],
   "source": []
  }
 ],
 "metadata": {
  "kernelspec": {
   "display_name": "Python 3",
   "language": "python",
   "name": "python3"
  },
  "language_info": {
   "codemirror_mode": {
    "name": "ipython",
    "version": 3
   },
   "file_extension": ".py",
   "mimetype": "text/x-python",
   "name": "python",
   "nbconvert_exporter": "python",
   "pygments_lexer": "ipython3",
   "version": "3.9.0"
  }
 },
 "nbformat": 4,
 "nbformat_minor": 5
}

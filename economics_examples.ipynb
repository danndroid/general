{
 "cells": [
  {
   "cell_type": "code",
   "execution_count": 4,
   "id": "096f90b8-d8a2-4869-a899-18b0c050d8d6",
   "metadata": {},
   "outputs": [],
   "source": [
    "import sys\n",
    "import numpy as np\n",
    "import pandas as pd\n"
   ]
  },
  {
   "cell_type": "code",
   "execution_count": 5,
   "id": "f560da3f-0baa-436f-b3e7-e571433c5539",
   "metadata": {},
   "outputs": [
    {
     "name": "stdout",
     "output_type": "stream",
     "text": [
      "The autoreload extension is already loaded. To reload it, use:\n",
      "  %reload_ext autoreload\n"
     ]
    }
   ],
   "source": [
    "from libs import decisions as dc\n",
    "%load_ext autoreload\n",
    "%autoreload 2\n",
    "from libs import decisions as dc"
   ]
  },
  {
   "cell_type": "code",
   "execution_count": 13,
   "id": "59586379-f3a2-4cc2-9d51-09828dfff2a1",
   "metadata": {},
   "outputs": [],
   "source": [
    "c1=[10,10,20]\n",
    "c2=[20,10,30]\n",
    "idx = ['x','y','z']"
   ]
  },
  {
   "cell_type": "code",
   "execution_count": 14,
   "id": "e0be567a-b835-41ba-82b8-5abb587467a1",
   "metadata": {},
   "outputs": [
    {
     "data": {
      "text/html": [
       "<div>\n",
       "<style scoped>\n",
       "    .dataframe tbody tr th:only-of-type {\n",
       "        vertical-align: middle;\n",
       "    }\n",
       "\n",
       "    .dataframe tbody tr th {\n",
       "        vertical-align: top;\n",
       "    }\n",
       "\n",
       "    .dataframe thead th {\n",
       "        text-align: right;\n",
       "    }\n",
       "</style>\n",
       "<table border=\"1\" class=\"dataframe\">\n",
       "  <thead>\n",
       "    <tr style=\"text-align: right;\">\n",
       "      <th></th>\n",
       "      <th>e1</th>\n",
       "      <th>e2</th>\n",
       "    </tr>\n",
       "  </thead>\n",
       "  <tbody>\n",
       "    <tr>\n",
       "      <th>x</th>\n",
       "      <td>10</td>\n",
       "      <td>20</td>\n",
       "    </tr>\n",
       "    <tr>\n",
       "      <th>y</th>\n",
       "      <td>10</td>\n",
       "      <td>10</td>\n",
       "    </tr>\n",
       "    <tr>\n",
       "      <th>z</th>\n",
       "      <td>20</td>\n",
       "      <td>30</td>\n",
       "    </tr>\n",
       "  </tbody>\n",
       "</table>\n",
       "</div>"
      ],
      "text/plain": [
       "   e1  e2\n",
       "x  10  20\n",
       "y  10  10\n",
       "z  20  30"
      ]
     },
     "execution_count": 14,
     "metadata": {},
     "output_type": "execute_result"
    }
   ],
   "source": [
    "A = pd.DataFrame({'e1':c1,\n",
    "                  'e2':c2,}, index = idx)\n",
    "A"
   ]
  },
  {
   "cell_type": "code",
   "execution_count": 15,
   "id": "0bd9d16f-464b-49a5-9113-227d93cf6c87",
   "metadata": {},
   "outputs": [
    {
     "name": "stdout",
     "output_type": "stream",
     "text": [
      "Strategy:y \n",
      "Value:10\n"
     ]
    },
    {
     "data": {
      "text/plain": [
       "('y', 10)"
      ]
     },
     "execution_count": 15,
     "metadata": {},
     "output_type": "execute_result"
    }
   ],
   "source": [
    "dc.min_max_cost(A)"
   ]
  },
  {
   "cell_type": "code",
   "execution_count": 16,
   "id": "4f4dedf4-82c0-4cd6-83aa-a26d57ce5247",
   "metadata": {},
   "outputs": [
    {
     "name": "stdout",
     "output_type": "stream",
     "text": [
      "Strategy:z \n",
      "Value:30\n"
     ]
    },
    {
     "data": {
      "text/plain": [
       "('z', 30)"
      ]
     },
     "execution_count": 16,
     "metadata": {},
     "output_type": "execute_result"
    }
   ],
   "source": [
    "dc.max_max_gain(A)"
   ]
  },
  {
   "cell_type": "code",
   "execution_count": 25,
   "id": "bca55a43-a014-4d4e-862a-ebda1295d92b",
   "metadata": {},
   "outputs": [
    {
     "name": "stdout",
     "output_type": "stream",
     "text": [
      "Regret Matrix:\n",
      "   e1  e2  maxR\n",
      "x  10  10    10\n",
      "y  10  20    20\n",
      "z   0   0     0\n",
      "\n",
      "Strategy:z \n",
      "Value:0\n"
     ]
    },
    {
     "data": {
      "text/plain": [
       "('z', 0)"
      ]
     },
     "execution_count": 25,
     "metadata": {},
     "output_type": "execute_result"
    }
   ],
   "source": [
    "dc.savage_regret(A)"
   ]
  },
  {
   "cell_type": "code",
   "execution_count": 26,
   "id": "ec47346a-f21c-48c7-9ac9-0ea182cea165",
   "metadata": {},
   "outputs": [
    {
     "name": "stdout",
     "output_type": "stream",
     "text": [
      "Strategy:z \n",
      "Value:25.0\n"
     ]
    },
    {
     "data": {
      "text/plain": [
       "('z', 25.0)"
      ]
     },
     "execution_count": 26,
     "metadata": {},
     "output_type": "execute_result"
    }
   ],
   "source": [
    "dc.laplace(A)"
   ]
  },
  {
   "cell_type": "code",
   "execution_count": 27,
   "id": "6cd42005-7132-4968-95c3-95bb007f87d2",
   "metadata": {},
   "outputs": [
    {
     "name": "stdout",
     "output_type": "stream",
     "text": [
      "Matrix:\n",
      "   e1  e2  min  max   hwz\n",
      "x  10  20   10   20  15.0\n",
      "y  10  10   10   10  10.0\n",
      "z  20  30   20   30  25.0\n",
      "\n",
      "Strategy:z \n",
      "Value:25.0\n"
     ]
    },
    {
     "data": {
      "text/plain": [
       "('z', 25.0)"
      ]
     },
     "execution_count": 27,
     "metadata": {},
     "output_type": "execute_result"
    }
   ],
   "source": [
    "dc.hurwicz(A, alpha=0.5)"
   ]
  },
  {
   "cell_type": "code",
   "execution_count": null,
   "id": "200cbb07-7b3b-4317-93db-9c29a3a50212",
   "metadata": {},
   "outputs": [],
   "source": []
  }
 ],
 "metadata": {
  "kernelspec": {
   "display_name": "Python 3",
   "language": "python",
   "name": "python3"
  },
  "language_info": {
   "codemirror_mode": {
    "name": "ipython",
    "version": 3
   },
   "file_extension": ".py",
   "mimetype": "text/x-python",
   "name": "python",
   "nbconvert_exporter": "python",
   "pygments_lexer": "ipython3",
   "version": "3.9.0"
  }
 },
 "nbformat": 4,
 "nbformat_minor": 5
}

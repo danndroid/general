{
 "cells": [
  {
   "cell_type": "code",
   "execution_count": 59,
   "id": "29b680a0-d335-4a69-b5b7-bc1e32e4ccdd",
   "metadata": {},
   "outputs": [],
   "source": [
    "def hierarchy_pos(G, root=None, width=1., vert_gap = 0.2, vert_loc = 0, xcenter = 0.5):\n",
    "\n",
    "    '''\n",
    "    From Joel's answer at https://stackoverflow.com/a/29597209/2966723.  \n",
    "    Licensed under Creative Commons Attribution-Share Alike \n",
    "    \n",
    "    If the graph is a tree this will return the positions to plot this in a \n",
    "    hierarchical layout.\n",
    "    \n",
    "    G: the graph (must be a tree)\n",
    "    \n",
    "    root: the root node of current branch \n",
    "    - if the tree is directed and this is not given, \n",
    "      the root will be found and used\n",
    "    - if the tree is directed and this is given, then \n",
    "      the positions will be just for the descendants of this node.\n",
    "    - if the tree is undirected and not given, \n",
    "      then a random choice will be used.\n",
    "    \n",
    "    width: horizontal space allocated for this branch - avoids overlap with other branches\n",
    "    \n",
    "    vert_gap: gap between levels of hierarchy\n",
    "    \n",
    "    vert_loc: vertical location of root\n",
    "    \n",
    "    xcenter: horizontal location of root\n",
    "    '''\n",
    "    if not nx.is_tree(G):\n",
    "        raise TypeError('cannot use hierarchy_pos on a graph that is not a tree')\n",
    "\n",
    "    if root is None:\n",
    "        if isinstance(G, nx.DiGraph):\n",
    "            root = next(iter(nx.topological_sort(G)))  #allows back compatibility with nx version 1.11\n",
    "        else:\n",
    "            root = random.choice(list(G.nodes))\n",
    "\n",
    "    def _hierarchy_pos(G, root, width=1., vert_gap = 0.2, vert_loc = 0, xcenter = 0.5, pos = None, parent = None):\n",
    "        '''\n",
    "        see hierarchy_pos docstring for most arguments\n",
    "\n",
    "        pos: a dict saying where all nodes go if they have been assigned\n",
    "        parent: parent of this branch. - only affects it if non-directed\n",
    "\n",
    "        '''\n",
    "    \n",
    "        if pos is None:\n",
    "            pos = {root:(xcenter,vert_loc)}\n",
    "        else:\n",
    "            pos[root] = (xcenter, vert_loc)\n",
    "        children = list(G.neighbors(root))\n",
    "        if not isinstance(G, nx.DiGraph) and parent is not None:\n",
    "            children.remove(parent)  \n",
    "        if len(children)!=0:\n",
    "            dx = width/len(children) \n",
    "            nextx = xcenter - width/2 - dx/2\n",
    "            for child in children:\n",
    "                nextx += dx\n",
    "                pos = _hierarchy_pos(G,child, width = dx, vert_gap = vert_gap, \n",
    "                                    vert_loc = vert_loc-vert_gap, xcenter=nextx,\n",
    "                                    pos=pos, parent = root)\n",
    "        return pos\n",
    "\n",
    "            \n",
    "    return _hierarchy_pos(G, root, width, vert_gap, vert_loc, xcenter)"
   ]
  },
  {
   "cell_type": "code",
   "execution_count": 65,
   "id": "e390359a-6037-4381-9966-d4960563d1dd",
   "metadata": {},
   "outputs": [
    {
     "data": {
      "image/png": "[encoded data removed]",
      "text/plain": [
       "<Figure size 432x288 with 1 Axes>"
      ]
     },
     "metadata": {},
     "output_type": "display_data"
    }
   ],
   "source": [
    "import matplotlib.pyplot as plt\n",
    "import networkx as nx\n",
    "G=nx.Graph()\n",
    "G.add_edges_from([('DES',2), ('DES',3), ('DES',4), (2,5), (2,6), (2,7), (3,8), (3,9), (4,10),\n",
    "                  (5,11), (5,12), (6,13)])\n",
    "pos = hierarchy_pos(G,'DES')    \n",
    "nx.draw(G, pos=pos, with_labels=True, node_size=1000)"
   ]
  },
  {
   "cell_type": "code",
   "execution_count": 1,
   "id": "b417fefb-c91f-417d-91b9-bd936eecdbc7",
   "metadata": {},
   "outputs": [],
   "source": [
    "import numpy as np"
   ]
  },
  {
   "cell_type": "code",
   "execution_count": 561,
   "id": "e8654f8e-92fd-4889-8a98-4cd85e41846a",
   "metadata": {},
   "outputs": [],
   "source": [
    "class Node:\n",
    "    def __init__(self, node_type, value=None):\n",
    "        \n",
    "        self.type = node_type\n",
    "        self.children = []\n",
    "        self.level = 1\n",
    "        \n",
    "        if isinstance(value, list):\n",
    "            self.probs = value\n",
    "            self.value = 0\n",
    "        else:\n",
    "            self.value = value\n",
    "        \n",
    "        \n",
    "    def describe(self):\n",
    "        print(' '*4*self.level, self.level, 'DESCRIBE:',self.type, '->',self.value)\n",
    "        for c in self.children:\n",
    "            c.level = self.level + 1 \n",
    "            c.describe()\n",
    "        \n",
    "        #self.level = 1\n",
    "    \n",
    "    \n",
    "    def compute(self):\n",
    "        val = 0\n",
    "        \n",
    "        if self.type == \"T\":\n",
    "            print(' '*4*self.level + 'TYPE T')\n",
    "            val = self.value\n",
    "            print(' '*4*self.level + 'val', val)\n",
    "            \n",
    "        elif self.type == \"C\":\n",
    "            print(' '*4*self.level + 'TYPE C')\n",
    "            \n",
    "            c_values = []\n",
    "            for c in self.children:\n",
    "                c.level += 1\n",
    "                c_values.append(c.compute())\n",
    "                \n",
    "            for p,v in zip(self.probs, c_values):\n",
    "                val += p*v\n",
    "            print(' '*4*self.level + 'val:',val)\n",
    "                    \n",
    "        elif self.type == \"D\":\n",
    "            print('TYPE D')\n",
    "            val = [c.compute for c in self.children]\n",
    "        \n",
    "        #self.level = 1\n",
    "            \n",
    "        self.value = val\n",
    "        \n",
    "        return val\n",
    "    "
   ]
  },
  {
   "cell_type": "code",
   "execution_count": 584,
   "id": "48a86a5a-8916-4f66-8405-baeed4c95c4a",
   "metadata": {},
   "outputs": [],
   "source": [
    "class EasyNode():\n",
    "    def __init__(self, probs, values):\n",
    "        self.probs = probs\n",
    "        self.values = values\n",
    "            \n",
    "    def compute(self):\n",
    "        val = 0\n",
    "\n",
    "        for p,v in zip(self.probs, self.values):\n",
    "            val += p*v\n",
    "            \n",
    "        self.value = val\n",
    "        \n",
    "        return val\n",
    "        "
   ]
  },
  {
   "cell_type": "code",
   "execution_count": 585,
   "id": "0876d611-cc84-4ae8-b256-d76519741c72",
   "metadata": {},
   "outputs": [],
   "source": [
    "t_nodes_1 = [\n",
    "['T', 110],\n",
    "['T', -15],\n",
    "]"
   ]
  },
  {
   "cell_type": "code",
   "execution_count": 586,
   "id": "f5ebc2f7-7cd5-4692-af60-fd095901a4aa",
   "metadata": {},
   "outputs": [],
   "source": [
    "c_nodes = [\n",
    "    ['C', [.05, .95]],\n",
    "]"
   ]
  },
  {
   "cell_type": "code",
   "execution_count": 587,
   "id": "4c8fda7f-71ec-4060-8ae5-14f9d64b3f86",
   "metadata": {},
   "outputs": [
    {
     "name": "stdout",
     "output_type": "stream",
     "text": [
      "     1 DESCRIBE: T -> 110\n",
      "    TYPE T\n",
      "    val 110\n",
      "\n",
      "     1 DESCRIBE: T -> -15\n",
      "    TYPE T\n",
      "    val -15\n",
      "\n"
     ]
    }
   ],
   "source": [
    "for i in t_nodes:\n",
    "    n = Node(*i)\n",
    "    n.describe()\n",
    "    n.compute()\n",
    "    print('')"
   ]
  },
  {
   "cell_type": "code",
   "execution_count": 588,
   "id": "df5df06c-c639-4b2a-961c-5548c5f7bea0",
   "metadata": {},
   "outputs": [
    {
     "name": "stdout",
     "output_type": "stream",
     "text": [
      "     1 DESCRIBE: C -> 0\n",
      "         2 DESCRIBE: T -> 110\n",
      "         2 DESCRIBE: T -> -15\n"
     ]
    }
   ],
   "source": [
    "c = Node(*['C', [.05, .95]])\n",
    "for i in t_nodes:\n",
    "    n = Node(*i)\n",
    "    c.children.append(n)\n",
    "    \n",
    "c.describe()"
   ]
  },
  {
   "cell_type": "code",
   "execution_count": 589,
   "id": "0bbcab19-f447-42e4-8fb2-05c960d41e89",
   "metadata": {},
   "outputs": [
    {
     "name": "stdout",
     "output_type": "stream",
     "text": [
      "    TYPE C\n",
      "            TYPE T\n",
      "            val 110\n",
      "            TYPE T\n",
      "            val -15\n",
      "    val: -8.75\n"
     ]
    },
    {
     "data": {
      "text/plain": [
       "-8.75"
      ]
     },
     "execution_count": 589,
     "metadata": {},
     "output_type": "execute_result"
    }
   ],
   "source": [
    "c.compute()"
   ]
  },
  {
   "cell_type": "code",
   "execution_count": null,
   "id": "9e297311-1701-4c34-a252-92510409db17",
   "metadata": {},
   "outputs": [],
   "source": []
  },
  {
   "cell_type": "code",
   "execution_count": 567,
   "id": "a623fc02-6973-4b51-92fb-6ed9acbb0964",
   "metadata": {},
   "outputs": [],
   "source": [
    "t_nodes_2 = [\n",
    "['T', 110],\n",
    "['T', -15],\n",
    "]"
   ]
  },
  {
   "cell_type": "code",
   "execution_count": 568,
   "id": "ee6b3c4e-4f0a-4be6-bf3e-e9b73220f7d5",
   "metadata": {},
   "outputs": [],
   "source": [
    "c_nodes = [\n",
    "    ['C', [.05, .95]],\n",
    "    ['C', [.15, .85]]\n",
    "]"
   ]
  },
  {
   "cell_type": "code",
   "execution_count": 569,
   "id": "a57c0637-9b25-479b-9fde-f3e2b1c538b0",
   "metadata": {},
   "outputs": [],
   "source": [
    "d = Node(*['C',[.45,.55]])\n",
    "for node in c_nodes:\n",
    "    n = Node(*node)\n",
    "    d.children.append(n)"
   ]
  },
  {
   "cell_type": "code",
   "execution_count": 570,
   "id": "d058015e-ad71-403a-973e-cad2fd0be132",
   "metadata": {},
   "outputs": [],
   "source": [
    "#d.describe()"
   ]
  },
  {
   "cell_type": "code",
   "execution_count": 571,
   "id": "630ea273-b95b-4a1f-8cd3-2ec06d4030bc",
   "metadata": {},
   "outputs": [],
   "source": [
    "for n in t_nodes_1:\n",
    "    d.children[0].children.append(Node(*n))"
   ]
  },
  {
   "cell_type": "code",
   "execution_count": 572,
   "id": "1e385bed-2cb8-4775-81ab-4604c710c213",
   "metadata": {},
   "outputs": [],
   "source": [
    "for n in t_nodes_1:\n",
    "    d.children[1].children.append(Node(*n))"
   ]
  },
  {
   "cell_type": "code",
   "execution_count": 573,
   "id": "04e3a5b0-43fa-4cee-bf1c-281090b4de11",
   "metadata": {},
   "outputs": [
    {
     "name": "stdout",
     "output_type": "stream",
     "text": [
      "     1 DESCRIBE: C -> 0\n",
      "         2 DESCRIBE: C -> 0\n",
      "             3 DESCRIBE: T -> 110\n",
      "             3 DESCRIBE: T -> -15\n",
      "         2 DESCRIBE: C -> 0\n",
      "             3 DESCRIBE: T -> 110\n",
      "             3 DESCRIBE: T -> -15\n"
     ]
    }
   ],
   "source": [
    "d.describe()"
   ]
  },
  {
   "cell_type": "code",
   "execution_count": 574,
   "id": "44b682ba-9c82-44be-81ac-0eafee06b95f",
   "metadata": {},
   "outputs": [
    {
     "name": "stdout",
     "output_type": "stream",
     "text": [
      "    TYPE C\n",
      "            TYPE C\n",
      "                TYPE T\n",
      "                val 110\n",
      "                TYPE T\n",
      "                val -15\n",
      "            val: -8.75\n",
      "            TYPE C\n",
      "                TYPE T\n",
      "                val 110\n",
      "                TYPE T\n",
      "                val -15\n",
      "            val: 3.75\n",
      "    val: -1.875\n"
     ]
    },
    {
     "data": {
      "text/plain": [
       "-1.875"
      ]
     },
     "execution_count": 574,
     "metadata": {},
     "output_type": "execute_result"
    }
   ],
   "source": [
    "d.compute()"
   ]
  },
  {
   "cell_type": "code",
   "execution_count": null,
   "id": "a2ec31d8-e4b4-4af7-abe4-e58fa65c440a",
   "metadata": {},
   "outputs": [],
   "source": []
  },
  {
   "cell_type": "code",
   "execution_count": null,
   "id": "704bf0eb-efbe-40d3-b11f-541ecc90ee2d",
   "metadata": {},
   "outputs": [],
   "source": []
  },
  {
   "cell_type": "code",
   "execution_count": 591,
   "id": "a57d6aff-ac6b-4a3d-ba6d-324a0f0e426e",
   "metadata": {},
   "outputs": [
    {
     "data": {
      "text/plain": [
       "-8.75"
      ]
     },
     "execution_count": 591,
     "metadata": {},
     "output_type": "execute_result"
    }
   ],
   "source": [
    "r = Node('C')\n",
    "a.probs = [.05, .95 ]\n",
    "a.values = [110,-15]\n",
    "a.compute()"
   ]
  },
  {
   "cell_type": "code",
   "execution_count": 598,
   "id": "977993f8-56d7-45c6-913f-b91f81d1ea71",
   "metadata": {},
   "outputs": [
    {
     "name": "stdout",
     "output_type": "stream",
     "text": [
      "-8.75\n",
      "3.75\n",
      "-1.5\n",
      "12.0\n",
      "-1.0\n",
      "5.0\n"
     ]
    }
   ],
   "source": [
    "r = EasyNode(*[[.05, .95 ],[110, -15 ]])\n",
    "print(r.compute())\n",
    "r = EasyNode(*[[.15, .85 ],[110, -15 ]])\n",
    "print(r.compute())\n",
    "r = EasyNode(*[[.15, .85 ],[75, -15 ]])\n",
    "print(r.compute())\n",
    "r = EasyNode(*[[.3, .7 ],[75, -15 ]])\n",
    "print(r.compute())\n",
    "r = EasyNode(*[[.35, .65 ],[25, -15 ]])\n",
    "print(r.compute())\n",
    "r = EasyNode(*[[.5, .5 ],[25, -15 ]])\n",
    "print(r.compute())"
   ]
  },
  {
   "cell_type": "code",
   "execution_count": 49,
   "id": "3bb47f80-443c-4685-82d4-c5ba7b645b37",
   "metadata": {},
   "outputs": [
    {
     "data": {
      "text/plain": [
       "3.75"
      ]
     },
     "execution_count": 49,
     "metadata": {},
     "output_type": "execute_result"
    }
   ],
   "source": [
    "a = Node()\n",
    "a.probs = [.15, .85 ]\n",
    "a.values = [110,-15]\n",
    "a.compute()"
   ]
  },
  {
   "cell_type": "code",
   "execution_count": 50,
   "id": "3246c140-215f-4de9-803d-514d55fcb220",
   "metadata": {},
   "outputs": [
    {
     "data": {
      "text/plain": [
       "-1.5"
      ]
     },
     "execution_count": 50,
     "metadata": {},
     "output_type": "execute_result"
    }
   ],
   "source": [
    "a = Node()\n",
    "a.probs = [.15, .85 ]\n",
    "a.values = [75,-15]\n",
    "a.compute()"
   ]
  },
  {
   "cell_type": "code",
   "execution_count": 51,
   "id": "caa56896-23e1-4cf2-abe6-66fc9bf88da7",
   "metadata": {},
   "outputs": [
    {
     "data": {
      "text/plain": [
       "12.0"
      ]
     },
     "execution_count": 51,
     "metadata": {},
     "output_type": "execute_result"
    }
   ],
   "source": [
    "a = Node()\n",
    "a.probs = [.3, .7 ]\n",
    "a.values = [75,-15]\n",
    "a.compute()"
   ]
  },
  {
   "cell_type": "code",
   "execution_count": 52,
   "id": "002bd4cd-a373-4beb-b9fb-160ff05a92fd",
   "metadata": {},
   "outputs": [
    {
     "data": {
      "text/plain": [
       "-1.0"
      ]
     },
     "execution_count": 52,
     "metadata": {},
     "output_type": "execute_result"
    }
   ],
   "source": [
    "a = Node()\n",
    "a.probs = [.35, .65 ]\n",
    "a.values = [25,-15]\n",
    "a.compute()"
   ]
  },
  {
   "cell_type": "code",
   "execution_count": 53,
   "id": "a40239f9-b437-4f9f-a74a-138d2354c874",
   "metadata": {},
   "outputs": [
    {
     "data": {
      "text/plain": [
       "5.0"
      ]
     },
     "execution_count": 53,
     "metadata": {},
     "output_type": "execute_result"
    }
   ],
   "source": [
    "a = Node()\n",
    "a.probs = [.5, .5 ]\n",
    "a.values = [25,-15]\n",
    "a.compute()"
   ]
  },
  {
   "cell_type": "markdown",
   "id": "a65021ed-2126-467c-b615-9c6cf6276e4d",
   "metadata": {},
   "source": [
    "SECOND"
   ]
  },
  {
   "cell_type": "code",
   "execution_count": 55,
   "id": "700e4e85-4e2c-4c53-9a0f-5c05425db2c1",
   "metadata": {},
   "outputs": [
    {
     "data": {
      "text/plain": [
       "-3.8550000000000004"
      ]
     },
     "execution_count": 55,
     "metadata": {},
     "output_type": "execute_result"
    }
   ],
   "source": [
    "a = Node()\n",
    "a.probs = [.45, .55 ]\n",
    "a.values = [-13.15,3.75]\n",
    "a.compute()"
   ]
  },
  {
   "cell_type": "code",
   "execution_count": 56,
   "id": "a2c8e098-cc97-4e3d-828b-2cf28efbdfb6",
   "metadata": {},
   "outputs": [
    {
     "data": {
      "text/plain": [
       "5.925000000000001"
      ]
     },
     "execution_count": 56,
     "metadata": {},
     "output_type": "execute_result"
    }
   ],
   "source": [
    "a = Node()\n",
    "a.probs = [.45, .55 ]\n",
    "a.values = [-1.5,12]\n",
    "a.compute()"
   ]
  },
  {
   "cell_type": "code",
   "execution_count": 57,
   "id": "1d77ab1c-13c7-4ce7-8e37-5896f784d026",
   "metadata": {},
   "outputs": [
    {
     "data": {
      "text/plain": [
       "2.3"
      ]
     },
     "execution_count": 57,
     "metadata": {},
     "output_type": "execute_result"
    }
   ],
   "source": [
    "a = Node()\n",
    "a.probs = [.45, .55 ]\n",
    "a.values = [-1, 5]\n",
    "a.compute()"
   ]
  },
  {
   "cell_type": "code",
   "execution_count": null,
   "id": "2bb2d1cb-d0b1-4622-8c8c-5833a0bf9c82",
   "metadata": {},
   "outputs": [],
   "source": []
  }
 ],
 "metadata": {
  "kernelspec": {
   "display_name": "Python 3",
   "language": "python",
   "name": "python3"
  },
  "language_info": {
   "codemirror_mode": {
    "name": "ipython",
    "version": 3
   },
   "file_extension": ".py",
   "mimetype": "text/x-python",
   "name": "python",
   "nbconvert_exporter": "python",
   "pygments_lexer": "ipython3",
   "version": "3.9.0"
  }
 },
 "nbformat": 4,
 "nbformat_minor": 5
}

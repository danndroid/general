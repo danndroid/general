{
 "cells": [
  {
   "cell_type": "code",
   "execution_count": 1,
   "id": "b417fefb-c91f-417d-91b9-bd936eecdbc7",
   "metadata": {},
   "outputs": [],
   "source": [
    "%load_ext autoreload\n",
    "%autoreload 2\n",
    "from libs.tree import Node"
   ]
  },
  {
   "cell_type": "code",
   "execution_count": 2,
   "id": "0876d611-cc84-4ae8-b256-d76519741c72",
   "metadata": {},
   "outputs": [],
   "source": [
    "tH = [\n",
    "['T', 110],\n",
    "['T', -15],\n",
    "]\n",
    "\n",
    "tM = [\n",
    "['T', 75],\n",
    "['T', -15],\n",
    "]\n",
    "\n",
    "tL = [\n",
    "['T', 25],\n",
    "['T', -15],\n",
    "]"
   ]
  },
  {
   "cell_type": "code",
   "execution_count": 3,
   "id": "f5ebc2f7-7cd5-4692-af60-fd095901a4aa",
   "metadata": {},
   "outputs": [],
   "source": [
    "c1 = ['C', [.05, .95]]\n",
    "c2 = ['C', [.15, .85]]\n",
    "\n",
    "c3 = ['C', [.15, .85]]\n",
    "c4 = ['C', [.30, .70]]\n",
    "\n",
    "c5 = ['C', [.35, .65]]\n",
    "c6 = ['C', [.50, .50]]\n",
    "\n",
    "\n",
    "C1 = Node(*c1)\n",
    "C2 = Node(*c2)\n",
    "for t in tH:\n",
    "    C1.children.append(Node(*t))\n",
    "    C2.children.append(Node(*t))\n",
    "\n",
    "C3 = Node(*c3)\n",
    "C4 = Node(*c4)\n",
    "for t in tM:\n",
    "    C3.children.append(Node(*t))\n",
    "    C4.children.append(Node(*t))\n",
    "\n",
    "C5 = Node(*c5)\n",
    "C6 = Node(*c6)\n",
    "for t in tL:\n",
    "    C5.children.append(Node(*t))\n",
    "    C6.children.append(Node(*t))\n",
    "\n",
    "\n",
    "H = Node(*['C', [.45, .55]])\n",
    "M = Node(*['C', [.45, .55]])\n",
    "L = Node(*['C', [.45, .55]])\n",
    "\n",
    "    \n",
    "H.children.append(C1)\n",
    "H.children.append(C2)\n",
    "\n",
    "M.children.append(C3)\n",
    "M.children.append(C4)\n",
    "\n",
    "L.children.append(C5)\n",
    "L.children.append(C6)"
   ]
  },
  {
   "cell_type": "code",
   "execution_count": 4,
   "id": "2b1e2c63-e4d5-46bd-a736-653e528c6504",
   "metadata": {},
   "outputs": [],
   "source": [
    "D = Node(*['D',0])\n",
    "D.children.append(H)\n",
    "D.children.append(M)\n",
    "D.children.append(L)"
   ]
  },
  {
   "cell_type": "code",
   "execution_count": 5,
   "id": "462922fb-189d-449d-a368-712125a32b06",
   "metadata": {},
   "outputs": [
    {
     "name": "stdout",
     "output_type": "stream",
     "text": [
      "    TYPE C\n",
      "    TYPE C\n",
      "        TYPE C\n",
      "        TYPE T\n",
      "        val 110\n",
      "        TYPE T\n",
      "        val -15\n",
      "        VALUE >>> -8.75\n",
      "        TYPE C\n",
      "        TYPE T\n",
      "        val 110\n",
      "        TYPE T\n",
      "        val -15\n",
      "        VALUE >>> 3.75\n",
      "    VALUE >>> -1.875\n",
      "    TYPE C\n",
      "        TYPE C\n",
      "        TYPE T\n",
      "        val 75\n",
      "        TYPE T\n",
      "        val -15\n",
      "        VALUE >>> -1.5\n",
      "        TYPE C\n",
      "        TYPE T\n",
      "        val 75\n",
      "        TYPE T\n",
      "        val -15\n",
      "        VALUE >>> 12.0\n",
      "    VALUE >>> 5.925000000000001\n",
      "    TYPE C\n",
      "        TYPE C\n",
      "        TYPE T\n",
      "        val 25\n",
      "        TYPE T\n",
      "        val -15\n",
      "        VALUE >>> -1.0\n",
      "        TYPE C\n",
      "        TYPE T\n",
      "        val 25\n",
      "        TYPE T\n",
      "        val -15\n",
      "        VALUE >>> 5.0\n",
      "    VALUE >>> 2.3\n",
      "    VALUE >>> 5.925000000000001\n"
     ]
    },
    {
     "data": {
      "text/plain": [
       "5.925000000000001"
      ]
     },
     "execution_count": 5,
     "metadata": {},
     "output_type": "execute_result"
    }
   ],
   "source": [
    "D.compute()"
   ]
  },
  {
   "cell_type": "code",
   "execution_count": null,
   "id": "2bb2d1cb-d0b1-4622-8c8c-5833a0bf9c82",
   "metadata": {},
   "outputs": [],
   "source": []
  }
 ],
 "metadata": {
  "kernelspec": {
   "display_name": "Python 3",
   "language": "python",
   "name": "python3"
  },
  "language_info": {
   "codemirror_mode": {
    "name": "ipython",
    "version": 3
   },
   "file_extension": ".py",
   "mimetype": "text/x-python",
   "name": "python",
   "nbconvert_exporter": "python",
   "pygments_lexer": "ipython3",
   "version": "3.9.0"
  }
 },
 "nbformat": 4,
 "nbformat_minor": 5
}

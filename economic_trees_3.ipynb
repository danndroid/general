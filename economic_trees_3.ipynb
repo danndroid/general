{
 "cells": [
  {
   "cell_type": "code",
   "execution_count": 29,
   "id": "b417fefb-c91f-417d-91b9-bd936eecdbc7",
   "metadata": {},
   "outputs": [
    {
     "name": "stdout",
     "output_type": "stream",
     "text": [
      "The autoreload extension is already loaded. To reload it, use:\n",
      "  %reload_ext autoreload\n"
     ]
    }
   ],
   "source": [
    "%load_ext autoreload\n",
    "%autoreload 2\n",
    "from libs.tree import Node"
   ]
  },
  {
   "cell_type": "code",
   "execution_count": 30,
   "id": "0876d611-cc84-4ae8-b256-d76519741c72",
   "metadata": {},
   "outputs": [],
   "source": [
    "tH = [\n",
    "['T', 110],\n",
    "['T', -15],\n",
    "]\n",
    "\n",
    "tM = [\n",
    "['T', 75],\n",
    "['T', -15],\n",
    "]\n",
    "\n",
    "tL = [\n",
    "['T', 25],\n",
    "['T', -15],\n",
    "]"
   ]
  },
  {
   "cell_type": "code",
   "execution_count": 31,
   "id": "f5ebc2f7-7cd5-4692-af60-fd095901a4aa",
   "metadata": {},
   "outputs": [],
   "source": [
    "e1 = ['C', [.05, .95]]\n",
    "e2 = ['C', [.15, .85]]\n",
    "\n",
    "f1 = ['C', [.15, .85]]\n",
    "f2 = ['C', [.30, .70]]\n",
    "\n",
    "g1 = ['C', [.35, .65]]\n",
    "g2 = ['C', [.50, .50]]"
   ]
  },
  {
   "cell_type": "code",
   "execution_count": 32,
   "id": "df5df06c-c639-4b2a-961c-5548c5f7bea0",
   "metadata": {},
   "outputs": [],
   "source": [
    "HE1 = Node(*e1)\n",
    "HE2 = Node(*e2)\n",
    "for i in tH:\n",
    "    n = Node(*i)\n",
    "    HE1.children.append(n)\n",
    "    HE2.children.append(n)\n",
    "    \n",
    "ME1 = Node(*f1)\n",
    "ME2 = Node(*f2)\n",
    "for i in tM:\n",
    "    n = Node(*i)\n",
    "    ME1.children.append(n)\n",
    "    ME2.children.append(n)\n",
    "\n",
    "LE1 = Node(*g1)\n",
    "LE2 = Node(*g2)\n",
    "for i in tL:\n",
    "    n = Node(*i)\n",
    "    LE1.children.append(n)\n",
    "    LE2.children.append(n)"
   ]
  },
  {
   "cell_type": "code",
   "execution_count": 33,
   "id": "7f95bc86-ec5e-45f2-a7d9-232564c461de",
   "metadata": {},
   "outputs": [
    {
     "name": "stdout",
     "output_type": "stream",
     "text": [
      "    TYPE C\n",
      "        TYPE T\n",
      "        val 110\n",
      "        TYPE T\n",
      "        val -15\n",
      "    VALUE >>> -8.75\n",
      "    TYPE C\n",
      "            TYPE T\n",
      "            val 110\n",
      "            TYPE T\n",
      "            val -15\n",
      "    VALUE >>> 3.75\n"
     ]
    },
    {
     "data": {
      "text/plain": [
       "3.75"
      ]
     },
     "execution_count": 33,
     "metadata": {},
     "output_type": "execute_result"
    }
   ],
   "source": [
    "HE1.compute()\n",
    "HE2.compute()"
   ]
  },
  {
   "cell_type": "code",
   "execution_count": 34,
   "id": "758b7430-980f-4457-bb4a-e9b9bf05cdf7",
   "metadata": {},
   "outputs": [
    {
     "name": "stdout",
     "output_type": "stream",
     "text": [
      "    TYPE C\n",
      "        TYPE T\n",
      "        val 75\n",
      "        TYPE T\n",
      "        val -15\n",
      "    VALUE >>> -1.5\n",
      "    TYPE C\n",
      "            TYPE T\n",
      "            val 75\n",
      "            TYPE T\n",
      "            val -15\n",
      "    VALUE >>> 12.0\n"
     ]
    },
    {
     "data": {
      "text/plain": [
       "12.0"
      ]
     },
     "execution_count": 34,
     "metadata": {},
     "output_type": "execute_result"
    }
   ],
   "source": [
    "ME1.compute()\n",
    "ME2.compute()"
   ]
  },
  {
   "cell_type": "code",
   "execution_count": 35,
   "id": "ed05b5fb-0f1a-4f52-8f09-351f90f149e8",
   "metadata": {},
   "outputs": [
    {
     "name": "stdout",
     "output_type": "stream",
     "text": [
      "    TYPE C\n",
      "        TYPE T\n",
      "        val 25\n",
      "        TYPE T\n",
      "        val -15\n",
      "    VALUE >>> -1.0\n",
      "    TYPE C\n",
      "            TYPE T\n",
      "            val 25\n",
      "            TYPE T\n",
      "            val -15\n",
      "    VALUE >>> 5.0\n"
     ]
    },
    {
     "data": {
      "text/plain": [
       "5.0"
      ]
     },
     "execution_count": 35,
     "metadata": {},
     "output_type": "execute_result"
    }
   ],
   "source": [
    "LE1.compute()\n",
    "LE2.compute()"
   ]
  },
  {
   "cell_type": "code",
   "execution_count": 36,
   "id": "b60aff82-7b67-4068-a3b3-43dd715e4f27",
   "metadata": {},
   "outputs": [
    {
     "name": "stdout",
     "output_type": "stream",
     "text": [
      "    TYPE C\n",
      "        TYPE C\n",
      "                TYPE T\n",
      "                val 110\n",
      "                TYPE T\n",
      "                val -15\n",
      "        VALUE >>> -8.75\n",
      "        TYPE C\n",
      "                    TYPE T\n",
      "                    val 110\n",
      "                    TYPE T\n",
      "                    val -15\n",
      "        VALUE >>> 3.75\n",
      "    VALUE >>> -4.75\n",
      "    TYPE C\n",
      "        TYPE C\n",
      "                TYPE T\n",
      "                val 75\n",
      "                TYPE T\n",
      "                val -15\n",
      "        VALUE >>> -1.5\n",
      "        TYPE C\n",
      "                    TYPE T\n",
      "                    val 75\n",
      "                    TYPE T\n",
      "                    val -15\n",
      "        VALUE >>> 12.0\n",
      "    VALUE >>> 2.82\n",
      "    TYPE C\n",
      "        TYPE C\n",
      "                TYPE T\n",
      "                val 25\n",
      "                TYPE T\n",
      "                val -15\n",
      "        VALUE >>> -1.0\n",
      "        TYPE C\n",
      "                    TYPE T\n",
      "                    val 25\n",
      "                    TYPE T\n",
      "                    val -15\n",
      "        VALUE >>> 5.0\n",
      "    VALUE >>> 0.92\n"
     ]
    },
    {
     "data": {
      "text/plain": [
       "0.92"
      ]
     },
     "execution_count": 36,
     "metadata": {},
     "output_type": "execute_result"
    }
   ],
   "source": [
    "HE = Node(*['C', [.68, .32]])\n",
    "HE.children.append(HE1)\n",
    "HE.children.append(HE2)\n",
    "HE.compute()\n",
    "\n",
    "ME = Node(*['C', [.68, .32]])\n",
    "ME.children.append(ME1)\n",
    "ME.children.append(ME2)\n",
    "ME.compute()\n",
    "\n",
    "LE = Node(*['C', [.68, .32]])\n",
    "LE.children.append(LE1)\n",
    "LE.children.append(LE2)\n",
    "LE.compute()"
   ]
  },
  {
   "cell_type": "code",
   "execution_count": null,
   "id": "17d61d37-a866-4fc6-a1b5-83b32e238bbf",
   "metadata": {},
   "outputs": [],
   "source": []
  },
  {
   "cell_type": "code",
   "execution_count": null,
   "id": "20235c9d-fd14-4531-8eb6-1e4ce68f780a",
   "metadata": {},
   "outputs": [],
   "source": []
  },
  {
   "cell_type": "code",
   "execution_count": 37,
   "id": "8e7b36fb-239d-4a17-8409-20e83605d669",
   "metadata": {},
   "outputs": [],
   "source": [
    "HML = Node(*['D', 0])"
   ]
  },
  {
   "cell_type": "code",
   "execution_count": 38,
   "id": "156b345e-c1ac-401b-9095-374d03d8575d",
   "metadata": {},
   "outputs": [],
   "source": [
    "HML.children.append(HE)\n",
    "HML.children.append(ME)\n",
    "HML.children.append(LE)"
   ]
  },
  {
   "cell_type": "code",
   "execution_count": 39,
   "id": "28c00f23-0ed4-457b-96cf-e836ecdf339c",
   "metadata": {},
   "outputs": [
    {
     "name": "stdout",
     "output_type": "stream",
     "text": [
      "    TYPE C\n",
      "    TYPE C\n",
      "            TYPE C\n",
      "                        TYPE T\n",
      "                        val 110\n",
      "                        TYPE T\n",
      "                        val -15\n",
      "            VALUE >>> -8.75\n",
      "            TYPE C\n",
      "                            TYPE T\n",
      "                            val 110\n",
      "                            TYPE T\n",
      "                            val -15\n",
      "            VALUE >>> 3.75\n",
      "    VALUE >>> -4.75\n",
      "    TYPE C\n",
      "            TYPE C\n",
      "                        TYPE T\n",
      "                        val 75\n",
      "                        TYPE T\n",
      "                        val -15\n",
      "            VALUE >>> -1.5\n",
      "            TYPE C\n",
      "                            TYPE T\n",
      "                            val 75\n",
      "                            TYPE T\n",
      "                            val -15\n",
      "            VALUE >>> 12.0\n",
      "    VALUE >>> 2.82\n",
      "    TYPE C\n",
      "            TYPE C\n",
      "                        TYPE T\n",
      "                        val 25\n",
      "                        TYPE T\n",
      "                        val -15\n",
      "            VALUE >>> -1.0\n",
      "            TYPE C\n",
      "                            TYPE T\n",
      "                            val 25\n",
      "                            TYPE T\n",
      "                            val -15\n",
      "            VALUE >>> 5.0\n",
      "    VALUE >>> 0.92\n",
      "    VALUE >>> 2.82\n"
     ]
    },
    {
     "data": {
      "text/plain": [
       "2.82"
      ]
     },
     "execution_count": 39,
     "metadata": {},
     "output_type": "execute_result"
    }
   ],
   "source": [
    "HML.compute()"
   ]
  },
  {
   "cell_type": "code",
   "execution_count": null,
   "id": "75ce97b5-183c-4811-8b68-9af52ccbe422",
   "metadata": {},
   "outputs": [],
   "source": []
  },
  {
   "cell_type": "code",
   "execution_count": null,
   "id": "ea3ba6e3-cb09-4e9d-a6ff-e994fcf18cf7",
   "metadata": {},
   "outputs": [],
   "source": []
  },
  {
   "cell_type": "code",
   "execution_count": null,
   "id": "36922af3-5e8e-42f6-8cba-a2a225827c33",
   "metadata": {},
   "outputs": [],
   "source": []
  },
  {
   "cell_type": "code",
   "execution_count": 40,
   "id": "5a20a3eb-407a-4d7b-b4b2-93db8ea446ab",
   "metadata": {},
   "outputs": [],
   "source": [
    "HEB = Node(*['C', [.28, .72]])\n",
    "HEB.children.append(HE1)\n",
    "HEB.children.append(HE2)\n",
    "\n",
    "MEB = Node(*['C', [.28, .72]])\n",
    "MEB.children.append(ME1)\n",
    "MEB.children.append(ME2)\n",
    "\n",
    "LEB = Node(*['C', [.28, .72]])\n",
    "LEB.children.append(LE1)\n",
    "LEB.children.append(LE2)\n"
   ]
  },
  {
   "cell_type": "code",
   "execution_count": 41,
   "id": "689c1eec-9100-4abc-8ed0-b7da1f7a77e1",
   "metadata": {},
   "outputs": [
    {
     "name": "stdout",
     "output_type": "stream",
     "text": [
      "     1 DESCRIBE: C -> 0\n",
      "         2 DESCRIBE: C -> -8.75\n",
      "             3 DESCRIBE: T -> 110\n",
      "             3 DESCRIBE: T -> -15\n",
      "         2 DESCRIBE: C -> 3.75\n",
      "             3 DESCRIBE: T -> 110\n",
      "             3 DESCRIBE: T -> -15\n"
     ]
    }
   ],
   "source": [
    "HEB.describe()"
   ]
  },
  {
   "cell_type": "code",
   "execution_count": 42,
   "id": "e04c1ca7-4d07-49fd-aa48-0ee97af04cd1",
   "metadata": {},
   "outputs": [
    {
     "name": "stdout",
     "output_type": "stream",
     "text": [
      "    TYPE C\n",
      "            TYPE C\n",
      "                TYPE T\n",
      "                val 110\n",
      "                TYPE T\n",
      "                val -15\n",
      "            VALUE >>> -8.75\n",
      "            TYPE C\n",
      "                    TYPE T\n",
      "                    val 110\n",
      "                    TYPE T\n",
      "                    val -15\n",
      "            VALUE >>> 3.75\n",
      "    VALUE >>> 0.24999999999999956\n"
     ]
    },
    {
     "data": {
      "text/plain": [
       "0.24999999999999956"
      ]
     },
     "execution_count": 42,
     "metadata": {},
     "output_type": "execute_result"
    }
   ],
   "source": [
    "HEB.compute()"
   ]
  },
  {
   "cell_type": "code",
   "execution_count": 43,
   "id": "09ef3d56-ceb2-4d5e-a72b-61f34e5d02f9",
   "metadata": {},
   "outputs": [
    {
     "name": "stdout",
     "output_type": "stream",
     "text": [
      "    TYPE C\n",
      "    TYPE C\n",
      "                TYPE C\n",
      "                        TYPE T\n",
      "                        val 110\n",
      "                        TYPE T\n",
      "                        val -15\n",
      "                VALUE >>> -8.75\n",
      "                TYPE C\n",
      "                            TYPE T\n",
      "                            val 110\n",
      "                            TYPE T\n",
      "                            val -15\n",
      "                VALUE >>> 3.75\n",
      "    VALUE >>> 0.24999999999999956\n",
      "    TYPE C\n",
      "                TYPE C\n",
      "                                TYPE T\n",
      "                                val 75\n",
      "                                TYPE T\n",
      "                                val -15\n",
      "                VALUE >>> -1.5\n",
      "                TYPE C\n",
      "                                    TYPE T\n",
      "                                    val 75\n",
      "                                    TYPE T\n",
      "                                    val -15\n",
      "                VALUE >>> 12.0\n",
      "    VALUE >>> 8.22\n",
      "    TYPE C\n",
      "                TYPE C\n",
      "                                TYPE T\n",
      "                                val 25\n",
      "                                TYPE T\n",
      "                                val -15\n",
      "                VALUE >>> -1.0\n",
      "                TYPE C\n",
      "                                    TYPE T\n",
      "                                    val 25\n",
      "                                    TYPE T\n",
      "                                    val -15\n",
      "                VALUE >>> 5.0\n",
      "    VALUE >>> 3.3199999999999994\n",
      "    VALUE >>> 8.22\n"
     ]
    },
    {
     "data": {
      "text/plain": [
       "8.22"
      ]
     },
     "execution_count": 43,
     "metadata": {},
     "output_type": "execute_result"
    }
   ],
   "source": [
    "HMLB = Node(*['D', 0])\n",
    "\n",
    "HMLB.children.append(HEB)\n",
    "HMLB.children.append(MEB)\n",
    "HMLB.children.append(LEB)\n",
    "\n",
    "HMLB.compute()"
   ]
  },
  {
   "cell_type": "code",
   "execution_count": 44,
   "id": "39f828dc-4586-46d9-88a6-8c750ab74017",
   "metadata": {},
   "outputs": [
    {
     "name": "stdout",
     "output_type": "stream",
     "text": [
      "    TYPE C\n",
      "        TYPE C\n",
      "    TYPE C\n",
      "                    TYPE C\n",
      "                                TYPE T\n",
      "                                val 110\n",
      "                                TYPE T\n",
      "                                val -15\n",
      "                    VALUE >>> -8.75\n",
      "                    TYPE C\n",
      "                                    TYPE T\n",
      "                                    val 110\n",
      "                                    TYPE T\n",
      "                                    val -15\n",
      "                    VALUE >>> 3.75\n",
      "    VALUE >>> -4.75\n",
      "    TYPE C\n",
      "                    TYPE C\n",
      "                                        TYPE T\n",
      "                                        val 75\n",
      "                                        TYPE T\n",
      "                                        val -15\n",
      "                    VALUE >>> -1.5\n",
      "                    TYPE C\n",
      "                                            TYPE T\n",
      "                                            val 75\n",
      "                                            TYPE T\n",
      "                                            val -15\n",
      "                    VALUE >>> 12.0\n",
      "    VALUE >>> 2.82\n",
      "    TYPE C\n",
      "                    TYPE C\n",
      "                                        TYPE T\n",
      "                                        val 25\n",
      "                                        TYPE T\n",
      "                                        val -15\n",
      "                    VALUE >>> -1.0\n",
      "                    TYPE C\n",
      "                                            TYPE T\n",
      "                                            val 25\n",
      "                                            TYPE T\n",
      "                                            val -15\n",
      "                    VALUE >>> 5.0\n",
      "    VALUE >>> 0.92\n",
      "        VALUE >>> 2.82\n",
      "        TYPE C\n",
      "    TYPE C\n",
      "                        TYPE C\n",
      "                                        TYPE T\n",
      "                                        val 110\n",
      "                                        TYPE T\n",
      "                                        val -15\n",
      "                        VALUE >>> -8.75\n",
      "                        TYPE C\n",
      "                                            TYPE T\n",
      "                                            val 110\n",
      "                                            TYPE T\n",
      "                                            val -15\n",
      "                        VALUE >>> 3.75\n",
      "    VALUE >>> 0.24999999999999956\n",
      "    TYPE C\n",
      "                        TYPE C\n",
      "                                                TYPE T\n",
      "                                                val 75\n",
      "                                                TYPE T\n",
      "                                                val -15\n",
      "                        VALUE >>> -1.5\n",
      "                        TYPE C\n",
      "                                                    TYPE T\n",
      "                                                    val 75\n",
      "                                                    TYPE T\n",
      "                                                    val -15\n",
      "                        VALUE >>> 12.0\n",
      "    VALUE >>> 8.22\n",
      "    TYPE C\n",
      "                        TYPE C\n",
      "                                                TYPE T\n",
      "                                                val 25\n",
      "                                                TYPE T\n",
      "                                                val -15\n",
      "                        VALUE >>> -1.0\n",
      "                        TYPE C\n",
      "                                                    TYPE T\n",
      "                                                    val 25\n",
      "                                                    TYPE T\n",
      "                                                    val -15\n",
      "                        VALUE >>> 5.0\n",
      "    VALUE >>> 3.3199999999999994\n",
      "        VALUE >>> 8.22\n",
      "    VALUE >>> 5.898\n"
     ]
    },
    {
     "data": {
      "text/plain": [
       "5.898"
      ]
     },
     "execution_count": 44,
     "metadata": {},
     "output_type": "execute_result"
    }
   ],
   "source": [
    "B = Node(*['C', [.43, .57 ]])\n",
    "B.children.append(HML)\n",
    "B.children.append(HMLB)\n",
    "B.compute()"
   ]
  },
  {
   "cell_type": "code",
   "execution_count": null,
   "id": "8c19eae4-fbc1-4a28-adc6-367645968145",
   "metadata": {},
   "outputs": [],
   "source": []
  },
  {
   "cell_type": "code",
   "execution_count": 72,
   "id": "ee6b3c4e-4f0a-4be6-bf3e-e9b73220f7d5",
   "metadata": {},
   "outputs": [],
   "source": [
    "h = ['C', [.68, .32]]\n",
    "H = Node(*h)\n",
    "\n",
    "M = ['C', [.68, .32]]\n",
    "M = Node(*h)"
   ]
  },
  {
   "cell_type": "code",
   "execution_count": 73,
   "id": "a57c0637-9b25-479b-9fde-f3e2b1c538b0",
   "metadata": {},
   "outputs": [],
   "source": [
    "H.children.append(HE1)\n",
    "H.children.append(HE2)\n",
    "\n",
    "M.children.append(ME1)\n",
    "M.children.append(ME2)"
   ]
  },
  {
   "cell_type": "code",
   "execution_count": 74,
   "id": "d058015e-ad71-403a-973e-cad2fd0be132",
   "metadata": {},
   "outputs": [
    {
     "name": "stdout",
     "output_type": "stream",
     "text": [
      "    TYPE C\n",
      "                TYPE C\n",
      "                        TYPE T\n",
      "                        val 110\n",
      "                        TYPE T\n",
      "                        val -15\n",
      "                val: -8.75\n",
      "                TYPE C\n",
      "                            TYPE T\n",
      "                            val 110\n",
      "                            TYPE T\n",
      "                            val -15\n",
      "                val: 3.75\n",
      "    val: -4.75\n"
     ]
    },
    {
     "data": {
      "text/plain": [
       "-4.75"
      ]
     },
     "execution_count": 74,
     "metadata": {},
     "output_type": "execute_result"
    }
   ],
   "source": [
    "H.compute()"
   ]
  },
  {
   "cell_type": "code",
   "execution_count": 75,
   "id": "20db4095-f65c-45aa-be35-41e23a4578d8",
   "metadata": {},
   "outputs": [
    {
     "name": "stdout",
     "output_type": "stream",
     "text": [
      "    TYPE C\n",
      "                    TYPE C\n",
      "                                TYPE T\n",
      "                                val 75\n",
      "                                TYPE T\n",
      "                                val -15\n",
      "                    val: -1.5\n",
      "                    TYPE C\n",
      "                                    TYPE T\n",
      "                                    val 75\n",
      "                                    TYPE T\n",
      "                                    val -15\n",
      "                    val: -1.5\n",
      "    val: -1.5\n"
     ]
    },
    {
     "data": {
      "text/plain": [
       "-1.5"
      ]
     },
     "execution_count": 75,
     "metadata": {},
     "output_type": "execute_result"
    }
   ],
   "source": [
    "M.compute()"
   ]
  },
  {
   "cell_type": "code",
   "execution_count": null,
   "id": "81e83402-3875-4ead-bbca-f1537ecf1767",
   "metadata": {},
   "outputs": [],
   "source": []
  },
  {
   "cell_type": "code",
   "execution_count": null,
   "id": "439025cc-7486-4ccb-9c75-c9168019058b",
   "metadata": {},
   "outputs": [],
   "source": []
  },
  {
   "cell_type": "code",
   "execution_count": null,
   "id": "b53e9eee-42aa-46fe-9521-0197ba667e62",
   "metadata": {},
   "outputs": [],
   "source": []
  },
  {
   "cell_type": "code",
   "execution_count": 571,
   "id": "630ea273-b95b-4a1f-8cd3-2ec06d4030bc",
   "metadata": {},
   "outputs": [],
   "source": [
    "for n in t_nodes_1:\n",
    "    d.children[0].children.append(Node(*n))"
   ]
  },
  {
   "cell_type": "code",
   "execution_count": 572,
   "id": "1e385bed-2cb8-4775-81ab-4604c710c213",
   "metadata": {},
   "outputs": [],
   "source": [
    "for n in t_nodes_1:\n",
    "    d.children[1].children.append(Node(*n))"
   ]
  },
  {
   "cell_type": "code",
   "execution_count": 573,
   "id": "04e3a5b0-43fa-4cee-bf1c-281090b4de11",
   "metadata": {},
   "outputs": [
    {
     "name": "stdout",
     "output_type": "stream",
     "text": [
      "     1 DESCRIBE: C -> 0\n",
      "         2 DESCRIBE: C -> 0\n",
      "             3 DESCRIBE: T -> 110\n",
      "             3 DESCRIBE: T -> -15\n",
      "         2 DESCRIBE: C -> 0\n",
      "             3 DESCRIBE: T -> 110\n",
      "             3 DESCRIBE: T -> -15\n"
     ]
    }
   ],
   "source": [
    "d.describe()"
   ]
  },
  {
   "cell_type": "code",
   "execution_count": 574,
   "id": "44b682ba-9c82-44be-81ac-0eafee06b95f",
   "metadata": {},
   "outputs": [
    {
     "name": "stdout",
     "output_type": "stream",
     "text": [
      "    TYPE C\n",
      "            TYPE C\n",
      "                TYPE T\n",
      "                val 110\n",
      "                TYPE T\n",
      "                val -15\n",
      "            val: -8.75\n",
      "            TYPE C\n",
      "                TYPE T\n",
      "                val 110\n",
      "                TYPE T\n",
      "                val -15\n",
      "            val: 3.75\n",
      "    val: -1.875\n"
     ]
    },
    {
     "data": {
      "text/plain": [
       "-1.875"
      ]
     },
     "execution_count": 574,
     "metadata": {},
     "output_type": "execute_result"
    }
   ],
   "source": [
    "d.compute()"
   ]
  },
  {
   "cell_type": "code",
   "execution_count": null,
   "id": "a2ec31d8-e4b4-4af7-abe4-e58fa65c440a",
   "metadata": {},
   "outputs": [],
   "source": []
  },
  {
   "cell_type": "code",
   "execution_count": null,
   "id": "704bf0eb-efbe-40d3-b11f-541ecc90ee2d",
   "metadata": {},
   "outputs": [],
   "source": []
  },
  {
   "cell_type": "code",
   "execution_count": 591,
   "id": "a57d6aff-ac6b-4a3d-ba6d-324a0f0e426e",
   "metadata": {},
   "outputs": [
    {
     "data": {
      "text/plain": [
       "-8.75"
      ]
     },
     "execution_count": 591,
     "metadata": {},
     "output_type": "execute_result"
    }
   ],
   "source": [
    "r = Node('C')\n",
    "a.probs = [.05, .95 ]\n",
    "a.values = [110,-15]\n",
    "a.compute()"
   ]
  },
  {
   "cell_type": "code",
   "execution_count": 598,
   "id": "977993f8-56d7-45c6-913f-b91f81d1ea71",
   "metadata": {},
   "outputs": [
    {
     "name": "stdout",
     "output_type": "stream",
     "text": [
      "-8.75\n",
      "3.75\n",
      "-1.5\n",
      "12.0\n",
      "-1.0\n",
      "5.0\n"
     ]
    }
   ],
   "source": [
    "r = EasyNode(*[[.05, .95 ],[110, -15 ]])\n",
    "print(r.compute())\n",
    "r = EasyNode(*[[.15, .85 ],[110, -15 ]])\n",
    "print(r.compute())\n",
    "r = EasyNode(*[[.15, .85 ],[75, -15 ]])\n",
    "print(r.compute())\n",
    "r = EasyNode(*[[.3, .7 ],[75, -15 ]])\n",
    "print(r.compute())\n",
    "r = EasyNode(*[[.35, .65 ],[25, -15 ]])\n",
    "print(r.compute())\n",
    "r = EasyNode(*[[.5, .5 ],[25, -15 ]])\n",
    "print(r.compute())"
   ]
  },
  {
   "cell_type": "code",
   "execution_count": 49,
   "id": "3bb47f80-443c-4685-82d4-c5ba7b645b37",
   "metadata": {},
   "outputs": [
    {
     "data": {
      "text/plain": [
       "3.75"
      ]
     },
     "execution_count": 49,
     "metadata": {},
     "output_type": "execute_result"
    }
   ],
   "source": [
    "a = Node()\n",
    "a.probs = [.15, .85 ]\n",
    "a.values = [110,-15]\n",
    "a.compute()"
   ]
  },
  {
   "cell_type": "code",
   "execution_count": 50,
   "id": "3246c140-215f-4de9-803d-514d55fcb220",
   "metadata": {},
   "outputs": [
    {
     "data": {
      "text/plain": [
       "-1.5"
      ]
     },
     "execution_count": 50,
     "metadata": {},
     "output_type": "execute_result"
    }
   ],
   "source": [
    "a = Node()\n",
    "a.probs = [.15, .85 ]\n",
    "a.values = [75,-15]\n",
    "a.compute()"
   ]
  },
  {
   "cell_type": "code",
   "execution_count": 51,
   "id": "caa56896-23e1-4cf2-abe6-66fc9bf88da7",
   "metadata": {},
   "outputs": [
    {
     "data": {
      "text/plain": [
       "12.0"
      ]
     },
     "execution_count": 51,
     "metadata": {},
     "output_type": "execute_result"
    }
   ],
   "source": [
    "a = Node()\n",
    "a.probs = [.3, .7 ]\n",
    "a.values = [75,-15]\n",
    "a.compute()"
   ]
  },
  {
   "cell_type": "code",
   "execution_count": 52,
   "id": "002bd4cd-a373-4beb-b9fb-160ff05a92fd",
   "metadata": {},
   "outputs": [
    {
     "data": {
      "text/plain": [
       "-1.0"
      ]
     },
     "execution_count": 52,
     "metadata": {},
     "output_type": "execute_result"
    }
   ],
   "source": [
    "a = Node()\n",
    "a.probs = [.35, .65 ]\n",
    "a.values = [25,-15]\n",
    "a.compute()"
   ]
  },
  {
   "cell_type": "code",
   "execution_count": 53,
   "id": "a40239f9-b437-4f9f-a74a-138d2354c874",
   "metadata": {},
   "outputs": [
    {
     "data": {
      "text/plain": [
       "5.0"
      ]
     },
     "execution_count": 53,
     "metadata": {},
     "output_type": "execute_result"
    }
   ],
   "source": [
    "a = Node()\n",
    "a.probs = [.5, .5 ]\n",
    "a.values = [25,-15]\n",
    "a.compute()"
   ]
  },
  {
   "cell_type": "markdown",
   "id": "a65021ed-2126-467c-b615-9c6cf6276e4d",
   "metadata": {},
   "source": [
    "SECOND"
   ]
  },
  {
   "cell_type": "code",
   "execution_count": 55,
   "id": "700e4e85-4e2c-4c53-9a0f-5c05425db2c1",
   "metadata": {},
   "outputs": [
    {
     "data": {
      "text/plain": [
       "-3.8550000000000004"
      ]
     },
     "execution_count": 55,
     "metadata": {},
     "output_type": "execute_result"
    }
   ],
   "source": [
    "a = Node()\n",
    "a.probs = [.45, .55 ]\n",
    "a.values = [-13.15,3.75]\n",
    "a.compute()"
   ]
  },
  {
   "cell_type": "code",
   "execution_count": 56,
   "id": "a2c8e098-cc97-4e3d-828b-2cf28efbdfb6",
   "metadata": {},
   "outputs": [
    {
     "data": {
      "text/plain": [
       "5.925000000000001"
      ]
     },
     "execution_count": 56,
     "metadata": {},
     "output_type": "execute_result"
    }
   ],
   "source": [
    "a = Node()\n",
    "a.probs = [.45, .55 ]\n",
    "a.values = [-1.5,12]\n",
    "a.compute()"
   ]
  },
  {
   "cell_type": "code",
   "execution_count": 57,
   "id": "1d77ab1c-13c7-4ce7-8e37-5896f784d026",
   "metadata": {},
   "outputs": [
    {
     "data": {
      "text/plain": [
       "2.3"
      ]
     },
     "execution_count": 57,
     "metadata": {},
     "output_type": "execute_result"
    }
   ],
   "source": [
    "a = Node()\n",
    "a.probs = [.45, .55 ]\n",
    "a.values = [-1, 5]\n",
    "a.compute()"
   ]
  },
  {
   "cell_type": "code",
   "execution_count": null,
   "id": "2bb2d1cb-d0b1-4622-8c8c-5833a0bf9c82",
   "metadata": {},
   "outputs": [],
   "source": []
  }
 ],
 "metadata": {
  "kernelspec": {
   "display_name": "Python 3",
   "language": "python",
   "name": "python3"
  },
  "language_info": {
   "codemirror_mode": {
    "name": "ipython",
    "version": 3
   },
   "file_extension": ".py",
   "mimetype": "text/x-python",
   "name": "python",
   "nbconvert_exporter": "python",
   "pygments_lexer": "ipython3",
   "version": "3.9.0"
  }
 },
 "nbformat": 4,
 "nbformat_minor": 5
}

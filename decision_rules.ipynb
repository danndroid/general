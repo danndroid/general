{
 "cells": [
  {
   "cell_type": "code",
   "execution_count": 2,
   "id": "096f90b8-d8a2-4869-a899-18b0c050d8d6",
   "metadata": {},
   "outputs": [],
   "source": [
    "import sys\n",
    "import numpy as np\n",
    "import pandas as pd\n"
   ]
  },
  {
   "cell_type": "code",
   "execution_count": 3,
   "id": "f560da3f-0baa-436f-b3e7-e571433c5539",
   "metadata": {},
   "outputs": [],
   "source": [
    "from libs import decisions as dc\n",
    "%load_ext autoreload\n",
    "%autoreload 2\n",
    "from libs import decisions as dc"
   ]
  },
  {
   "cell_type": "code",
   "execution_count": 4,
   "id": "b6d43808-b6db-49b2-aeb1-6a5c3beeeb9d",
   "metadata": {},
   "outputs": [
    {
     "data": {
      "text/plain": [
       "<function libs.decisions.savage_regret(A, gain=True)>"
      ]
     },
     "execution_count": 4,
     "metadata": {},
     "output_type": "execute_result"
    }
   ],
   "source": [
    "dc.savage_regret"
   ]
  },
  {
   "cell_type": "code",
   "execution_count": 5,
   "id": "59586379-f3a2-4cc2-9d51-09828dfff2a1",
   "metadata": {},
   "outputs": [],
   "source": [
    "c1=[150,90,70]\n",
    "c2=[-10,10,40]\n",
    "idx = ['a2','a3','a5']"
   ]
  },
  {
   "cell_type": "code",
   "execution_count": 6,
   "id": "e0be567a-b835-41ba-82b8-5abb587467a1",
   "metadata": {},
   "outputs": [
    {
     "data": {
      "text/html": [
       "<div>\n",
       "<style scoped>\n",
       "    .dataframe tbody tr th:only-of-type {\n",
       "        vertical-align: middle;\n",
       "    }\n",
       "\n",
       "    .dataframe tbody tr th {\n",
       "        vertical-align: top;\n",
       "    }\n",
       "\n",
       "    .dataframe thead th {\n",
       "        text-align: right;\n",
       "    }\n",
       "</style>\n",
       "<table border=\"1\" class=\"dataframe\">\n",
       "  <thead>\n",
       "    <tr style=\"text-align: right;\">\n",
       "      <th></th>\n",
       "      <th>e1</th>\n",
       "      <th>e2</th>\n",
       "    </tr>\n",
       "  </thead>\n",
       "  <tbody>\n",
       "    <tr>\n",
       "      <th>a2</th>\n",
       "      <td>150</td>\n",
       "      <td>-10</td>\n",
       "    </tr>\n",
       "    <tr>\n",
       "      <th>a3</th>\n",
       "      <td>90</td>\n",
       "      <td>10</td>\n",
       "    </tr>\n",
       "    <tr>\n",
       "      <th>a5</th>\n",
       "      <td>70</td>\n",
       "      <td>40</td>\n",
       "    </tr>\n",
       "  </tbody>\n",
       "</table>\n",
       "</div>"
      ],
      "text/plain": [
       "     e1  e2\n",
       "a2  150 -10\n",
       "a3   90  10\n",
       "a5   70  40"
      ]
     },
     "execution_count": 6,
     "metadata": {},
     "output_type": "execute_result"
    }
   ],
   "source": [
    "A = pd.DataFrame({'e1':c1,\n",
    "                  'e2':c2,\n",
    "                  }, index = idx)\n",
    "A"
   ]
  },
  {
   "cell_type": "code",
   "execution_count": 8,
   "id": "ed4fec42-317c-4c5e-a8d4-6444e365b8f4",
   "metadata": {},
   "outputs": [
    {
     "name": "stdout",
     "output_type": "stream",
     "text": [
      "Matrix:\n",
      "     e1  e2  min  max   hwz\n",
      "a2  150 -10  -10  150  22.0\n",
      "a3   90  10   10   90  26.0\n",
      "a5   70  40   40   70  46.0\n",
      "\n",
      "Strategy:a5 \n",
      "Value:46.0\n"
     ]
    },
    {
     "data": {
      "text/plain": [
       "('a5', 46.0)"
      ]
     },
     "execution_count": 8,
     "metadata": {},
     "output_type": "execute_result"
    }
   ],
   "source": [
    "dc.hurwicz(A,alpha=0.2)"
   ]
  },
  {
   "cell_type": "code",
   "execution_count": 20,
   "id": "bca55a43-a014-4d4e-862a-ebda1295d92b",
   "metadata": {},
   "outputs": [
    {
     "name": "stdout",
     "output_type": "stream",
     "text": [
      "Regret Matrix:\n",
      "    e1  e2  e3  maxR\n",
      "a2   5   2   0     5\n",
      "a3   0   0   4     4\n",
      "a5   3   0   3     3\n",
      "\n",
      "Strategy:a5 \n",
      "Value:3\n"
     ]
    },
    {
     "data": {
      "text/plain": [
       "('a5', 3)"
      ]
     },
     "execution_count": 20,
     "metadata": {},
     "output_type": "execute_result"
    }
   ],
   "source": [
    "dc.savage_regret(A, gain=False)"
   ]
  },
  {
   "cell_type": "code",
   "execution_count": 21,
   "id": "200cbb07-7b3b-4317-93db-9c29a3a50212",
   "metadata": {},
   "outputs": [
    {
     "name": "stdout",
     "output_type": "stream",
     "text": [
      "Strategy:a3 \n",
      "Value:3.6666666666666665\n"
     ]
    },
    {
     "data": {
      "text/plain": [
       "('a3', 3.6666666666666665)"
      ]
     },
     "execution_count": 21,
     "metadata": {},
     "output_type": "execute_result"
    }
   ],
   "source": [
    "dc.laplace(A, gain=False)"
   ]
  },
  {
   "cell_type": "code",
   "execution_count": null,
   "id": "f01ab318-8d47-449f-963e-53ad77acc4e5",
   "metadata": {},
   "outputs": [],
   "source": []
  }
 ],
 "metadata": {
  "kernelspec": {
   "display_name": "Python 3",
   "language": "python",
   "name": "python3"
  },
  "language_info": {
   "codemirror_mode": {
    "name": "ipython",
    "version": 3
   },
   "file_extension": ".py",
   "mimetype": "text/x-python",
   "name": "python",
   "nbconvert_exporter": "python",
   "pygments_lexer": "ipython3",
   "version": "3.9.0"
  }
 },
 "nbformat": 4,
 "nbformat_minor": 5
}

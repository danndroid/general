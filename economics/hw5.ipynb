{
 "cells": [
  {
   "cell_type": "code",
   "execution_count": 1,
   "id": "920f58eb-17ae-4ee0-976d-b738da09b155",
   "metadata": {},
   "outputs": [],
   "source": [
    "import numpy as np\n",
    "import matplotlib.pyplot as plt\n",
    "plt.style.use('bmh')"
   ]
  },
  {
   "cell_type": "code",
   "execution_count": 2,
   "id": "3fa36fa6-0fa1-4ed7-814c-25672a90cce7",
   "metadata": {},
   "outputs": [],
   "source": [
    "def pay(r, n, pv):\n",
    "    m = pv*r / (1-(1+r)**(-n))\n",
    "    \n",
    "    return int(np.round(m,0))"
   ]
  },
  {
   "cell_type": "markdown",
   "id": "ac35fb2a-49bd-43e7-b9f2-dcd1723a2b9a",
   "metadata": {
    "jp-MarkdownHeadingCollapsed": true,
    "tags": []
   },
   "source": [
    "## P1"
   ]
  },
  {
   "cell_type": "code",
   "execution_count": 44,
   "id": "211697aa-76e7-4860-b883-d5dfecb0a3bc",
   "metadata": {},
   "outputs": [],
   "source": [
    "r_base = 0.11\n",
    "f_base = 5000\n",
    "c = 14000 "
   ]
  },
  {
   "cell_type": "code",
   "execution_count": 45,
   "id": "2fe8e77e-b599-4044-9ac2-9229087109c9",
   "metadata": {},
   "outputs": [
    {
     "name": "stdout",
     "output_type": "stream",
     "text": [
      "1 2252.252252252252\n",
      "2 2029.0560831101368\n",
      "3 1827.9784532523754\n",
      "4 1646.8274353625004\n",
      "5 1483.6283201463966\n",
      "6 1336.6020902219786\n",
      "10576.34463434564\n",
      "Net: -3423.65536565436\n",
      "\n",
      "1 4504.504504504504\n",
      "2 4058.1121662202736\n",
      "3 3655.956906504751\n",
      "4 3293.654870725001\n",
      "5 2967.2566402927932\n",
      "6 2673.2041804439573\n",
      "21152.68926869128\n",
      "Net: 7152.68926869128\n",
      "\n",
      "1 6306.3063063063055\n",
      "2 5681.357032708383\n",
      "3 5118.339669106651\n",
      "4 4611.116819015001\n",
      "5 4154.15929640991\n",
      "6 3742.48585262154\n",
      "29613.764976167793\n",
      "Net: 15613.764976167793\n",
      "\n"
     ]
    }
   ],
   "source": [
    "v1 = []\n",
    "for f in [2500, 5000, 7000]:\n",
    "    flow = 0\n",
    "    for t in np.arange(1, 7):\n",
    "        v = f*(1/((1+r_base)**t))\n",
    "        print(t, v)\n",
    "        flow += v\n",
    "    print(flow)\n",
    "    v1.append(flow-c)\n",
    "    print(f'Net: {flow-c}\\n')"
   ]
  },
  {
   "cell_type": "code",
   "execution_count": 46,
   "id": "9a2610d0-6169-405c-b560-f265c7fe8818",
   "metadata": {},
   "outputs": [
    {
     "name": "stdout",
     "output_type": "stream",
     "text": [
      "1 4566.210045662101\n",
      "2 4170.054836221097\n",
      "3 3808.2692568229195\n",
      "4 3477.8714674181915\n",
      "5 3176.1383264093074\n",
      "6 2900.582946492518\n",
      "22099.12687902614\n",
      "Net: 8099.126879026138\n",
      "\n",
      "1 4504.504504504504\n",
      "2 4058.1121662202736\n",
      "3 3655.956906504751\n",
      "4 3293.654870725001\n",
      "5 2967.2566402927932\n",
      "6 2673.2041804439573\n",
      "21152.68926869128\n",
      "Net: 7152.68926869128\n",
      "\n",
      "1 4464.285714285714\n",
      "2 3985.9693877551017\n",
      "3 3558.9012390670546\n",
      "4 3177.5903920241553\n",
      "5 2837.134278592996\n",
      "6 2533.1556058866026\n",
      "20557.036617611622\n",
      "Net: 6557.036617611622\n",
      "\n"
     ]
    }
   ],
   "source": [
    "v2 = []\n",
    "for r in [0.095, 0.11, 0.12]:\n",
    "    flow = 0\n",
    "    for t in np.arange(1, 7):\n",
    "        v = f_base*(1/((1+r)**t))\n",
    "        print(t, v)\n",
    "        flow += v\n",
    "    print(flow)\n",
    "    v2.append(flow-c)\n",
    "    print(f'Net: {flow-c}\\n')"
   ]
  },
  {
   "cell_type": "code",
   "execution_count": 47,
   "id": "7b1cfdb3-c465-4d79-9473-1f7fd5585490",
   "metadata": {},
   "outputs": [
    {
     "data": {
      "image/png": "[encoded data removed]",
      "text/plain": [
       "<Figure size 432x288 with 1 Axes>"
      ]
     },
     "metadata": {
      "needs_background": "light"
     },
     "output_type": "display_data"
    }
   ],
   "source": [
    "plt.title('',fontsize=20)\n",
    "\n",
    "s = ['','RATE','FLOW','']\n",
    "x = np.linspace(np.min(v1),np.max(v1), 25)\n",
    "y = [2]* len(x)\n",
    "c = ['red' if s<=0 else 'blue' for s in x]\n",
    "plt.scatter(x,y, color=c, s=600)\n",
    "\n",
    "x = np.linspace(np.min(v2),np.max(v2), 3)\n",
    "y = [1]* len(x)\n",
    "c = ['red' if s<=0 else 'blue' for s in x]\n",
    "plt.scatter(x,y, color=c, s=600)\n",
    "plt.yticks(range(len(s)), s, size='small')\n",
    "\n",
    "plt.ylabel('Variables', fontsize=15)\n",
    "plt.xlabel('Net Present Value', fontsize=15)\n",
    "plt.show()"
   ]
  },
  {
   "cell_type": "markdown",
   "id": "a984cd25-0105-47d6-92f5-15269af4f563",
   "metadata": {
    "jp-MarkdownHeadingCollapsed": true,
    "tags": []
   },
   "source": [
    "## P2"
   ]
  },
  {
   "cell_type": "code",
   "execution_count": 48,
   "id": "8e2c5061-6c39-4a7a-ae30-74bb40b41fbd",
   "metadata": {},
   "outputs": [],
   "source": [
    "def calculate(house, verbose=0):\n",
    "    \n",
    "    tax_rate = 0.33\n",
    "    property_tax_rate = 0.01\n",
    "    \n",
    "    if house == 'astoria':\n",
    "        price = 450000\n",
    "        insurance = 1080\n",
    "        mortage = 27866\n",
    "        repair = 2400\n",
    "        p_rented = 0\n",
    "        monthly_rent = 0\n",
    "        months_occupied = 0\n",
    "        \n",
    "        P = 0.78\n",
    "        \n",
    "    elif house == 'charlotte':\n",
    "        price = 600000\n",
    "        insurance = 1440\n",
    "        mortage = 47143\n",
    "        repair = 4000\n",
    "        p_rented = 0.35\n",
    "        monthly_rent = 1500\n",
    "        months_occupied = 10\n",
    "        \n",
    "        P = 0.85\n",
    "        \n",
    "    elif house == 'barnard':\n",
    "        price = 750000\n",
    "        insurance = 1800\n",
    "        mortage = 56813\n",
    "        repair = 3200\n",
    "        p_rented = 0.40\n",
    "        monthly_rent = 2000\n",
    "        months_occupied = 10\n",
    "        \n",
    "        P = 0.85\n",
    "        \n",
    "    tax_ded = tax_rate*(1-p_rented)*(P*mortage)\n",
    "    \n",
    "    rental_income = monthly_rent*months_occupied\n",
    "    \n",
    "    cost = mortage + insurance + repair + price*property_tax_rate\n",
    "    \n",
    "    net_anual_cost = cost - (rental_income + tax_ded)\n",
    " \n",
    "    \n",
    "    if verbose:\n",
    "        print(f'Tax Ded.: {tax_ded}')\n",
    "        print(f'Rental Income: {rental_income}')\n",
    "        print(f'Cost: {cost}')\n",
    "        print(f'Net: {np.round(net_anual_cost,1)}\\n')\n",
    "        \n",
    "    \n",
    "    return np.round(net_anual_cost,0)\n",
    "    "
   ]
  },
  {
   "cell_type": "code",
   "execution_count": 49,
   "id": "26b447b9-4d9e-4716-9e58-7e27ee3a177a",
   "metadata": {},
   "outputs": [
    {
     "data": {
      "text/plain": [
       "28673.0"
      ]
     },
     "execution_count": 49,
     "metadata": {},
     "output_type": "execute_result"
    }
   ],
   "source": [
    "calculate('astoria')"
   ]
  },
  {
   "cell_type": "code",
   "execution_count": 50,
   "id": "07a0c8b0-1473-4d69-8a50-6d769977a04c",
   "metadata": {},
   "outputs": [
    {
     "data": {
      "text/plain": [
       "39751.0"
      ]
     },
     "execution_count": 50,
     "metadata": {},
     "output_type": "execute_result"
    }
   ],
   "source": [
    "calculate('barnard')"
   ]
  },
  {
   "cell_type": "code",
   "execution_count": 51,
   "id": "0743004a-349c-46a9-8576-d91bfb60bbe1",
   "metadata": {},
   "outputs": [
    {
     "data": {
      "text/plain": [
       "34988.0"
      ]
     },
     "execution_count": 51,
     "metadata": {},
     "output_type": "execute_result"
    }
   ],
   "source": [
    "calculate('charlotte')"
   ]
  },
  {
   "cell_type": "code",
   "execution_count": 95,
   "id": "44501bba-cd96-476c-8a00-e2cc3b0d5d41",
   "metadata": {},
   "outputs": [],
   "source": [
    "def calculate_v2(house, tax=0.33, verbose=0):\n",
    "    \n",
    "    tax_rate = tax\n",
    "    \n",
    "    property_tax_rate = 0.01\n",
    "    appreciation_percent = 0.0625\n",
    "    \n",
    "    if house == 'astoria':\n",
    "        price = 450000\n",
    "        insurance = 1080\n",
    "        mortage = 27866\n",
    "        repair = 2400\n",
    "        p_rented = 0\n",
    "        monthly_rent = 0\n",
    "        months_occupied = 0\n",
    "        \n",
    "        equity = 6131\n",
    "        \n",
    "        P = 0.78\n",
    "        \n",
    "    elif house == 'barnard':\n",
    "        price = 750000\n",
    "        insurance = 1800\n",
    "        mortage = 56813\n",
    "        repair = 3200\n",
    "        p_rented = 0.40\n",
    "        monthly_rent = 2000\n",
    "        months_occupied = 10\n",
    "        \n",
    "        equity = 8522\n",
    "        \n",
    "        P = 0.85\n",
    "        \n",
    "    elif house == 'charlotte':\n",
    "        price = 600000\n",
    "        insurance = 1440\n",
    "        mortage = 47143\n",
    "        repair = 4000\n",
    "        p_rented = 0.35\n",
    "        monthly_rent = 1500\n",
    "        months_occupied = 10\n",
    "        \n",
    "        equity = 7071\n",
    "        \n",
    "        P = 0.85\n",
    "        \n",
    "        \n",
    "    interest_paid = (P*mortage)\n",
    "    depreciation = (p_rented*price)/27\n",
    "    deductible_mortage_interest = (1-p_rented)*interest_paid\n",
    "        \n",
    "    tax_deduction = deductible_mortage_interest + depreciation + p_rented*repair\n",
    "    \n",
    "    tax_savings = tax_deduction*tax_rate\n",
    "    \n",
    "    rental_income = monthly_rent*months_occupied\n",
    "    \n",
    "    tax_on_rental_income = (tax_rate*rental_income) #- (p_rented*repair)\n",
    "\n",
    "    total_cost = mortage + insurance + repair + (price*property_tax_rate) + tax_on_rental_income\n",
    "    \n",
    "    net_anual_cost = total_cost - (rental_income + tax_savings)\n",
    "    \n",
    "    appreciation = price * appreciation_percent\n",
    "    \n",
    "    value = appreciation + equity - net_anual_cost\n",
    "    \n",
    "    if verbose:\n",
    "        print(f'Tax Deduction.: {tax_deduction:.1f}')\n",
    "        print(f'    {deductible_mortage_interest:.1f} + {depreciation:.1f} + {p_rented*repair:.1f}\\n')\n",
    "        print(f'Tax Savings: {tax_savings:.1f}')\n",
    "        print(f'    {tax_deduction:.1f} * {tax_rate:.1f}\\n')\n",
    "        print(f'Rental Income: {rental_income:.1f}')\n",
    "        print(f'    {monthly_rent:.1f} * {months_occupied:.1f}\\n')\n",
    "        print(f'Tax on Rental Income: {tax_on_rental_income}')\n",
    "        print(f'    {(tax_rate*rental_income)} + {(p_rented*repair)}\\n')\n",
    "        print(f'Cost: {total_cost}')\n",
    "        print(f'    {mortage} + {insurance} + {repair} + {(price*p_tax_rate)} + {tax_on_rental_income}\\n')\n",
    "        print(f'Net Cost: {np.round(net_anual_cost,0)}\\n')\n",
    "        \n",
    "    print(f'Value: {value:.0f}')\n",
    "    \n",
    "    return np.round(net_anual_cost,0)"
   ]
  },
  {
   "cell_type": "code",
   "execution_count": 96,
   "id": "5a1924cd-7404-475c-bbb8-21c388cf8015",
   "metadata": {},
   "outputs": [
    {
     "name": "stdout",
     "output_type": "stream",
     "text": [
      "28673.0\n",
      "Value: 5583\n"
     ]
    },
    {
     "data": {
      "text/plain": [
       "28673.0"
      ]
     },
     "execution_count": 96,
     "metadata": {},
     "output_type": "execute_result"
    }
   ],
   "source": [
    "print(calculate('astoria',verbose=0))\n",
    "calculate_v2('astoria',verbose=0)"
   ]
  },
  {
   "cell_type": "code",
   "execution_count": 97,
   "id": "eed86cfe-7b2d-4bbb-ba9e-58feae3058ff",
   "metadata": {},
   "outputs": [
    {
     "name": "stdout",
     "output_type": "stream",
     "text": [
      "39751.0\n",
      "Value: 13135\n"
     ]
    },
    {
     "data": {
      "text/plain": [
       "42262.0"
      ]
     },
     "execution_count": 97,
     "metadata": {},
     "output_type": "execute_result"
    }
   ],
   "source": [
    "print(calculate('barnard',verbose=0))\n",
    "calculate_v2('barnard',verbose=0)"
   ]
  },
  {
   "cell_type": "code",
   "execution_count": 98,
   "id": "f0371167-5f56-463d-85a6-881b6f4623a3",
   "metadata": {},
   "outputs": [
    {
     "name": "stdout",
     "output_type": "stream",
     "text": [
      "34988.0\n",
      "Value: 7662\n"
     ]
    },
    {
     "data": {
      "text/plain": [
       "36909.0"
      ]
     },
     "execution_count": 98,
     "metadata": {},
     "output_type": "execute_result"
    }
   ],
   "source": [
    "print(calculate('charlotte',verbose=0))\n",
    "calculate_v2('charlotte',verbose=0)"
   ]
  },
  {
   "cell_type": "code",
   "execution_count": 59,
   "id": "10edba29-833c-40cd-94b8-5190520cc35f",
   "metadata": {},
   "outputs": [
    {
     "name": "stdout",
     "output_type": "stream",
     "text": [
      "Astoria\n",
      "28673.0 28673.0 ----> 0.0\n",
      "Barnard\n",
      "39751.0 42262.0 ----> -2511.0\n",
      "Carlotte\n",
      "34988.0 36909.0 ----> -1921.0\n"
     ]
    }
   ],
   "source": [
    "print('Astoria')\n",
    "print(calculate('astoria'), calculate_v2('astoria'),'---->', calculate('astoria') - calculate_v2('astoria'))\n",
    "print('Barnard')\n",
    "print(calculate('barnard'), calculate_v2('barnard'),'---->', calculate('barnard') - calculate_v2('barnard'))\n",
    "print('Carlotte')\n",
    "print(calculate('charlotte'), calculate_v2('charlotte'),'---->', calculate('charlotte') - calculate_v2('charlotte'))"
   ]
  },
  {
   "cell_type": "code",
   "execution_count": 60,
   "id": "da95d030-ec58-4483-93ed-92b72b527dd8",
   "metadata": {},
   "outputs": [
    {
     "data": {
      "text/plain": [
       "array([0.15      , 0.18333333, 0.21666667, 0.25      , 0.28333333,\n",
       "       0.31666667, 0.35      , 0.38333333, 0.41666667, 0.45      ])"
      ]
     },
     "execution_count": 60,
     "metadata": {},
     "output_type": "execute_result"
    }
   ],
   "source": [
    "taxes = np.linspace(0.15, 0.45, 10)\n",
    "taxes"
   ]
  },
  {
   "cell_type": "code",
   "execution_count": 61,
   "id": "c96a02dc-8942-4530-ae78-ada457558fba",
   "metadata": {},
   "outputs": [],
   "source": [
    "a = []\n",
    "b = []\n",
    "c = []\n",
    "for t in taxes:\n",
    "    a.append(calculate_v2('astoria',t)450000)\n",
    "    b.append(calculate_v2('barnard',t))\n",
    "    c.append(calculate_v2('charlotte',t))"
   ]
  },
  {
   "cell_type": "code",
   "execution_count": 62,
   "id": "77523587-44d6-4c62-be04-5c574c7c9280",
   "metadata": {},
   "outputs": [
    {
     "data": {
      "image/png": "[encoded data removed]",
      "text/plain": [
       "<Figure size 432x288 with 1 Axes>"
      ]
     },
     "metadata": {
      "needs_background": "light"
     },
     "output_type": "display_data"
    }
   ],
   "source": [
    "plt.title('Sensitivity to Income Tax', fontsize=20)\n",
    "plt.plot(taxes, a, label='Astoria')\n",
    "plt.plot(taxes, b, label='Barnard')\n",
    "plt.plot(taxes, c, label='Charlotte')\n",
    "plt.xlabel('Income Tax Rate', fontsize=15)\n",
    "plt.ylabel('Net Annual Cost', fontsize=15)\n",
    "plt.legend()\n",
    "plt.show()"
   ]
  },
  {
   "cell_type": "code",
   "execution_count": 71,
   "id": "76a9a56e-af3e-4f62-96b0-a2bc7f44d3b3",
   "metadata": {},
   "outputs": [
    {
     "name": "stdout",
     "output_type": "stream",
     "text": [
      "0.1500 --- 32586.00\n",
      "0.1833 --- 31861.00\n",
      "0.2167 --- 31137.00\n",
      "0.2500 --- 30412.00\n",
      "0.2833 --- 29688.00\n",
      "0.3167 --- 28963.00\n",
      "0.3500 --- 28239.00\n",
      "0.3833 --- 27514.00\n",
      "0.4167 --- 26790.00\n",
      "0.4500 --- 26065.00\n"
     ]
    }
   ],
   "source": [
    "for i,j in zip(taxes,a):\n",
    "    print(f'{i:.4f} --- {j:.2f}')"
   ]
  },
  {
   "cell_type": "code",
   "execution_count": 24,
   "id": "500bf8fb-98c4-4116-b124-dc875f146e42",
   "metadata": {},
   "outputs": [],
   "source": [
    "def pay(r, n, pv):\n",
    "    m = pv*r / (1-(1+r)**(-n))\n",
    "    \n",
    "    return int(np.round(m,0))"
   ]
  },
  {
   "cell_type": "code",
   "execution_count": 25,
   "id": "8f69082b-e35e-4887-a754-7a2f2eaedd35",
   "metadata": {},
   "outputs": [
    {
     "data": {
      "text/plain": [
       "27866"
      ]
     },
     "execution_count": 25,
     "metadata": {},
     "output_type": "execute_result"
    }
   ],
   "source": [
    "pay(0.055, 30, 450000-45000)"
   ]
  },
  {
   "cell_type": "code",
   "execution_count": 29,
   "id": "12566d5c-c3f9-449d-8853-c63d6e681115",
   "metadata": {},
   "outputs": [],
   "source": [
    "def calculate_astoria(down=45000, \n",
    "                      interest=0.055, \n",
    "                      tax_rate=0.33, \n",
    "                      property_tax_rate=0.01,\n",
    "                      monthly_rent=1500,\n",
    "                      months_occupied=10, \n",
    "                      insurance=1080,\n",
    "                      repair=2400,\n",
    "                      verbose=0):\n",
    "    \n",
    "    price = 450000\n",
    "    p_rented = 0\n",
    "    P = 0.78\n",
    "    \n",
    "\n",
    "    pv = price - down\n",
    "    mortage = pay(interest,30,pv)\n",
    "    #print('Mortage: ', mortage)\n",
    "\n",
    "        \n",
    "    interest_paid = (P*mortage)\n",
    "    depreciation = (p_rented*price)/27\n",
    "    deductible_mortage_interest = (1-p_rented)*interest_paid\n",
    "        \n",
    "    tax_deduction = deductible_mortage_interest + depreciation + p_rented*repair\n",
    "    \n",
    "    tax_savings = tax_deduction*tax_rate\n",
    "    \n",
    "    rental_income = monthly_rent*months_occupied\n",
    "    \n",
    "    tax_on_rental_income = (tax_rate*rental_income) #- (p_rented*repair)\n",
    "\n",
    "    total_cost = mortage + insurance + repair + (price*property_tax_rate) + tax_on_rental_income\n",
    "    \n",
    "    net_anual_cost = total_cost - (rental_income + tax_savings)\n",
    "    \n",
    "    if verbose:450000\n",
    "        print(f'Tax Deduction.: astoria{tax_deduction:.1f}')\n",
    "        print(f'    {deductible_mortage_interest:.1f} + {depreciation:.1f} + {p_rented*repair:.1f}\\n')\n",
    "        print(f'Tax Savings: {tax_savings:.1f}')\n",
    "        print(f'    {tax_deduction:.1f} * {tax_rate:.1f}\\n')\n",
    "        print(f'Rental Income: {rental_income:.1f}')\n",
    "        print(f'    {monthly_rent:.1f} * {months_occupied:.1f}\\n')\n",
    "        print(f'Tax on Rental Income: {tax_on_rental_income}')\n",
    "        print(f'    {(tax_rate*rental_income)} + {(p_rented*repair)}\\n')\n",
    "        print(f'Cost: {total_cost}')\n",
    "        print(f'    {mortage} + {insurance} + {repair} + {(price*p_tax_rate)} + {tax_on_rental_income}\\n')\n",
    "        print(f'Net Cost: {np.round(net_anual_cost,0)}\\n')\n",
    "    \n",
    "    return np.round(net_anual_cost,0)"
   ]
  },
  {
   "cell_type": "code",
   "execution_count": 30,
   "id": "63ee09f5-fd25-4632-81ec-f93e765115fa",
   "metadata": {},
   "outputs": [
    {
     "data": {
      "text/plain": [
       "28673.0"
      ]
     },
     "execution_count": 30,
     "metadata": {},
     "output_type": "execute_result"
    }
   ],
   "source": [
    "calculate_astoria(monthly_rent=0, verbose=0) # BASE SCENARIOpv"
   ]
  },
  {
   "cell_type": "code",
   "execution_count": 31,
   "id": "3fcf6eec-ca36-428c-8efa-db3ad18df6d4",
   "metadata": {},
   "outputs": [
    {
     "data": {
      "text/plain": [
       "18623.0"
      ]
     },
     "execution_count": 31,
     "metadata": {},
     "output_type": "execute_result"
    }
   ],
   "source": [
    "calculate_astoria(verbose=0) # BASE SCENARIO"
   ]
  },
  {
   "cell_type": "code",
   "execution_count": 32,
   "id": "c169b097-1899-4481-b956-e12d347459ce",
   "metadata": {},
   "outputs": [],
   "source": [
    "p1 = [30000, 45000, 70000]\n",
    "p2 = [0.04, 0.055, 0.08]\n",
    "p3 = [0.25, 0.55, 0.44]\n",
    "p4 = [0.01, 0.01, 0.02]\n",
    "p5 = [1000, 1500, 2400]\n",
    "p6 = [0, 10, 12]\n",
    "p7 = [800, 1080, 1600]\n",
    "p8 = [1000, 2400, 10000]"
   ]
  },
  {
   "cell_type": "code",
   "execution_count": 33,
   "id": "144e2f40-9130-44b4-afeb-7b57a50305ed",
   "metadata": {},
   "outputs": [],
   "source": [
    "p1v = []\n",
    "p2v = []\n",
    "p3v = []\n",
    "p4v = []\n",
    "p5v = []\n",
    "p6v = []\n",
    "p7v = []\n",
    "p8v = []\n",
    "for i in p1:\n",
    "    p1v.append(calculate_astoria(down=i))\n",
    "for i in p2:\n",
    "    p2v.append(calculate_astoria(interest=i))\n",
    "for i in p3:\n",
    "    p3v.append(calculate_astoria(tax_rate=i))\n",
    "for i in p4:\n",
    "    p4v.append(calculate_astoria(property_tax_rate=i))\n",
    "for i in p5:\n",
    "    p5v.append(calculate_astoria(monthly_rent=i))\n",
    "for i in p6:\n",
    "    p6v.append(calculate_astoria(months_occupied=i))\n",
    "for i in p7:\n",
    "    p7v.append(calculate_astoria(insurance=i))\n",
    "for i in p8:\n",
    "    p8v.append(calculate_astoria(repair=i))"
   ]
  },
  {
   "cell_type": "code",
   "execution_count": 74,
   "id": "626e497f-e67c-485b-91c0-2961324c6a8a",
   "metadata": {},
   "outputs": [],
   "source": [
    "parameters = [p1v,p2v,p3v,p4v,p5v,p6v,p7v,p8v]"
   ]
  },
  {
   "cell_type": "code",
   "execution_count": 76,
   "id": "f10bcaaf-d00e-4673-8c68-31f8598e13a6",
   "metadata": {},
   "outputs": [
    {
     "name": "stdout",
     "output_type": "stream",
     "text": [
      "5\n",
      "[2044.0, 9323.0, 2021.0, 4500.0, 9380.0, -1, 800.0, 9000.0]\n",
      "4\n",
      "[2044.0, 9323.0, 2021.0, 4500.0, -1, -1, 800.0, 9000.0]\n",
      "1\n",
      "[2044.0, -1, 2021.0, 4500.0, -1, -1, 800.0, 9000.0]\n",
      "7\n",
      "[2044.0, -1, 2021.0, 4500.0, -1, -1, 800.0, -1]\n",
      "3\n",
      "[2044.0, -1, 2021.0, -1, -1, -1, 800.0, -1]\n",
      "0\n",
      "[-1, -1, 2021.0, -1, -1, -1, 800.0, -1]\n",
      "2\n",
      "[-1, -1, -1, -1, -1, -1, 800.0, -1]\n",
      "6\n",
      "[-1, -1, -1, -1, -1, -1, -1, -1]\n"
     ]
    }
   ],
   "source": [
    "rank = []\n",
    "for i, v in enumerate(parameters):\n",
    "    #print(i, np.ptp(v))\n",
    "    rank.append(np.ptp(v))\n",
    "sorted_rank = []\n",
    "while np.sum(rank) >0:    \n",
    "    idx = np.argmax(rank)\n",
    "    print(idx)\n",
    "    rank[idx] = -1\n",
    "    print(rank)\n",
    "    sorted_rank.append(parameters[idx])"
   ]
  },
  {
   "cell_type": "code",
   "execution_count": 35,
   "id": "094a07df-2448-4853-8b1c-57b053a1259f",
   "metadata": {},
   "outputs": [],
   "source": [
    "news = [p7v,p3v,p1v,p4v,p8v,p2v,p5v,p6v]"
   ]
  },
  {
   "cell_type": "code",
   "execution_count": 42,
   "id": "a8502f61-aad5-4ba3-a0d8-9d8b618b0ec9",
   "metadata": {},
   "outputs": [
    {
     "data": {
      "image/png": "[encoded data removed]",
      "text/plain": [
       "<Figure size 720x504 with 1 Axes>"
      ]
     },
     "metadata": {
      "needs_background": "light"
     },
     "output_type": "display_data"
    }
   ],
   "source": [
    "plt.figure(figsize=(10,7))\n",
    "plt.title('',fontsize=20)\n",
    "\n",
    "s = ['','INSURANCE','TAX RATE','DOWN PAYMENT','P. TAX RATE','REPAIRS','INTEREST RATE','RENT','M. OCCUPIED','']\n",
    "\n",
    "for i, v in enumerate(news):\n",
    "    x = np.linspace(np.min(v),np.max(v), 50)\n",
    "    y = [i+1]* len(x)\n",
    "    c = ['red' if s<=0 else 'blue' for s in x]\n",
    "    plt.scatter(x,y, color=c, s=400)\n",
    "\n",
    "plt.yticks(range(len(s)), s, size='small')\n",
    "\n",
    "plt.ylabel('Variables', fontsize=15)\n",
    "plt.xlabel('Net Annual Cost', fontsize=15)\n",
    "plt.show()"
   ]
  },
  {
   "cell_type": "code",
   "execution_count": null,
   "id": "37f368ae-0d16-46b3-975a-8334cb680e9b",
   "metadata": {},
   "outputs": [],
   "source": []
  },
  {
   "cell_type": "markdown",
   "id": "72afa469-9b40-4a7a-87ec-e025c83f2617",
   "metadata": {},
   "source": [
    "## P4"
   ]
  },
  {
   "cell_type": "code",
   "execution_count": 3,
   "id": "ffc0ae0b-55c3-48d5-b511-4f87e5541d30",
   "metadata": {},
   "outputs": [],
   "source": [
    "def calculate_house(house='astoria',\n",
    "                      #down=45000, \n",
    "                      interest=0.055, \n",
    "                      tax_rate=0.33, \n",
    "                      property_tax_rate=0.01,\n",
    "                      #monthly_rent=1500,\n",
    "                      #months_occupied=10, \n",
    "                      #insurance=1080,\n",
    "                      #repair=2400,\n",
    "                    \n",
    "                      appreciation_percent = 0.0625,\n",
    "                    \n",
    "                      value=0):\n",
    "    \n",
    "    if house == 'astoria':\n",
    "        price = 450000\n",
    "        p_rented = 0\n",
    "        P = 0.78\n",
    "        down=45000\n",
    "        monthly_rent=0\n",
    "        months_occupied=0\n",
    "        insurance=1080\n",
    "        repair=2400\n",
    "        equity = 6131\n",
    "        \n",
    "    if house == 'barnard':\n",
    "        price = 750000\n",
    "        p_rented = 0.40\n",
    "        P = 0.85\n",
    "        down=45000\n",
    "        monthly_rent=2000\n",
    "        months_occupied=10 \n",
    "        insurance=1800\n",
    "        repair=3200\n",
    "        equity = 8522\n",
    "        \n",
    "    if house == 'charlotte':\n",
    "        price = 600000\n",
    "        p_rented = 0.35\n",
    "        P = 0.85\n",
    "        down=15000\n",
    "        monthly_rent=1500\n",
    "        months_occupied=10\n",
    "        insurance=1440\n",
    "        repair=4000\n",
    "        equity = 7071\n",
    "    \n",
    "\n",
    "    pv = price - down\n",
    "    mortage = pay(interest, 30, pv)\n",
    "    #print('Mortage: ', mortage)\n",
    "\n",
    "        \n",
    "    interest_paid = (P*mortage)\n",
    "    depreciation = (p_rented*price)/27\n",
    "    deductible_mortage_interest = (1-p_rented)*interest_paid\n",
    "        \n",
    "    tax_deduction = deductible_mortage_interest + depreciation + p_rented*repair\n",
    "    \n",
    "    tax_savings = tax_deduction*tax_rate\n",
    "    \n",
    "    rental_income = monthly_rent*months_occupied\n",
    "    \n",
    "    tax_on_rental_income = (tax_rate*rental_income) #- (p_rented*repair)\n",
    "\n",
    "    total_cost = mortage + insurance + repair + (price*property_tax_rate) + tax_on_rental_income\n",
    "    \n",
    "    net_anual_cost = total_cost - (rental_income + tax_savings)\n",
    "    \n",
    "    appreciation = price * appreciation_percent\n",
    "    value = appreciation + equity - net_anual_cost\n",
    "    \n",
    "\n",
    "    return np.round(net_anual_cost,0), np.round(value,0)"
   ]
  },
  {
   "cell_type": "code",
   "execution_count": 4,
   "id": "123923ee-9a88-4199-8210-ae01885a2b79",
   "metadata": {},
   "outputs": [
    {
     "name": "stdout",
     "output_type": "stream",
     "text": [
      "(28673.0, 5583.0) \n",
      "\n",
      "(42262.0, 13135.0) \n",
      "\n",
      "(36909.0, 7662.0)\n"
     ]
    }
   ],
   "source": [
    "print(calculate_house('astoria'),'\\n')\n",
    "print(calculate_house('barnard', interest=0.07),'\\n')\n",
    "print(calculate_house('charlotte', interest=0.07))"
   ]
  },
  {
   "cell_type": "code",
   "execution_count": 5,
   "id": "66369ccd-df14-4d8b-8df2-a2dbdd2b8a1f",
   "metadata": {},
   "outputs": [
    {
     "name": "stdout",
     "output_type": "stream",
     "text": [
      "36909.0\n",
      "7662.0\n"
     ]
    }
   ],
   "source": [
    "print(calculate_house('charlotte', interest=0.07)[0])\n",
    "print(calculate_house('charlotte', interest=0.07)[1])"
   ]
  },
  {
   "cell_type": "code",
   "execution_count": 6,
   "id": "37b988f1-9572-46cd-8607-78f0e447d99a",
   "metadata": {},
   "outputs": [
    {
     "data": {
      "text/plain": [
       "array([0.05      , 0.05333333, 0.05666667, 0.06      , 0.06333333,\n",
       "       0.06666667, 0.07      , 0.07333333, 0.07666667, 0.08      ])"
      ]
     },
     "execution_count": 6,
     "metadata": {},
     "output_type": "execute_result"
    }
   ],
   "source": [
    "rates = np.linspace(0.05, 0.08, 10)\n",
    "rates"
   ]
  },
  {
   "cell_type": "code",
   "execution_count": 7,
   "id": "0d5d2f42-6cbd-47f8-97ad-7f071c6a580c",
   "metadata": {},
   "outputs": [],
   "source": [
    "a = []\n",
    "b = []\n",
    "c = []\n",
    "for r in rates:\n",
    "    a.append(calculate_house('astoria', interest=r)[1])\n",
    "    b.append(calculate_house('barnard', interest=r)[1])\n",
    "    c.append(calculate_house('charlotte', interest=r)[1])"
   ]
  },
  {
   "cell_type": "code",
   "execution_count": 8,
   "id": "6b1f85de-846a-4a10-aacb-1549d5d0ea91",
   "metadata": {},
   "outputs": [
    {
     "data": {
      "image/png": "[encoded data removed]",
      "text/plain": [
       "<Figure size 432x288 with 1 Axes>"
      ]
     },
     "metadata": {
      "needs_background": "light"
     },
     "output_type": "display_data"
    }
   ],
   "source": [
    "plt.title('Sensitivity to Interest Rate', fontsize=20)\n",
    "plt.plot(rates, a, label='Astoria')\n",
    "plt.plot(rates, b, label='Barnard')\n",
    "plt.plot(rates, c, label='Charlotte')\n",
    "plt.xlabel('Interest Rate', fontsize=15)\n",
    "plt.ylabel('App+Equ-Cost', fontsize=15)\n",
    "plt.legend()\n",
    "plt.show()"
   ]
  },
  {
   "cell_type": "code",
   "execution_count": 9,
   "id": "98dda177-aaee-4e43-84e2-16762015f861",
   "metadata": {},
   "outputs": [
    {
     "data": {
      "text/plain": [
       "array([0.02      , 0.02888889, 0.03777778, 0.04666667, 0.05555556,\n",
       "       0.06444444, 0.07333333, 0.08222222, 0.09111111, 0.1       ])"
      ]
     },
     "execution_count": 9,
     "metadata": {},
     "output_type": "execute_result"
    }
   ],
   "source": [
    "percents = np.linspace(0.02, 0.10, 10)\n",
    "percents"
   ]
  },
  {
   "cell_type": "code",
   "execution_count": 10,
   "id": "108bb9cc-e803-4716-b946-c2f10060599f",
   "metadata": {},
   "outputs": [],
   "source": [
    "a = []\n",
    "b = []\n",
    "c = []\n",
    "for p in percents:\n",
    "    a.append(calculate_house('astoria', appreciation_percent=p)[1])\n",
    "    b.append(calculate_house('barnard', appreciation_percent=p, interest=0.07)[1])\n",
    "    c.append(calculate_house('charlotte', appreciation_percent=p, interest=0.07)[1])"
   ]
  },
  {
   "cell_type": "code",
   "execution_count": 11,
   "id": "d0f86567-c7f4-4d7c-9df7-cd46dd5aae29",
   "metadata": {},
   "outputs": [
    {
     "data": {
      "image/png": "[encoded data removed]",
      "text/plain": [
       "<Figure size 432x288 with 1 Axes>"
      ]
     },
     "metadata": {
      "needs_background": "light"
     },
     "output_type": "display_data"
    }
   ],
   "source": [
    "plt.title('Sensitivity to Appreciation percentage', fontsize=20)\n",
    "plt.plot(percents, a, label='Astoria')\n",
    "plt.plot(percents, b, label='Barnard')\n",
    "plt.plot(percents, c, label='Charlotte')\n",
    "plt.xlabel('Appreciation percentage', fontsize=15)\n",
    "plt.ylabel('App+Equ-Cost', fontsize=15)\n",
    "plt.legend()\n",
    "plt.show()"
   ]
  },
  {
   "cell_type": "code",
   "execution_count": 12,
   "id": "94700207-b0c7-4507-ae3f-54ee027787cf",
   "metadata": {},
   "outputs": [
    {
     "data": {
      "text/plain": [
       "0.9999999999999999"
      ]
     },
     "execution_count": 12,
     "metadata": {},
     "output_type": "execute_result"
    }
   ],
   "source": [
    "aps = [0.1, 0.06, 0.02]\n",
    "probs = [1/6,4/6,1/6]\n",
    "np.sum(probs)"
   ]
  },
  {
   "cell_type": "code",
   "execution_count": 13,
   "id": "e7ddd05c-c7fc-4c67-b493-65675fc448a7",
   "metadata": {},
   "outputs": [],
   "source": [
    "a = []\n",
    "b = []\n",
    "c = []\n",
    "for p in aps:\n",
    "    a.append(calculate_house('astoria', appreciation_percent=p)[1])\n",
    "    b.append(calculate_house('barnard', appreciation_percent=p, interest=0.07)[1])\n",
    "    c.append(calculate_house('charlotte', appreciation_percent=p, interest=0.07)[1])"
   ]
  },
  {
   "cell_type": "code",
   "execution_count": 14,
   "id": "02cafc56-f3c9-4c97-bc30-c95131f8586e",
   "metadata": {},
   "outputs": [
    {
     "name": "stdout",
     "output_type": "stream",
     "text": [
      "[22458.0, 4458.0, -13542.0]\n",
      "[41260.0, 11260.0, -18740.0]\n",
      "[30162.0, 6162.0, -17838.0]\n"
     ]
    }
   ],
   "source": [
    "print(a)\n",
    "print(b)\n",
    "print(c)"
   ]
  },
  {
   "cell_type": "code",
   "execution_count": 15,
   "id": "6928cfbc-1b20-4cb2-973e-62dc726804dc",
   "metadata": {},
   "outputs": [
    {
     "name": "stdout",
     "output_type": "stream",
     "text": [
      "4458.0\n",
      "11260.0\n",
      "6162.0\n"
     ]
    }
   ],
   "source": [
    "print(np.dot(np.array(a),np.array(probs)))\n",
    "print(np.dot(np.array(b),np.array(probs)))\n",
    "print(np.dot(np.array(c),np.array(probs)))"
   ]
  },
  {
   "cell_type": "code",
   "execution_count": 36,
   "id": "3a475e2e-0b72-446b-a859-201f6a8c1ffd",
   "metadata": {},
   "outputs": [],
   "source": [
    "x = np.linspace(0,1)\n",
    "y = -1*x + 1\n",
    "ax = np.linspace(0,1)\n",
    "ay = -0.75*ax + 0.217\n",
    "bx = np.linspace(0,1)\n",
    "by = -0.75*bx + 0.317\n",
    "cx = np.linspace(0,1)\n",
    "cy = -0.75*cx + 0.12"
   ]
  },
  {
   "cell_type": "code",
   "execution_count": 52,
   "id": "e8f36a1f-94d8-46b5-8d33-e3402e326b78",
   "metadata": {},
   "outputs": [
    {
     "data": {
      "image/png": "[encoded data removed]",
      "text/plain": [
       "<Figure size 432x432 with 1 Axes>"
      ]
     },
     "metadata": {
      "needs_background": "light"
     },
     "output_type": "display_data"
    }
   ],
   "source": [
    "plt.figure(figsize=(6,6))\n",
    "plt.title('Two-way Sensitivity', fontsize=20)\n",
    "plt.plot(x, y, c='black')\n",
    "plt.plot(ax, ay, label='E[A]=E[B]')\n",
    "plt.plot(bx, by, label='E[A]=E[C]')\n",
    "plt.plot(cx, cy, label='E[B]=E[C]')\n",
    "#plt.plot([0,1-(1/6)],[1/6, -1*(1-(1/6)) + 1])\n",
    "plt.xlabel('q', fontsize=15)\n",
    "plt.ylabel('p', fontsize=15)\n",
    "plt.ylim([0,1.1])\n",
    "plt.legend()\n",
    "plt.show()"
   ]
  },
  {
   "cell_type": "code",
   "execution_count": null,
   "id": "d6d6e7ed-2f67-403f-8cf7-c6c21f69b91d",
   "metadata": {},
   "outputs": [],
   "source": []
  }
 ],
 "metadata": {
  "kernelspec": {
   "display_name": "Python 3",
   "language": "python",
   "name": "python3"
  },
  "language_info": {
   "codemirror_mode": {
    "name": "ipython",
    "version": 3
   },
   "file_extension": ".py",
   "mimetype": "text/x-python",
   "name": "python",
   "nbconvert_exporter": "python",
   "pygments_lexer": "ipython3",
   "version": "3.9.0"
  }
 },
 "nbformat": 4,
 "nbformat_minor": 5
}

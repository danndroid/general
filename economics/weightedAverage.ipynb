{
 "cells": [
  {
   "cell_type": "code",
   "execution_count": 1,
   "id": "128382c2-d3de-499d-958f-4db5f9837667",
   "metadata": {},
   "outputs": [],
   "source": [
    "import numpy as np"
   ]
  },
  {
   "cell_type": "code",
   "execution_count": null,
   "id": "34a8c0fb-a78e-42e2-904e-95a28c806c51",
   "metadata": {},
   "outputs": [],
   "source": []
  },
  {
   "cell_type": "code",
   "execution_count": 23,
   "id": "5e0dd16b-2f34-4368-8cc7-db48491960d5",
   "metadata": {},
   "outputs": [
    {
     "data": {
      "text/plain": [
       "array([0.6, 0.4])"
      ]
     },
     "execution_count": 23,
     "metadata": {},
     "output_type": "execute_result"
    }
   ],
   "source": [
    "p = 0.6\n",
    "w = np.array([p, 1-p])\n",
    "w"
   ]
  },
  {
   "cell_type": "code",
   "execution_count": 10,
   "id": "fce9413f-7fae-4ef7-be2b-a94eb1d85980",
   "metadata": {},
   "outputs": [],
   "source": [
    "v1 = [\n",
    "    [81,100],\n",
    "    [81,90],\n",
    "    [81,60],\n",
    "    [81,25],\n",
    "    [81,0],pv\n",
    "for\n",
    "]\n",
    "v2 = [    \n",
    "    [100,60],\n",
    "    [40,60],\n",
    "    [0,60],\n",
    "    ]"
   ]
  },
  {
   "cell_type": "code",
   "execution_count": 18,
   "id": "d7edd668-a8c7-4d68-849f-d718ae3a1647",
   "metadata": {},
   "outputs": [
    {
     "name": "stdout",
     "output_type": "stream",
     "text": [
      "88.6\n",
      "84.6\n",
      "72.6\n",
      "58.6\n",
      "48.6\n",
      "\n",
      "84.0\n",
      "48.0\n",
      "24.0\n"
     ]
    }
   ],
   "source": [
    "s1 = []\n",
    "for i in v1:\n",
    "    s = np.dot(np.array(i), w)\n",
    "    print(s)\n",
    "    s1.append(s)\n",
    "print('')\n",
    "s2 = []\n",
    "for i in v2:\n",
    "    s = np.dot(np.array(i), w)\n",
    "    print(s)\n",
    "    s2.append(s)\n",
    "    "
   ]
  },
  {
   "cell_type": "code",
   "execution_count": 19,
   "id": "169a1c19-c983-4c91-8f27-dd8df592ede0",
   "metadata": {},
   "outputs": [],
   "source": [
    "p1 = np.array([0.1,0.25,0.40,0.20,0.05])\n",
    "p2 = np.array([0.35,0.50,0.15])"
   ]
  },
  {
   "cell_type": "code",
   "execution_count": 25,
   "id": "26789a2e-2130-4c5d-a273-031816f1af44",
   "metadata": {},
   "outputs": [
    {
     "name": "stdout",
     "output_type": "stream",
     "text": [
      "73.19999999999999\n",
      "57.0\n"
     ]
    }
   ],
   "source": [
    "print(np.dot(s1, p1))\n",
    "print(np.dot(s2, p2))"
   ]
  },
  {
   "cell_type": "code",
   "execution_count": null,
   "id": "508b1388-9a23-4696-98ff-f081b9b3b2e3",
   "metadata": {},
   "outputs": [],
   "source": []
  },
  {
   "cell_type": "code",
   "execution_count": 35,
   "id": "c8c995df-3773-4911-a09a-5b6ff5be811d",
   "metadata": {},
   "outputs": [
    {
     "data": {
      "text/plain": [
       "array([0.75, 0.25])"
      ]
     },
     "execution_count": 35,
     "metadata": {},
     "output_type": "execute_result"
    }
   ],
   "source": [
    "p = 0.75\n",
    "w = np.array([p, 1-p])\n",
    "w"
   ]
  },
  {
   "cell_type": "code",
   "execution_count": 36,
   "id": "907a01d7-f1af-43cd-b84a-e282dba41b56",
   "metadata": {},
   "outputs": [
    {
     "name": "stdout",
     "output_type": "stream",
     "text": [
      "85.75\n",
      "83.25\n",
      "75.75\n",
      "67.0\n",
      "60.75\n",
      "\n",
      "90.0\n",
      "45.0\n",
      "15.0\n"
     ]
    }
   ],
   "source": [
    "s1 = []\n",
    "for i in v1:pv\n",
    "for\n",
    "    s = np.dot(np.array(i), w)\n",
    "    print(s)\n",
    "    s1.append(s)\n",
    "print('')\n",
    "s2 = []\n",
    "for i in v2:\n",
    "    s = np.dot(np.array(i), w)\n",
    "    print(s)\n",
    "    s2.append(s)\n",
    "    "
   ]
  },
  {
   "cell_type": "code",
   "execution_count": 34,
   "id": "649bab6b-0e6f-4d22-b938-2ac0b4743e13",
   "metadata": {},
   "outputs": [
    {
     "name": "stdout",
     "output_type": "stream",
     "text": [
      "0.5\n",
      "71.25\n",
      "57.5\n"
     ]
    }
   ],
   "source": [
    "print(p)\n",
    "print(np.dot(s1, p1))\n",
    "print(np.dot(s2, p2))"
   ]
  },
  {
   "cell_type": "code",
   "execution_count": 37,
   "id": "3dfc5d7d-b20b-41a8-be79-468ee9da1e20",
   "metadata": {},
   "outputs": [
    {
     "name": "stdout",
     "output_type": "stream",
     "text": [
      "0.75\n",
      "76.125\n",
      "56.25\n"
     ]
    }
   ],
   "source": [
    "print(p)\n",
    "print(np.dot(s1, p1))\n",
    "print(np.dot(s2, p2))"
   ]
  },
  {
   "cell_type": "code",
   "execution_count": null,
   "id": "6a1e2f52-6eef-417f-96cc-eb2a6a6e61fc",
   "metadata": {},
   "outputs": [],
   "source": []
  }
 ],
 "metadata": {
  "kernelspec": {
   "display_name": "Python 3",
   "language": "python",
   "name": "python3"
  },
  "language_info": {
   "codemirror_mode": {
    "name": "ipython",
    "version": 3
   },
   "file_extension": ".py",
   "mimetype": "text/x-python",
   "name": "python",
   "nbconvert_exporter": "python",
   "pygments_lexer": "ipython3",
   "version": "3.9.0"
  }
 },
 "nbformat": 4,
 "nbformat_minor": 5
}

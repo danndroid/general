{
 "cells": [
  {
   "cell_type": "code",
   "execution_count": 1,
   "id": "a727eea8-3172-48c5-92e7-03a4958b4171",
   "metadata": {},
   "outputs": [],
   "source": [
    "import numpy as np"
   ]
  },
  {
   "cell_type": "code",
   "execution_count": 7,
   "id": "88693539-dcab-4a37-a383-623ff130008d",
   "metadata": {},
   "outputs": [],
   "source": [
    "A = np.array([[1,2,6],\n",
    "             [1/2,1,4],\n",
    "              [1/6,1/4,1]])"
   ]
  },
  {
   "cell_type": "markdown",
   "id": "d8e786ba-a8ca-4c9b-b13e-bdb9f4622eb2",
   "metadata": {},
   "source": [
    "### Relative Weigth"
   ]
  },
  {
   "cell_type": "code",
   "execution_count": 13,
   "id": "184a8cb5-3c8d-4ed7-8131-246b23d61dc7",
   "metadata": {},
   "outputs": [
    {
     "data": {
      "text/plain": [
       "array([ 1.66666667,  3.25      , 11.        ])"
      ]
     },
     "execution_count": 13,
     "metadata": {},
     "output_type": "execute_result"
    }
   ],
   "source": [
    "Csum = A.sum(axis=0)\n",
    "Csum"
   ]
  },
  {
   "cell_type": "code",
   "execution_count": 14,
   "id": "967ae6f6-527a-44ba-b9b5-51f26f21debe",
   "metadata": {},
   "outputs": [
    {
     "data": {
      "text/plain": [
       "array([[0.6       , 0.61538462, 0.54545455],\n",
       "       [0.3       , 0.30769231, 0.36363636],\n",
       "       [0.1       , 0.07692308, 0.09090909]])"
      ]
     },
     "execution_count": 14,
     "metadata": {},
     "output_type": "execute_result"
    }
   ],
   "source": [
    "R = A/Csum\n",
    "R"
   ]
  },
  {
   "cell_type": "code",
   "execution_count": 15,
   "id": "d8258d44-2a40-40e4-8cfb-3ce695e5dfc2",
   "metadata": {},
   "outputs": [
    {
     "data": {
      "text/plain": [
       "array([1.76083916, 0.97132867, 0.26783217])"
      ]
     },
     "execution_count": 15,
     "metadata": {},
     "output_type": "execute_result"
    }
   ],
   "source": [
    "Rsum = R.sum(axis=1)\n",
    "Rsum"
   ]
  },
  {
   "cell_type": "code",
   "execution_count": 16,
   "id": "8c2dff83-e3d4-473b-aa72-12fe351155d4",
   "metadata": {},
   "outputs": [
    {
     "data": {
      "text/plain": [
       "array([0.58694639, 0.32377622, 0.08927739])"
      ]
     },
     "execution_count": 16,
     "metadata": {},
     "output_type": "execute_result"
    }
   ],
   "source": [
    "eig = Rsum/len(A)\n",
    "eig"
   ]
  },
  {
   "cell_type": "markdown",
   "id": "c95fb01e-809c-49af-a4e8-8a112ebb2876",
   "metadata": {},
   "source": [
    "### Consistency Ratio"
   ]
  },
  {
   "cell_type": "code",
   "execution_count": 27,
   "id": "41880a08-7b94-42bd-acab-8b33a15fc322",
   "metadata": {},
   "outputs": [
    {
     "data": {
      "text/plain": [
       "array([1.77016317, 0.97435897, 0.26804584])"
      ]
     },
     "execution_count": 27,
     "metadata": {},
     "output_type": "execute_result"
    }
   ],
   "source": [
    "V = A@eig\n",
    "V"
   ]
  },
  {
   "cell_type": "code",
   "execution_count": 28,
   "id": "d51b273f-0190-4f43-ab86-07cda75c7421",
   "metadata": {},
   "outputs": [
    {
     "data": {
      "text/plain": [
       "array([3.01588562, 3.00935925, 3.00239339])"
      ]
     },
     "execution_count": 28,
     "metadata": {},
     "output_type": "execute_result"
    }
   ],
   "source": [
    "P = V/eig\n",
    "P"
   ]
  },
  {
   "cell_type": "code",
   "execution_count": 29,
   "id": "ad6c86fc-6a0a-48d2-8991-1b15052ef9e1",
   "metadata": {},
   "outputs": [
    {
     "data": {
      "text/plain": [
       "3.009212753441092"
      ]
     },
     "execution_count": 29,
     "metadata": {},
     "output_type": "execute_result"
    }
   ],
   "source": [
    "eigVal = P.sum()/len(A)\n",
    "eigVal"
   ]
  },
  {
   "cell_type": "code",
   "execution_count": 30,
   "id": "e73c9fd7-db5f-4411-a5e9-f4223359a09b",
   "metadata": {},
   "outputs": [
    {
     "data": {
      "text/plain": [
       "0.004606376720545979"
      ]
     },
     "execution_count": 30,
     "metadata": {},
     "output_type": "execute_result"
    }
   ],
   "source": [
    "cIndex = (eigVal - len(A))/ (len(A)-1)\n",
    "cIndex"
   ]
  },
  {
   "cell_type": "code",
   "execution_count": null,
   "id": "895f5361-3029-4913-8c10-0ed149a5d957",
   "metadata": {},
   "outputs": [],
   "source": [
    "#cRatio = "
   ]
  },
  {
   "cell_type": "markdown",
   "id": "dad16ed1-41ee-4872-af95-720e2c172cd0",
   "metadata": {},
   "source": [
    "### SAATYs Approximation"
   ]
  },
  {
   "cell_type": "code",
   "execution_count": 41,
   "id": "58de3756-de04-4ab3-864d-f2ad055a055d",
   "metadata": {},
   "outputs": [
    {
     "data": {
      "text/plain": [
       "array([[1. , 0.4],\n",
       "       [5. , 1. ]])"
      ]
     },
     "execution_count": 41,
     "metadata": {},
     "output_type": "execute_result"
    }
   ],
   "source": [
    "A = np.array([[1,2/5],\n",
    "             [5, 1]])\n",
    "A"
   ]
  },
  {
   "cell_type": "code",
   "execution_count": 42,
   "id": "226017d1-d4a0-42ea-ab2f-fbb8fdc9c333",
   "metadata": {},
   "outputs": [
    {
     "data": {
      "text/plain": [
       "array([6. , 1.4])"
      ]
     },
     "execution_count": 42,
     "metadata": {},
     "output_type": "execute_result"
    }
   ],
   "source": [
    "# Aw = Lw ==> (A-LI)w=0\n",
    "Csum = A.sum(axis=0)\n",
    "Csum"
   ]
  },
  {
   "cell_type": "code",
   "execution_count": 43,
   "id": "6a6da8b0-cbaa-4535-bf5b-c48c65ed7b16",
   "metadata": {},
   "outputs": [
    {
     "data": {
      "text/plain": [
       "array([[0.16666667, 0.28571429],\n",
       "       [0.83333333, 0.71428571]])"
      ]
     },
     "execution_count": 43,
     "metadata": {},
     "output_type": "execute_result"
    }
   ],
   "source": [
    "A/Csum"
   ]
  },
  {
   "cell_type": "code",
   "execution_count": 49,
   "id": "89f5ce70-98f1-40e4-8a34-2c54cc3e9b5c",
   "metadata": {},
   "outputs": [
    {
     "name": "stdout",
     "output_type": "stream",
     "text": [
      "     w1,   w2\n"
     ]
    },
    {
     "data": {
      "text/plain": [
       "array([0.22619048, 0.77380952])"
      ]
     },
     "execution_count": 49,
     "metadata": {},
     "output_type": "execute_result"
    }
   ],
   "source": [
    "print('     w1,   w2')\n",
    "np.mean(A/Csum, axis=1)"
   ]
  },
  {
   "cell_type": "code",
   "execution_count": 50,
   "id": "8c00aa93-940a-41cd-9b6c-a37c0306fec5",
   "metadata": {},
   "outputs": [],
   "source": [
    "def saaty(A):\n",
    "    Csum = A.sum(axis=0)\n",
    "    W = np.mean(A/Csum, 0)\n",
    "    \n",
    "    return W\n",
    "    "
   ]
  },
  {
   "cell_type": "code",
   "execution_count": 53,
   "id": "d83b284c-240a-4f75-9a9f-cdd61cb00074",
   "metadata": {},
   "outputs": [
    {
     "data": {
      "text/plain": [
       "array([0.33333333, 0.33333333, 0.33333333])"
      ]
     },
     "execution_count": 53,
     "metadata": {},
     "output_type": "execute_result"
    }
   ],
   "source": [
    "A = np.array([[1,1/4,1/4],\n",
    "             [3,1,1/3],\n",
    "             [4,2,1],\n",
    "             ]) \n",
    "\n",
    "saaty(A)"
   ]
  },
  {
   "cell_type": "code",
   "execution_count": 70,
   "id": "5d191e44-c66c-4fc6-ab5b-a743dedf8e3c",
   "metadata": {},
   "outputs": [],
   "source": [
    "from scipy.optimize import minimize, minimize_scalar"
   ]
  },
  {
   "cell_type": "code",
   "execution_count": 77,
   "id": "6a4c404b-3053-445e-8ce9-8a175d5658d3",
   "metadata": {},
   "outputs": [],
   "source": [
    "def objective_function_test(v):\n",
    "    (a, b, R) = v\n",
    "    \n",
    "    loss = np.square(a + b*np.exp(-80000/R) - 1) \n",
    "    loss += np.square(a + b*np.exp(-50000/R) - 0.5)\n",
    "    loss += np.square(a + b*np.exp(-40000/R) - 0)  \n",
    "        \n",
    "    return loss"
   ]
  },
  {
   "cell_type": "code",
   "execution_count": 78,
   "id": "02d84040-233d-49b9-a208-1cf37b873748",
   "metadata": {},
   "outputs": [
    {
     "data": {
      "text/plain": [
       "      fun: 0.5\n",
       " hess_inv: array([[1, 0, 0],\n",
       "       [0, 1, 0],\n",
       "       [0, 0, 1]])\n",
       "      jac: array([7.4505806e-08, 0.0000000e+00, 0.0000000e+00])\n",
       "  message: 'Optimization terminated successfully.'\n",
       "     nfev: 12\n",
       "      nit: 1\n",
       "     njev: 3\n",
       "   status: 0\n",
       "  success: True\n",
       "        x: array([5.00000004e-01, 1.00000000e+00, 1.00000000e+03])"
      ]
     },
     "execution_count": 78,
     "metadata": {},
     "output_type": "execute_result"
    }
   ],
   "source": [
    "res = minimize(objective_function_test, x0 = (1,1,1000))\n",
    "res"
   ]
  },
  {
   "cell_type": "code",
   "execution_count": null,
   "id": "688571ba-15eb-404c-b094-1e3d35447e4c",
   "metadata": {},
   "outputs": [],
   "source": []
  },
  {
   "cell_type": "code",
   "execution_count": null,
   "id": "5a3b9f88-c41d-4aca-a64c-37be1cf5b236",
   "metadata": {},
   "outputs": [],
   "source": []
  }
 ],
 "metadata": {
  "kernelspec": {
   "display_name": "Python 3 (ipykernel)",
   "language": "python",
   "name": "python3"
  },
  "language_info": {
   "codemirror_mode": {
    "name": "ipython",
    "version": 3
   },
   "file_extension": ".py",
   "mimetype": "text/x-python",
   "name": "python",
   "nbconvert_exporter": "python",
   "pygments_lexer": "ipython3",
   "version": "3.9.13"
  }
 },
 "nbformat": 4,
 "nbformat_minor": 5
}

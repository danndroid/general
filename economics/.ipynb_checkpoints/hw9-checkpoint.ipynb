{
 "cells": [
  {
   "cell_type": "code",
   "execution_count": 1,
   "id": "df323799-e908-4088-8098-03b497f8a404",
   "metadata": {},
   "outputs": [],
   "source": [
    "import numpy as np\n",
    "from scipy.stats import binom, poisson, expon, beta\n",
    "from scipy.special import binom as binomCof\n",
    "import matplotlib.pyplot as plt\n",
    "import seaborn as sns"
   ]
  },
  {
   "cell_type": "markdown",
   "id": "7c3498f4-be19-4aa6-ab95-8b49c1423747",
   "metadata": {
    "jp-MarkdownHeadingCollapsed": true,
    "tags": []
   },
   "source": [
    "### Examples"
   ]
  },
  {
   "cell_type": "code",
   "execution_count": 78,
   "id": "b42c02fb-1d34-4586-95a8-54580c46d2b1",
   "metadata": {},
   "outputs": [
    {
     "data": {
      "text/plain": [
       "(array(1.5), array(1.), array(2.), array(6.))"
      ]
     },
     "execution_count": 78,
     "metadata": {},
     "output_type": "execute_result"
    }
   ],
   "source": [
    "expon.stats(loc=0.5, moments='mvsk')"
   ]
  },
  {
   "cell_type": "code",
   "execution_count": 79,
   "id": "30f4876d-f573-4862-8cab-6fe86f07e3e5",
   "metadata": {},
   "outputs": [],
   "source": [
    "def exponentialCDF(rate, t):\n",
    "    p = 1-(np.exp(-(1/rate)*t))\n",
    "    \n",
    "    return p"
   ]
  },
  {
   "cell_type": "code",
   "execution_count": 80,
   "id": "e77d0243-2fe6-47cb-81c6-35aedde532f2",
   "metadata": {},
   "outputs": [
    {
     "data": {
      "text/plain": [
       "0.950212931632136"
      ]
     },
     "execution_count": 80,
     "metadata": {},
     "output_type": "execute_result"
    }
   ],
   "source": [
    "exponentialCDF(0.5, 1.5)"
   ]
  },
  {
   "cell_type": "code",
   "execution_count": 81,
   "id": "7cf9e206-7e64-4b8c-898a-1c850fbbb451",
   "metadata": {},
   "outputs": [
    {
     "data": {
      "text/plain": [
       "0.5048639365386571"
      ]
     },
     "execution_count": 81,
     "metadata": {},
     "output_type": "execute_result"
    }
   ],
   "source": [
    "exponentialCDF(27.03, 19)"
   ]
  },
  {
   "cell_type": "code",
   "execution_count": 82,
   "id": "1988245d-7a60-4e3a-8c84-87c22f5469dc",
   "metadata": {},
   "outputs": [
    {
     "data": {
      "text/plain": [
       "0.6065306597126334"
      ]
     },
     "execution_count": 82,
     "metadata": {},
     "output_type": "execute_result"
    }
   ],
   "source": [
    "1-exponentialCDF(0.5, 0.25)"
   ]
  },
  {
   "cell_type": "code",
   "execution_count": 83,
   "id": "6f1fa8f5-7fdb-4400-a620-5455c33990b1",
   "metadata": {},
   "outputs": [
    {
     "data": {
      "text/plain": [
       "0.7134952031398099"
      ]
     },
     "execution_count": 83,
     "metadata": {},
     "output_type": "execute_result"
    }
   ],
   "source": [
    "exponentialCDF(40, 50)"
   ]
  },
  {
   "cell_type": "code",
   "execution_count": null,
   "id": "3825c927-e97d-4208-90ad-03bafc44f9f6",
   "metadata": {},
   "outputs": [],
   "source": []
  },
  {
   "cell_type": "code",
   "execution_count": 84,
   "id": "d316cdf3-ba36-46ec-8b29-c58c255792c7",
   "metadata": {},
   "outputs": [
    {
     "data": {
      "text/plain": [
       "0.950212931632136"
      ]
     },
     "execution_count": 84,
     "metadata": {},
     "output_type": "execute_result"
    }
   ],
   "source": [
    "expon.cdf(1.5, scale=0.5) # Beta (1/2=0.5 inter event time)  -- Lambda (2 events/hour) "
   ]
  },
  {
   "cell_type": "code",
   "execution_count": 85,
   "id": "9bc78996-5eaa-448f-9fde-7621516fc8ea",
   "metadata": {},
   "outputs": [
    {
     "data": {
      "text/plain": [
       "0.5048639365386571"
      ]
     },
     "execution_count": 85,
     "metadata": {},
     "output_type": "execute_result"
    }
   ],
   "source": [
    "expon.cdf(19, scale=27.03) # Beta (200/7.5=27.03 every 27.03 yards a blemish appears)  Lambda (7.5 blemishes/in 200 yards) "
   ]
  },
  {
   "cell_type": "markdown",
   "id": "da4600cc-13e9-4ea2-a72d-66bea28d3a62",
   "metadata": {
    "jp-MarkdownHeadingCollapsed": true,
    "tags": []
   },
   "source": [
    "### P1"
   ]
  },
  {
   "cell_type": "code",
   "execution_count": 86,
   "id": "0dceed59-b6f1-45a2-850a-d7670c1b9d8b",
   "metadata": {},
   "outputs": [],
   "source": [
    "beta=10 # "
   ]
  },
  {
   "cell_type": "code",
   "execution_count": 87,
   "id": "d8d6636f-31bf-4174-9d40-959c2ab7f8b1",
   "metadata": {},
   "outputs": [
    {
     "data": {
      "text/plain": [
       "0.09516258196404044"
      ]
     },
     "execution_count": 87,
     "metadata": {},
     "output_type": "execute_result"
    }
   ],
   "source": [
    "expon.cdf(1, scale=beta)"
   ]
  },
  {
   "cell_type": "code",
   "execution_count": 88,
   "id": "4860c2df-9cbf-421c-9593-6560854dc843",
   "metadata": {},
   "outputs": [
    {
     "data": {
      "text/plain": [
       "0.5488116360940264"
      ]
     },
     "execution_count": 88,
     "metadata": {},
     "output_type": "execute_result"
    }
   ],
   "source": [
    "1-expon.cdf(6, scale=beta)"
   ]
  },
  {
   "cell_type": "code",
   "execution_count": 89,
   "id": "0903f2c4-ac11-46bd-8835-743bfc67946f",
   "metadata": {},
   "outputs": [
    {
     "data": {
      "text/plain": [
       "0.05222633230261686"
      ]
     },
     "execution_count": 89,
     "metadata": {},
     "output_type": "execute_result"
    }
   ],
   "source": [
    "expon.cdf(7, scale=beta)-expon.cdf(6, scale=beta)"
   ]
  },
  {
   "cell_type": "code",
   "execution_count": 90,
   "id": "a637868b-2696-4bc7-9beb-4753bf4f4a96",
   "metadata": {},
   "outputs": [
    {
     "data": {
      "text/plain": [
       "0.09516258196404033"
      ]
     },
     "execution_count": 90,
     "metadata": {},
     "output_type": "execute_result"
    }
   ],
   "source": [
    "(expon.cdf(7, scale=beta)- expon.cdf(6, scale=beta)) / (1-expon.cdf(6, scale=beta))"
   ]
  },
  {
   "cell_type": "markdown",
   "id": "37ab45b5-d917-424c-9ffc-2aefe086d8f9",
   "metadata": {},
   "source": [
    "### P2"
   ]
  },
  {
   "cell_type": "code",
   "execution_count": 63,
   "id": "92ba5a43-1a09-4efb-bcea-4a4be8ec7814",
   "metadata": {},
   "outputs": [],
   "source": [
    "k, n = 5, 20 # Evidence: 5 successes in 20 trials"
   ]
  },
  {
   "cell_type": "code",
   "execution_count": 64,
   "id": "eab1f41e-e18a-492a-b6ac-dade801ffd11",
   "metadata": {},
   "outputs": [],
   "source": [
    "hit = 0.3 # Hypothesis 1\n",
    "flop = 0.1 # Hypothesis 2\n",
    "\n",
    "hit_prior = 0.5 # P(H1)\n",
    "flop_prior = 0.5 # P(H2)"
   ]
  },
  {
   "cell_type": "code",
   "execution_count": 98,
   "id": "0900b0a6-71d8-47a5-a8fc-d8c4f7ef508a",
   "metadata": {},
   "outputs": [
    {
     "name": "stdout",
     "output_type": "stream",
     "text": [
      "Priors:\n",
      "0.5\n",
      "0.5\n",
      "\n",
      "Likelihood:\n",
      "0.17886305056987964\n",
      "0.031921361119954424\n",
      "\n",
      "Posteriors:\n",
      "0.8485591943728448\n",
      "0.15144080562715523\n"
     ]
    }
   ],
   "source": [
    "print('Priors:')\n",
    "print(hit_prior)\n",
    "print(flop_prior)\n",
    "print('\\nLikelihood:')\n",
    "print(binom.pmf(k, n, hit))\n",
    "print(binom.pmf(k, n, flop))\n",
    "print('\\nPosteriors:')\n",
    "print( binom.pmf(k, n, hit)*hit_prior / (binom.pmf(k, n, hit)*hit_prior + binom.pmf(k, n, flop)*flop_prior) )\n",
    "print( binom.pmf(k, n, flop)*flop_prior / (binom.pmf(k, n, hit)*hit_prior + binom.pmf(k, n, flop)*flop_prior) )"
   ]
  },
  {
   "cell_type": "code",
   "execution_count": null,
   "id": "f5a8f4ca-80dd-4ee5-8ffa-8abcd5199cd7",
   "metadata": {},
   "outputs": [],
   "source": []
  },
  {
   "cell_type": "code",
   "execution_count": 57,
   "id": "6acb6029-6d0b-4f49-be07-ff9a5e3d99d5",
   "metadata": {},
   "outputs": [
    {
     "name": "stdout",
     "output_type": "stream",
     "text": [
      "Ratio: 0.2\n"
     ]
    }
   ],
   "source": [
    "k, n = 4, 20 # Evidence: 4 successes in 20 trials\n",
    "print(f'Ratio: {k/n}')"
   ]
  },
  {
   "cell_type": "code",
   "execution_count": 61,
   "id": "bc718ede-6762-4254-93f2-510c7b49459b",
   "metadata": {},
   "outputs": [
    {
     "name": "stdout",
     "output_type": "stream",
     "text": [
      "P(Hit): 0.2 --> 0.27\n",
      "P(Flop): 0.8 --> 0.73\n",
      "\n",
      "P(Hit): 0.4 --> 0.49\n",
      "P(Flop): 0.6 --> 0.51\n",
      "\n",
      "P(Hit): 0.5 --> 0.59\n",
      "P(Flop): 0.5 --> 0.41\n",
      "\n",
      "P(Hit): 0.75 --> 0.81\n",
      "P(Flop): 0.25 --> 0.19\n",
      "\n",
      "P(Hit): 0.9 --> 0.93\n",
      "P(Flop): 0.1 --> 0.07\n",
      "\n",
      "P(Hit): 1.0 --> 1.0\n",
      "P(Flop): 0.0 --> 0.0\n",
      "\n"
     ]
    }
   ],
   "source": [
    "hit_prior = np.array([0.2,0.4,0.5,0.75,0.9,0.999])\n",
    "flop_prior = []\n",
    "hit_posterior = []\n",
    "flop_posterior = []\n",
    "for p in hit_prior:\n",
    "    q = 1-p\n",
    "    \n",
    "    flop_prior.append(q)\n",
    "    \n",
    "    p2 = binom.pmf(k, n, hit)*p / (binom.pmf(k, n, hit)*p + binom.pmf(k, n, flop)*q)\n",
    "    q2 = binom.pmf(k, n, flop)*q / (binom.pmf(k, n, hit)*p + binom.pmf(k, n, flop)*q)\n",
    "    \n",
    "    hit_posterior.append(p2)\n",
    "    flop_posterior.append(q2)\n",
    "    \n",
    "    print(f'P(Hit): {np.round(p,2)} --> {np.round(p2,2)}')\n",
    "    print(f'P(Flop): {np.round(q,2)} --> {np.round(q2,2)}')\n",
    "    print('')"
   ]
  },
  {
   "cell_type": "code",
   "execution_count": 60,
   "id": "309a9559-19ba-49a5-a36e-b3f4b86c11d5",
   "metadata": {},
   "outputs": [
    {
     "data": {
      "image/png": "[encoded data removed]",
      "text/plain": [
       "<Figure size 1224x360 with 2 Axes>"
      ]
     },
     "metadata": {
      "needs_background": "light"
     },
     "output_type": "display_data"
    }
   ],
   "source": [
    "fig , axes = plt.subplots(1,2, figsize=(17,5))\n",
    "\n",
    "plt.suptitle('Hit and Flop Probabilities', fontsize=20)\n",
    "ax = axes[0]\n",
    "sns.lineplot(x=hit_prior, y=hit_posterior, color='gray', ax=ax, label=f'n={n}, k={k}')\n",
    "ax.tick_params(axis='x', rotation=45)\n",
    "ax.set_xlabel('Hit Prior', fontsize=15)\n",
    "ax.set_ylabel('Hit Posterior', fontsize=15)\n",
    "\n",
    "ax = axes[1]\n",
    "sns.lineplot(x=flop_prior, y=flop_posterior, color='gray', ax=ax, label=f'n={n}, k={k}')\n",
    "ax.tick_params(axis='x', rotation=45)\n",
    "ax.set_xlabel('Flop Prior', fontsize=15)\n",
    "ax.set_ylabel('Flop Posterior', fontsize=15)\n",
    "\n",
    "plt.legend()\n",
    "plt.show()"
   ]
  },
  {
   "cell_type": "markdown",
   "id": "41a1ad09-ea04-446e-a643-2fa663b4eba9",
   "metadata": {},
   "source": [
    "### P3"
   ]
  },
  {
   "cell_type": "code",
   "execution_count": 99,
   "id": "97543573-4ff2-4004-9555-1050d70e8b40",
   "metadata": {},
   "outputs": [
    {
     "data": {
      "text/plain": [
       "0.25102143016698353"
      ]
     },
     "execution_count": 99,
     "metadata": {},
     "output_type": "execute_result"
    }
   ],
   "source": [
    "poisson.pmf(2, mu=1.5)"
   ]
  },
  {
   "cell_type": "code",
   "execution_count": 100,
   "id": "84d54e16-2088-428f-8758-943d7e070592",
   "metadata": {},
   "outputs": [
    {
     "data": {
      "text/plain": [
       "0.5578254003710748"
      ]
     },
     "execution_count": 100,
     "metadata": {},
     "output_type": "execute_result"
    }
   ],
   "source": [
    "poisson.cdf(1, mu=1.5) # P(X<2)"
   ]
  },
  {
   "cell_type": "code",
   "execution_count": null,
   "id": "09a20f43-5317-4efc-a0af-7118a83af86d",
   "metadata": {},
   "outputs": [],
   "source": []
  },
  {
   "cell_type": "code",
   "execution_count": 101,
   "id": "cdd3709f-2f0e-4d22-8734-609f309e2e8f",
   "metadata": {},
   "outputs": [],
   "source": [
    "m = 2.5 # 2.5 breakdowns per month"
   ]
  },
  {
   "cell_type": "code",
   "execution_count": 102,
   "id": "9f5c7928-a59f-4c5a-ad78-75e4a463fb9a",
   "metadata": {},
   "outputs": [
    {
     "data": {
      "text/plain": [
       "2.25"
      ]
     },
     "execution_count": 102,
     "metadata": {},
     "output_type": "execute_result"
    }
   ],
   "source": [
    "e_breaks = 0.5*3 + 0.5*1.5\n",
    "e_breaks"
   ]
  },
  {
   "cell_type": "code",
   "execution_count": 103,
   "id": "8f15ca61-0e83-4f23-8fc7-f6e478201b94",
   "metadata": {},
   "outputs": [
    {
     "data": {
      "text/plain": [
       "3825.0"
      ]
     },
     "execution_count": 103,
     "metadata": {},
     "output_type": "execute_result"
    }
   ],
   "source": [
    "e_cost = 1700*e_breaks\n",
    "e_cost"
   ]
  },
  {
   "cell_type": "code",
   "execution_count": 104,
   "id": "4025e1c3-c260-45aa-91c8-a834058a56dd",
   "metadata": {},
   "outputs": [
    {
     "data": {
      "text/plain": [
       "3000"
      ]
     },
     "execution_count": 104,
     "metadata": {},
     "output_type": "execute_result"
    }
   ],
   "source": [
    "2*1500"
   ]
  },
  {
   "cell_type": "code",
   "execution_count": 105,
   "id": "d66f0cc3-e4e4-4df8-b140-4c036d1039c1",
   "metadata": {},
   "outputs": [
    {
     "name": "stdout",
     "output_type": "stream",
     "text": [
      "Likelihood:\n",
      "0.5\n",
      "0.5\n"
     ]
    }
   ],
   "source": [
    "print('Likelihood:')\n",
    "print(0.5)\n",
    "print(0.5)"
   ]
  },
  {
   "cell_type": "code",
   "execution_count": 106,
   "id": "491d8d7c-6b07-4728-8d2b-3b9ff16ef522",
   "metadata": {},
   "outputs": [
    {
     "name": "stdout",
     "output_type": "stream",
     "text": [
      "Likelihood:\n",
      "0.25102143016698353\n",
      "0.22404180765538775\n"
     ]
    }
   ],
   "source": [
    "print('Likelihood:')\n",
    "print(poisson.pmf(2,mu=1.5))\n",
    "print(poisson.pmf(2,mu=3))"
   ]
  },
  {
   "cell_type": "code",
   "execution_count": 107,
   "id": "3c7df2ce-daaa-4210-a0b9-ca9b2ce695a9",
   "metadata": {},
   "outputs": [
    {
     "name": "stdout",
     "output_type": "stream",
     "text": [
      "\n",
      "Posteriors:\n",
      "0.5283958222438626\n",
      "0.4716041777561374\n"
     ]
    }
   ],
   "source": [
    "print('\\nPosteriors:')\n",
    "print(poisson.pmf(2, mu=1.5)*0.5 / (poisson.pmf(2, mu=1.5)*0.5 + poisson.pmf(2, mu=3)*0.5))\n",
    "print(poisson.pmf(2, mu=3)*0.5 / (poisson.pmf(2, mu=1.5)*0.5 + poisson.pmf(2, mu=3)*0.5))"
   ]
  },
  {
   "cell_type": "code",
   "execution_count": 95,
   "id": "290bcd88-e76e-4a6e-bedd-d2f3a4697fbb",
   "metadata": {},
   "outputs": [
    {
     "name": "stdout",
     "output_type": "stream",
     "text": [
      "0.007091108993195334\n"
     ]
    }
   ],
   "source": []
  },
  {
   "cell_type": "markdown",
   "id": "11c01446-d3c4-4a22-9c4a-120e4be747f4",
   "metadata": {},
   "source": [
    "### P4"
   ]
  },
  {
   "cell_type": "code",
   "execution_count": null,
   "id": "fe82fabb-d9e0-43db-9f94-6a6573970511",
   "metadata": {},
   "outputs": [],
   "source": []
  }
 ],
 "metadata": {
  "kernelspec": {
   "display_name": "Python 3",
   "language": "python",
   "name": "python3"
  },
  "language_info": {
   "codemirror_mode": {
    "name": "ipython",
    "version": 3
   },
   "file_extension": ".py",
   "mimetype": "text/x-python",
   "name": "python",
   "nbconvert_exporter": "python",
   "pygments_lexer": "ipython3",
   "version": "3.9.0"
  }
 },
 "nbformat": 4,
 "nbformat_minor": 5
}

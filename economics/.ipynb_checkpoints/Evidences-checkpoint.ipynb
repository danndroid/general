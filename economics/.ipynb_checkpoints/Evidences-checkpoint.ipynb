{
 "cells": [
  {
   "cell_type": "code",
   "execution_count": 17,
   "id": "6b395678-5e9c-4fd9-b306-53e789f679bf",
   "metadata": {},
   "outputs": [],
   "source": [
    "import numpy as np\n",
    "from scipy.stats import binom\n",
    "from scipy.special import binom as binomCof\n",
    "import matplotlib.pyplot as plt"
   ]
  },
  {
   "cell_type": "code",
   "execution_count": 18,
   "id": "9b54f2b5-3b96-4123-9678-ea260861495b",
   "metadata": {},
   "outputs": [],
   "source": [
    "n, p = 6, 0.25"
   ]
  },
  {
   "cell_type": "markdown",
   "id": "9c76e834-8f52-4868-b309-e65ddb1dd977",
   "metadata": {},
   "source": [
    "### $p(X=4)$"
   ]
  },
  {
   "cell_type": "code",
   "execution_count": 19,
   "id": "b4ed24cd-ef69-4d7b-8aa8-005294553db8",
   "metadata": {},
   "outputs": [
    {
     "data": {
      "text/plain": [
       "0.03295898437499997"
      ]
     },
     "execution_count": 19,
     "metadata": {},
     "output_type": "execute_result"
    }
   ],
   "source": [
    "binom.pmf(4, n,p)"
   ]
  },
  {
   "cell_type": "code",
   "execution_count": 20,
   "id": "d3d97f39-6947-483d-8bf4-df4979faf5e5",
   "metadata": {},
   "outputs": [
    {
     "data": {
      "text/plain": [
       "0.032958984375"
      ]
     },
     "execution_count": 20,
     "metadata": {},
     "output_type": "execute_result"
    }
   ],
   "source": [
    "binomCof(6,4)*(.25**4)*(.75**2)"
   ]
  },
  {
   "cell_type": "markdown",
   "id": "ea2309d1-d575-4de1-a301-d365b68cec61",
   "metadata": {},
   "source": [
    "### $p(X \\geq 1)$"
   ]
  },
  {
   "cell_type": "code",
   "execution_count": 24,
   "id": "699c2008-3bec-4906-9ac4-b1334ac48ffc",
   "metadata": {},
   "outputs": [
    {
     "data": {
      "text/plain": [
       "0.822021484375"
      ]
     },
     "execution_count": 24,
     "metadata": {},
     "output_type": "execute_result"
    }
   ],
   "source": [
    "1 - binom.cdf(0, n,p)"
   ]
  },
  {
   "cell_type": "code",
   "execution_count": 25,
   "id": "dd083040-c339-4977-9385-e2c15f6c49d0",
   "metadata": {},
   "outputs": [
    {
     "data": {
      "text/plain": [
       "0.822021484375"
      ]
     },
     "execution_count": 25,
     "metadata": {},
     "output_type": "execute_result"
    }
   ],
   "source": [
    "1 - binomCof(6,0)*(.25**0)*(.75**6)"
   ]
  },
  {
   "cell_type": "code",
   "execution_count": 26,
   "id": "7e6dbf6d-6e28-4bb1-ab5a-09a52aa18469",
   "metadata": {},
   "outputs": [
    {
     "data": {
      "text/plain": [
       "0.822021484375"
      ]
     },
     "execution_count": 26,
     "metadata": {},
     "output_type": "execute_result"
    }
   ],
   "source": [
    "1-(0.75**6)"
   ]
  },
  {
   "cell_type": "code",
   "execution_count": null,
   "id": "b65bf870-7edf-4bc8-b203-b4d161c470f2",
   "metadata": {},
   "outputs": [],
   "source": []
  }
 ],
 "metadata": {
  "kernelspec": {
   "display_name": "Python 3",
   "language": "python",
   "name": "python3"
  },
  "language_info": {
   "codemirror_mode": {
    "name": "ipython",
    "version": 3
   },
   "file_extension": ".py",
   "mimetype": "text/x-python",
   "name": "python",
   "nbconvert_exporter": "python",
   "pygments_lexer": "ipython3",
   "version": "3.9.0"
  }
 },
 "nbformat": 4,
 "nbformat_minor": 5
}

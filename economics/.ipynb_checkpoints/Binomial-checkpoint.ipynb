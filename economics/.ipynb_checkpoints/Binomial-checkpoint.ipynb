{
 "cells": [
  {
   "cell_type": "code",
   "execution_count": 10,
   "id": "1de456aa-0cb4-4566-b48f-48d677155d74",
   "metadata": {},
   "outputs": [],
   "source": [
    "import numpy as np\n",
    "from scipy.stats import binom\n",
    "import matplotlib.pyplot as plt"
   ]
  },
  {
   "cell_type": "markdown",
   "id": "1b85f439-ea6a-47c1-9f79-6ae288d2fc34",
   "metadata": {
    "jp-MarkdownHeadingCollapsed": true,
    "tags": []
   },
   "source": [
    "### Example"
   ]
  },
  {
   "cell_type": "code",
   "execution_count": 38,
   "id": "88a7be4c-4aa0-47f4-ba1d-11005205d59d",
   "metadata": {},
   "outputs": [
    {
     "name": "stdout",
     "output_type": "stream",
     "text": [
      "mean, var, skew, kurt\n",
      "(array(2.), array(1.2), array(0.18257419), array(-0.36666667))\n"
     ]
    }
   ],
   "source": [
    "n, p = 5, 0.4\n",
    "print('mean, var, skew, kurt')\n",
    "print(binom.stats(n,p, moments='mvsk'))"
   ]
  },
  {
   "cell_type": "code",
   "execution_count": 39,
   "id": "2da17a2b-cf1f-4b65-95a2-65049aa22869",
   "metadata": {},
   "outputs": [
    {
     "data": {
      "text/plain": [
       "0.0"
      ]
     },
     "execution_count": 39,
     "metadata": {},
     "output_type": "execute_result"
    }
   ],
   "source": [
    "binom.ppf(0.01, n, p)"
   ]
  },
  {
   "cell_type": "code",
   "execution_count": 40,
   "id": "a9da852b-6b63-4ed4-8438-601b10a20c60",
   "metadata": {},
   "outputs": [
    {
     "data": {
      "text/plain": [
       "5.0"
      ]
     },
     "execution_count": 40,
     "metadata": {},
     "output_type": "execute_result"
    }
   ],
   "source": [
    "binom.ppf(0.99, n, p)"
   ]
  },
  {
   "cell_type": "code",
   "execution_count": 41,
   "id": "9ac6e95d-2625-4801-a875-849d33eb4681",
   "metadata": {},
   "outputs": [
    {
     "name": "stdout",
     "output_type": "stream",
     "text": [
      "0.0 --> 0.08\n",
      "0.5 --> 0.08\n",
      "1.0 --> 0.34\n",
      "1.5 --> 0.34\n",
      "2.0 --> 0.68\n",
      "2.5 --> 0.68\n",
      "3.0 --> 0.91\n",
      "3.5 --> 0.91\n",
      "4.0 --> 0.99\n",
      "4.5 --> 0.99\n",
      "5.0 --> 1.0\n",
      "5.5 --> 1.0\n",
      "6.0 --> 1.0\n",
      "6.5 --> 1.0\n",
      "7.0 --> 1.0\n"
     ]
    }
   ],
   "source": [
    "for x in np.linspace(0,7, 15):\n",
    "    print(np.round(x,2),'-->', np.round(binom.cdf(x, n, p),2))"
   ]
  },
  {
   "cell_type": "code",
   "execution_count": 44,
   "id": "8fe58ffa-d1e9-4dab-8745-474610ca9419",
   "metadata": {},
   "outputs": [
    {
     "data": {
      "text/plain": [
       "array([0., 1., 2., 3., 4.])"
      ]
     },
     "execution_count": 44,
     "metadata": {},
     "output_type": "execute_result"
    }
   ],
   "source": [
    "x"
   ]
  },
  {
   "cell_type": "code",
   "execution_count": 45,
   "id": "af4a725a-8cc5-4cf1-9496-9b328e44072f",
   "metadata": {},
   "outputs": [
    {
     "data": {
      "text/plain": [
       "array([0.07776, 0.2592 , 0.3456 , 0.2304 , 0.0768 ])"
      ]
     },
     "execution_count": 45,
     "metadata": {},
     "output_type": "execute_result"
    }
   ],
   "source": [
    "binom.pmf(x, n, p)0.5078"
   ]
  },
  {
   "cell_type": "code",
   "execution_count": 46,
   "id": "d86e6006-3231-48cc-a0e8-fdff9572ab23",
   "metadata": {},
   "outputs": [
    {
     "data": {
      "text/plain": [
       "array([0.07776, 0.33696, 0.68256, 0.91296, 0.98976])"
      ]
     },
     "execution_count": 46,
     "metadata": {},
     "output_type": "execute_result"
    }
   ],
   "source": [
    "np.cumsum(binom.pmf(x, n, p))"
   ]
  },
  {
   "cell_type": "code",
   "execution_count": 43,
   "id": "a5b9a62b-ad2b-4ae1-acbc-cee3d205c03d",
   "metadata": {},
   "outputs": [
    {
     "data": {
      "image/png": "[encoded data removed]",
      "text/plain": [
       "<Figure size 432x288 with 1 Axes>"
      ]
     },
     "metadata": {
      "needs_background": "light"
     },
     "output_type": "display_data"
    }
   ],
   "source": [
    "x = np.arange(binom.ppf(0.01, n, p),\n",
    "              binom.ppf(0.99, n, p))\n",
    "fig, ax = plt.subplots(1, 1)\n",
    "plt.title('Probability Mass Function (PMF)', fontsize=15)\n",
    "ax.plot(x, binom.pmf(x, n, p), 'bo', ms=8, label='binom pmf')\n",
    "ax.vlines(x, 0, binom.pmf(x, n, p), colors='b', lw=5, alpha=0.5)\n",
    "plt.show()"
   ]
  },
  {
   "cell_type": "code",
   "execution_count": 60,
   "id": "9d1ad0b2-1d6c-4b70-ac03-f030f0525490",
   "metadata": {},
   "outputs": [
    {
     "name": "stdout",
     "output_type": "stream",
     "text": [
      "0 --> 0.0\n",
      "1 --> 0.02\n",
      "2 --> 0.09\n",
      "3 --> 0.25\n",
      "4 --> 0.5\n"
     ]
    }
   ],
   "source": [
    "for x in np.arange(0, 5):\n",
    "    print(np.round(x,2),'-->', np.round(binom.cdf(x, n, p),2))"
   ]
  },
  {
   "cell_type": "markdown",
   "id": "fb1cfd1f-6349-4b36-a49a-7c6fb201f2ac",
   "metadata": {},
   "source": [
    "### Test"
   ]
  },
  {
   "cell_type": "code",
   "execution_count": 72,
   "id": "304fb548-0b43-4cee-aed8-3b1ab4b253e6",
   "metadata": {},
   "outputs": [],
   "source": [
    "n, p = 9, 0.5"
   ]
  },
  {
   "cell_type": "code",
   "execution_count": 91,
   "id": "bc68e0a3-73b1-46d5-9d12-37ff2ef59e3f",
   "metadata": {},
   "outputs": [
    {
     "data": {
      "image/png": "[encoded data removed]",
      "text/plain": [
       "<Figure size 864x360 with 2 Axes>"
      ]
     },
     "metadata": {
      "needs_background": "light"
     },
     "output_type": "display_data"
    },
    {
     "name": "stdout",
     "output_type": "stream",
     "text": [
      "X=0 -> 0.002 --> 0.002\n",
      "X=1 -> 0.018 --> 0.02\n",
      "X=2 -> 0.07 --> 0.09\n",
      "X=3 -> 0.164 --> 0.254\n",
      "X=4 -> 0.246 --> 0.5\n",
      "X=5 -> 0.246 --> 0.746\n",
      "X=6 -> 0.164 --> 0.91\n",
      "X=7 -> 0.07 --> 0.98\n",
      "X=8 -> 0.018 --> 0.998\n",
      "X=9 -> 0.002 --> 1.0\n",
      "X=10 -> 0.0 --> 1.0\n"
     ]
    }
   ],
   "source": [
    "x = np.arange(binom.ppf(0.01, n, p),\n",
    "              binom.ppf(0.99, n, p))\n",
    "\n",
    "fig, (ax1,ax2) = plt.subplots(1, 2, figsize=(12,5))\n",
    "\n",
    "ax=ax1\n",
    "ax.set_title('Probability Mass Function (PMF)', fontsize=15)\n",
    "ax.plot(x, binom.pmf(x, n, p), 'bo', ms=8, label='binom pmf')\n",
    "ax.vlines(x, 0, binom.pmf(x, n, p), colors='b', lw=5, alpha=0.5)\n",
    "\n",
    "ax=ax2\n",
    "ax.set_title('Cumulative Density Function (CDF)', fontsize=15)\n",
    "ax.plot(x, np.cumsum(binom.pmf(x, n, p)), 'bo', ms=8, label='binom pmf')\n",
    "ax.vlines(x, 0, np.cumsum(binom.pmf(x, n, p)), colors='b', lw=5, alpha=0.5)\n",
    "plt.show()\n",
    "\n",
    "for x in np.arange(0, 11):\n",
    "    print(f'X={x} ->', np.round(binom.pmf(x, n, p),3),'-->', np.round(binom.cdf(x, n, p),3))"
   ]
  },
  {
   "cell_type": "code",
   "execution_count": 80,
   "id": "625a6b5c-410f-498f-bd1e-b03937d46c2f",
   "metadata": {},
   "outputs": [
    {
     "name": "stdout",
     "output_type": "stream",
     "text": [
      "X=0 -> 0.002 --> 0.002\n",
      "X=1 -> 0.018 --> 0.02\n",
      "X=2 -> 0.07 --> 0.09\n",
      "X=3 -> 0.164 --> 0.254\n",
      "X=4 -> 0.246 --> 0.5\n",
      "X=5 -> 0.246 --> 0.746\n",
      "X=6 -> 0.164 --> 0.91\n",
      "X=7 -> 0.07 --> 0.98\n",
      "X=8 -> 0.018 --> 0.998\n",
      "X=9 -> 0.002 --> 1.0\n",
      "X=10 -> 0.0 --> 1.0\n"
     ]
    }
   ],
   "source": [
    "for x in np.arange(0, 11):\n",
    "    print(f'X={x} ->', np.round(binom.pmf(x, n, p),3),'-->', np.round(binom.cdf(x, n, p),3))"
   ]
  },
  {
   "cell_type": "code",
   "execution_count": 58,
   "id": "3330ea7a-4da1-41c4-b202-76d42a152249",
   "metadata": {},
   "outputs": [
    {
     "data": {
      "text/plain": [
       "0.5"
      ]
     },
     "execution_count": 58,
     "metadata": {},
     "output_type": "execute_result"
    }
   ],
   "source": [
    "n, p = 9, 0.5 \n",
    "binom.cdf(4, n, p)"
   ]
  },
  {
   "cell_type": "code",
   "execution_count": 49,
   "id": "91eea8b4-6f7c-4b79-8fa8-09cfa7c5489e",
   "metadata": {},
   "outputs": [
    {
     "data": {
      "text/plain": [
       "0.25390625"
      ]
     },
     "execution_count": 49,
     "metadata": {},
     "output_type": "execute_result"
    }
   ],
   "source": [
    "1-binom.cdf(5, n, p)"
   ]
  },
  {
   "cell_type": "code",
   "execution_count": 69,
   "id": "d8ac29c5-0b52-426e-a646-4e8a91bfdc3d",
   "metadata": {},
   "outputs": [
    {
     "data": {
      "text/plain": [
       "0.4921875"
      ]
     },
     "execution_count": 69,
     "metadata": {},
     "output_type": "execute_result"
    }
   ],
   "source": [
    "binom.cdf(5, n, p) - binom.cdf(3, n, p)"
   ]
  },
  {
   "cell_type": "code",
   "execution_count": 70,
   "id": "7404f7b1-dfa3-43e2-af11-68600a54d6fd",
   "metadata": {},
   "outputs": [
    {
     "data": {
      "text/plain": [
       "0.498046875"
      ]
     },
     "execution_count": 70,
     "metadata": {},
     "output_type": "execute_result"
    }
   ],
   "source": [
    "binom.cdf(8, n, p) - binom.cdf(4, n, p)"
   ]
  },
  {
   "cell_type": "code",
   "execution_count": 71,
   "id": "54691855-e919-46df-8dc1-953911dd8c4f",
   "metadata": {},
   "outputs": [
    {
     "data": {
      "text/plain": [
       "0.5078125"
      ]
     },
     "execution_count": 71,
     "metadata": {},
     "output_type": "execute_result"
    }
   ],
   "source": [
    "(1-binom.cdf(5, n, p)) + binom.cdf(3, n, p)"
   ]
  },
  {
   "cell_type": "code",
   "execution_count": null,
   "id": "02b8a8be-b2a5-42b5-bfa4-2a31398674ec",
   "metadata": {},
   "outputs": [],
   "source": []
  }
 ],
 "metadata": {
  "kernelspec": {
   "display_name": "Python 3",
   "language": "python",
   "name": "python3"
  },
  "language_info": {
   "codemirror_mode": {
    "name": "ipython",
    "version": 3
   },
   "file_extension": ".py",
   "mimetype": "text/x-python",
   "name": "python",
   "nbconvert_exporter": "python",
   "pygments_lexer": "ipython3",
   "version": "3.9.0"
  }
 },
 "nbformat": 4,
 "nbformat_minor": 5
}

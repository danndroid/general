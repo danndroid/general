{
 "cells": [
  {
   "cell_type": "code",
   "execution_count": 2,
   "id": "b4310da6-6716-4c5e-a15b-65c7d1e25635",
   "metadata": {},
   "outputs": [],
   "source": [
    "import numpy as np\n",
    "from scipy.stats import binom, poisson, expon, beta, uniform\n",
    "from scipy.special import binom as binomCof\n",
    "from scipy import optimize\n",
    "import matplotlib.pyplot as plt\n",
    "import seaborn as sns\n",
    "\n",
    "from scipy.optimize import minimize, minimize_scalar"
   ]
  },
  {
   "cell_type": "code",
   "execution_count": 84,
   "id": "cdf093d5-0917-4489-91c2-8c35b94e4aad",
   "metadata": {},
   "outputs": [],
   "source": [
    "def utility(x, R):\n",
    "    u = 1 - np.exp(-x/R)\n",
    "    \n",
    "    return u"
   ]
  },
  {
   "cell_type": "code",
   "execution_count": 7,
   "id": "c8c1614d-ee51-4115-83ae-989b0dc8a13c",
   "metadata": {},
   "outputs": [
    {
     "data": {
      "text/plain": [
       "array([   0,  100,  200,  300,  400,  500,  600,  700,  800,  900, 1000])"
      ]
     },
     "execution_count": 7,
     "metadata": {},
     "output_type": "execute_result"
    }
   ],
   "source": [
    "x = np.arange(0,1100, 100)\n",
    "x"
   ]
  },
  {
   "cell_type": "code",
   "execution_count": 9,
   "id": "847492a2-51e5-43b9-9d36-f6cae90786eb",
   "metadata": {},
   "outputs": [
    {
     "data": {
      "text/plain": [
       "array([0.        , 0.07932173, 0.15235152, 0.21958846, 0.28149205,\n",
       "       0.33848534, 0.39095783, 0.43926811, 0.48374633, 0.52469646,\n",
       "       0.56239836])"
      ]
     },
     "execution_count": 9,
     "metadata": {},
     "output_type": "execute_result"
    }
   ],
   "source": [
    "y = utility(x, 1210)\n",
    "y"
   ]
  },
  {
   "cell_type": "code",
   "execution_count": 16,
   "id": "b0838ae2-2e5f-4622-b269-b95635f29c91",
   "metadata": {},
   "outputs": [
    {
     "data": {
      "image/png": "[encoded data removed]",
      "text/plain": [
       "<Figure size 936x504 with 1 Axes>"
      ]
     },
     "metadata": {
      "needs_background": "light"
     },
     "output_type": "display_data"
    }
   ],
   "source": [
    "fig , ax = plt.subplots(1,1, figsize=(13,7))\n",
    "\n",
    "plt.suptitle('Hit and Flop Probabilities', fontsize=20)\n",
    "sns.lineplot(x=x, y=y, color='gray', \n",
    "             marker='o', markersize=10, markerfacecolor='red')\n",
    "ax.tick_params(axis='x', rotation=45)\n",
    "ax.set_xlabel('x', fontsize=15)\n",
    "ax.set_ylabel('U(x)', fontsize=15)\n",
    "\n",
    "#plt.legend()\n",
    "plt.show()"
   ]
  },
  {
   "cell_type": "code",
   "execution_count": 28,
   "id": "c60068d7-10d9-4e5b-89c1-c23e21bab80a",
   "metadata": {},
   "outputs": [
    {
     "name": "stdout",
     "output_type": "stream",
     "text": [
      "U(1000) = 0.56\n",
      "U(800) = 0.48\n",
      "U(0) = 0.0\n",
      "U(-1250) = -1.81\n"
     ]
    }
   ],
   "source": [
    "x = np.array([1000, 800, 0,-1250])\n",
    "for i in x: \n",
    "    y = utility(i, 1210)\n",
    "    print(f'U({i}) = {np.round(y,2)}')"
   ]
  },
  {
   "cell_type": "code",
   "execution_count": 31,
   "id": "5bf29ccd-2bd8-4536-ba86-7551654f5473",
   "metadata": {},
   "outputs": [
    {
     "data": {
      "text/plain": [
       "1.0"
      ]
     },
     "execution_count": 31,
     "metadata": {},
     "output_type": "execute_result"
    }
   ],
   "source": [
    "probs = np.array([0.33, 0.21, 0.33, 0.13])\n",
    "np.sum(probs)"
   ]
  },
  {
   "cell_type": "code",
   "execution_count": 36,
   "id": "bdd12dec-c5f2-47b7-a39b-588098648169",
   "metadata": {},
   "outputs": [
    {
     "data": {
      "text/plain": [
       "335.5"
      ]
     },
     "execution_count": 36,
     "metadata": {},
     "output_type": "execute_result"
    }
   ],
   "source": [
    "np.dot(probs, x)"
   ]
  },
  {
   "cell_type": "code",
   "execution_count": 86,
   "id": "50a200f0-b749-471f-841c-6c0836c1c84e",
   "metadata": {},
   "outputs": [
    {
     "data": {
      "text/plain": [
       "0.051924443892442496"
      ]
     },
     "execution_count": 86,
     "metadata": {},
     "output_type": "execute_result"
    }
   ],
   "source": [
    "np.dot(probs, utility(x, 1210))"
   ]
  },
  {
   "cell_type": "markdown",
   "id": "f23b6396-e947-43b1-93b2-34724e15be8b",
   "metadata": {},
   "source": [
    "### BOOK TEST"
   ]
  },
  {
   "cell_type": "code",
   "execution_count": 178,
   "id": "6c1384fe-08f6-4bf7-b096-f7576dc5cfb8",
   "metadata": {},
   "outputs": [],
   "source": [
    "R = 900\n",
    "\n",
    "x = np.array([2000, 1000, 500])\n",
    "probs = [0.4, 0.4, 0.2]"
   ]
  },
  {
   "cell_type": "code",
   "execution_count": 179,
   "id": "9fcbe6f0-b4da-4842-bb72-6152727cb18d",
   "metadata": {},
   "outputs": [
    {
     "data": {
      "text/plain": [
       "0.7102249114405929"
      ]
     },
     "execution_count": 179,
     "metadata": {},
     "output_type": "execute_result"
    }
   ],
   "source": [
    "eu = np.dot(probs, utility(x, R))\n",
    "eu"
   ]
  },
  {
   "cell_type": "code",
   "execution_count": 180,
   "id": "526ab606-aef0-40de-a866-cb41357e45f4",
   "metadata": {},
   "outputs": [],
   "source": [
    "def objective_function_test(x):\n",
    "    #(a, b) = v\n",
    "    loss  = np.square(1-np.exp(-x/900) - eu) \n",
    "        \n",
    "    return loss"
   ]
  },
  {
   "cell_type": "code",
   "execution_count": 181,
   "id": "3e58315e-df03-4590-861c-3cc125372f27",
   "metadata": {},
   "outputs": [
    {
     "data": {
      "text/plain": [
       "      fun: 7.961844112347834e-06\n",
       " hess_inv: array([[3610064.08954577]])\n",
       "      jac: array([-1.83468683e-06])\n",
       "  message: 'Optimization terminated successfully.'\n",
       "     nfev: 32\n",
       "      nit: 7\n",
       "     njev: 16\n",
       "   status: 0\n",
       "  success: True\n",
       "        x: array([1106.06386939])"
      ]
     },
     "execution_count": 181,
     "metadata": {},
     "output_type": "execute_result"
    }
   ],
   "source": [
    "res = minimize(objective_function_test, x0 = 0.5)\n",
    "res"
   ]
  },
  {
   "cell_type": "code",
   "execution_count": 182,
   "id": "2c902890-7e73-4c95-a90e-acf24a51c21a",
   "metadata": {},
   "outputs": [
    {
     "data": {
      "text/plain": [
       "1300.0"
      ]
     },
     "execution_count": 182,
     "metadata": {},
     "output_type": "execute_result"
    }
   ],
   "source": [
    "mu = np.dot(probs_test, x_test)\n",
    "mu"
   ]
  },
  {
   "cell_type": "code",
   "execution_count": 183,
   "id": "31774296-eb17-4e60-aafe-512ce5b24876",
   "metadata": {},
   "outputs": [
    {
     "data": {
      "text/plain": [
       "(360000.0, 600.0, 360000.0)"
      ]
     },
     "execution_count": 183,
     "metadata": {},
     "output_type": "execute_result"
    }
   ],
   "source": [
    "var = np.dot(probs, np.square(x-mu))\n",
    "var, np.sqrt(var), np.square(np.sqrt(var))"
   ]
  },
  {
   "cell_type": "code",
   "execution_count": 184,
   "id": "8d77315c-f6bd-48dc-9bf9-e26b1c0d30c0",
   "metadata": {},
   "outputs": [
    {
     "data": {
      "text/plain": [
       "1100.0"
      ]
     },
     "execution_count": 184,
     "metadata": {},
     "output_type": "execute_result"
    }
   ],
   "source": [
    "ce = mu - (0.5*var / R)\n",
    "ce"
   ]
  },
  {
   "cell_type": "markdown",
   "id": "13e99ab8-b9fa-408a-92cf-906ba2a852b9",
   "metadata": {},
   "source": [
    "### HW"
   ]
  },
  {
   "cell_type": "code",
   "execution_count": 185,
   "id": "d9380f95-4e5a-43e4-bbff-bd435810b699",
   "metadata": {},
   "outputs": [],
   "source": [
    "R = 1210\n",
    "\n",
    "x = np.array([1000, 800, 0, -1250])\n",
    "probs = [0.33,0.21, 0.33, 0.13]"
   ]
  },
  {
   "cell_type": "code",
   "execution_count": 186,
   "id": "1efac263-be95-4dde-84ed-a2af158dd1df",
   "metadata": {},
   "outputs": [
    {
     "data": {
      "text/plain": [
       "0.051924443892442496"
      ]
     },
     "execution_count": 186,
     "metadata": {},
     "output_type": "execute_result"
    }
   ],
   "source": [
    "eu = np.dot(probs, utility(x, R))\n",
    "eu"
   ]
  },
  {
   "cell_type": "code",
   "execution_count": 187,
   "id": "3467cd6b-84df-4f3f-bda3-2397ad279044",
   "metadata": {},
   "outputs": [],
   "source": [
    "def objective_function(x):\n",
    "    #(a, b) = v\n",
    "    loss  = np.square(1-np.exp(-x/1210) - eu) \n",
    "        \n",
    "    return loss"
   ]
  },
  {
   "cell_type": "code",
   "execution_count": 188,
   "id": "58fe2fe1-660c-4079-bc65-7f31aaa44860",
   "metadata": {},
   "outputs": [
    {
     "data": {
      "text/plain": [
       "      fun: 4.434209616453271e-06\n",
       " hess_inv: array([[723177.48705305]])\n",
       "      jac: array([-3.30720098e-06])\n",
       "  message: 'Optimization terminated successfully.'\n",
       "     nfev: 24\n",
       "      nit: 3\n",
       "     njev: 12\n",
       "   status: 0\n",
       "  success: True\n",
       "        x: array([61.83397349])"
      ]
     },
     "execution_count": 188,
     "metadata": {},
     "output_type": "execute_result"
    }
   ],
   "source": [
    "res = minimize(objective_function, x0 = 0.5)\n",
    "res"
   ]
  },
  {
   "cell_type": "code",
   "execution_count": 189,
   "id": "d40ef51e-632c-4b4e-a312-6c59595c85cd",
   "metadata": {},
   "outputs": [
    {
     "data": {
      "text/plain": [
       "335.5"
      ]
     },
     "execution_count": 189,
     "metadata": {},
     "output_type": "execute_result"
    }
   ],
   "source": [
    "mu = np.dot(probs, x)\n",
    "mu"
   ]
  },
  {
   "cell_type": "code",
   "execution_count": 190,
   "id": "92a12c58-bf2d-4c19-aec5-14325d994357",
   "metadata": {},
   "outputs": [
    {
     "data": {
      "text/plain": [
       "273.6666"
      ]
     },
     "execution_count": 190,
     "metadata": {},
     "output_type": "execute_result"
    }
   ],
   "source": [
    "premium = mu - 61.8334\n",
    "premium"
   ]
  },
  {
   "cell_type": "code",
   "execution_count": 191,
   "id": "8d78328e-024c-4ca8-a0f3-9728ad727ca5",
   "metadata": {},
   "outputs": [
    {
     "data": {
      "text/plain": [
       "(554964.75, 744.9595626609541, 554964.75)"
      ]
     },
     "execution_count": 191,
     "metadata": {},
     "output_type": "execute_result"
    }
   ],
   "source": [
    "var = np.dot(probs, np.square(x-mu))\n",
    "var, np.sqrt(var), np.square(np.sqrt(var))"
   ]
  },
  {
   "cell_type": "code",
   "execution_count": 192,
   "id": "88c07635-d8eb-447e-978b-01c80133d4f8",
   "metadata": {},
   "outputs": [
    {
     "data": {
      "text/plain": [
       "106.17572314049588"
      ]
     },
     "execution_count": 192,
     "metadata": {},
     "output_type": "execute_result"
    }
   ],
   "source": [
    "ce = mu - (0.5*var / R)\n",
    "ce"
   ]
  },
  {
   "cell_type": "code",
   "execution_count": 193,
   "id": "839c063f-7410-433b-a22c-5c45766d9d13",
   "metadata": {},
   "outputs": [
    {
     "data": {
      "text/plain": [
       "2362.809917355372"
      ]
     },
     "execution_count": 193,
     "metadata": {},
     "output_type": "execute_result"
    }
   ],
   "source": [
    "ce = 2400 - (0.5*np.square(300) / R)\n",
    "ce"
   ]
  },
  {
   "cell_type": "markdown",
   "id": "29afe6a8-4aa4-4930-a362-294c92adf1bd",
   "metadata": {},
   "source": [
    "### P2"
   ]
  },
  {
   "cell_type": "code",
   "execution_count": 4,
   "id": "b77438df-b806-4e96-8052-f10ce141ee5d",
   "metadata": {},
   "outputs": [],
   "source": [
    "x = [0,2,3,5,10.3]\n",
    "d1 = [1,2.6,2.8,2.9,3]\n",
    "d2 = [0,8,15,30,100]\n",
    "d3 = [6,13,16.5,23.5,42.05]"
   ]
  },
  {
   "cell_type": "code",
   "execution_count": 6,
   "id": "4966b50e-e59c-4d8a-aa23-1557cb49f397",
   "metadata": {},
   "outputs": [
    {
     "data": {
      "image/png": "[encoded data removed]",
      "text/plain": [
       "<Figure size 936x504 with 1 Axes>"
      ]
     },
     "metadata": {
      "needs_background": "light"
     },
     "output_type": "display_data"
    }
   ],
   "source": [
    "fig , ax = plt.subplots(1,1, figsize=(13,7))\n",
    "\n",
    "plt.suptitle('Hit and Flop Probabilities', fontsize=20)\n",
    "sns.lineplot(x=x, y=d1, color='gray', \n",
    "             marker='o', markersize=10, markerfacecolor='red')\n",
    "sns.lineplot(x=x, y=d2, color='gray', \n",
    "             marker='o', markersize=10, markerfacecolor='red')\n",
    "sns.lineplot(x=x, y=d3, color='gray', \n",
    "             marker='o', markersize=10, markerfacecolor='red')\n",
    "ax.tick_params(axis='x', rotation=45)\n",
    "ax.set_xlabel('x', fontsize=15)\n",
    "ax.set_ylabel('U(x)', fontsize=15)\n",
    "\n",
    "#plt.legend()\n",
    "plt.show()"
   ]
  },
  {
   "cell_type": "code",
   "execution_count": 16,
   "id": "c3bc35b5-2ac1-47e6-be10-39e132b23259",
   "metadata": {},
   "outputs": [
    {
     "data": {
      "image/png": "[encoded data removed]",
      "text/plain": [
       "<Figure size 1224x360 with 3 Axes>"
      ]
     },
     "metadata": {
      "needs_background": "light"
     },
     "output_type": "display_data"
    }
   ],
   "source": [
    "fig , axes = plt.subplots(1,3, figsize=(17,5))\n",
    "\n",
    "#plt.suptitle('Utility functions pero Director', fontsize=20)\n",
    "ax = axes[0]\n",
    "ax.set_title('Director A', fontsize=15)\n",
    "sns.lineplot(x=x, y=d1, color='gray', \n",
    "             marker='o', markersize=10, markerfacecolor='red', ax=ax)\n",
    "ax.tick_params(axis='x', rotation=45)\n",
    "ax.set_xlabel('X', fontsize=15)\n",
    "ax.set_ylabel('$U_A(x)$', fontsize=15)\n",
    "\n",
    "ax = axes[1]\n",
    "ax.set_title('Director B', fontsize=15)\n",
    "sns.lineplot(x=x, y=d2, color='gray', \n",
    "             marker='o', markersize=10, markerfacecolor='red', ax=ax)\n",
    "ax.tick_params(axis='x', rotation=45)\n",
    "ax.set_xlabel('X', fontsize=15)\n",
    "ax.set_ylabel('$U_B(x)$', fontsize=15)\n",
    "\n",
    "ax = axes[2]\n",
    "ax.set_title('Director C', fontsize=15)\n",
    "sns.lineplot(x=x, y=d3, color='gray', \n",
    "             marker='o', markersize=10, markerfacecolor='red', ax=ax)\n",
    "ax.tick_params(axis='x', rotation=45)\n",
    "ax.set_xlabel('X', fontsize=15)\n",
    "ax.set_ylabel('$U_C(x)$', fontsize=15)\n",
    "\n",
    "#plt.legend()\n",
    "plt.show()"
   ]
  },
  {
   "cell_type": "code",
   "execution_count": null,
   "id": "e3912940-7d00-4fb7-a2f8-c7e5fe296676",
   "metadata": {},
   "outputs": [],
   "source": []
  },
  {
   "cell_type": "code",
   "execution_count": null,
   "id": "ca8e36a0-4d1d-4473-9051-f24073d4d62b",
   "metadata": {},
   "outputs": [],
   "source": []
  },
  {
   "cell_type": "code",
   "execution_count": null,
   "id": "1525b694-694a-468c-9959-31053de5cb65",
   "metadata": {},
   "outputs": [],
   "source": []
  },
  {
   "cell_type": "code",
   "execution_count": null,
   "id": "eb6cd216-2a45-4950-9dbc-d3fb323c5143",
   "metadata": {},
   "outputs": [],
   "source": []
  },
  {
   "cell_type": "code",
   "execution_count": null,
   "id": "df14735f-0d1e-47ad-bca3-603ff2c8a8d6",
   "metadata": {},
   "outputs": [],
   "source": []
  },
  {
   "cell_type": "code",
   "execution_count": null,
   "id": "920f1994-6789-4985-b663-2de63b82f61c",
   "metadata": {},
   "outputs": [],
   "source": []
  }
 ],
 "metadata": {
  "kernelspec": {
   "display_name": "Python 3",
   "language": "python",
   "name": "python3"
  },
  "language_info": {
   "codemirror_mode": {
    "name": "ipython",
    "version": 3
   },
   "file_extension": ".py",
   "mimetype": "text/x-python",
   "name": "python",
   "nbconvert_exporter": "python",
   "pygments_lexer": "ipython3",
   "version": "3.9.0"
  }
 },
 "nbformat": 4,
 "nbformat_minor": 5
}

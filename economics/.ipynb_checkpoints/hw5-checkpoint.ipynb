{
 "cells": [
  {
   "cell_type": "code",
   "execution_count": 95,
   "id": "920f58eb-17ae-4ee0-976d-b738da09b155",
   "metadata": {},
   "outputs": [],
   "source": [
    "import numpy as np\n",
    "import matplotlib.pyplot as plt\n",
    "plt.style.use('bmh')"
   ]
  },
  {
   "cell_type": "markdown",
   "id": "ac35fb2a-49bd-43e7-b9f2-dcd1723a2b9a",
   "metadata": {},
   "source": [
    "## P1"
   ]
  },
  {
   "cell_type": "code",
   "execution_count": 24,
   "id": "211697aa-76e7-4860-b883-d5dfecb0a3bc",
   "metadata": {},
   "outputs": [],
   "source": [
    "r_base = 0.11\n",
    "f_base = 5000\n",
    "c = 14000 "
   ]
  },
  {
   "cell_type": "code",
   "execution_count": 31,
   "id": "2fe8e77e-b599-4044-9ac2-9229087109c9",
   "metadata": {},
   "outputs": [
    {
     "name": "stdout",
     "output_type": "stream",
     "text": [
      "1 2252.252252252252\n",
      "2 2029.0560831101368\n",
      "3 1827.9784532523754\n",
      "4 1646.8274353625004\n",
      "5 1483.6283201463966\n",
      "6 1336.6020902219786\n",
      "10576.34463434564\n",
      "Net: -3423.65536565436\n",
      "\n",
      "1 4504.504504504504\n",
      "2 4058.1121662202736\n",
      "3 3655.956906504751\n",
      "4 3293.654870725001\n",
      "5 2967.2566402927932\n",
      "6 2673.2041804439573\n",
      "21152.68926869128\n",
      "Net: 7152.68926869128\n",
      "\n",
      "1 6306.3063063063055\n",
      "2 5681.357032708383\n",
      "3 5118.339669106651\n",
      "4 4611.116819015001\n",
      "5 4154.15929640991\n",
      "6 3742.48585262154\n",
      "29613.764976167793\n",
      "Net: 15613.764976167793\n",
      "\n"
     ]
    }
   ],
   "source": [
    "v1 = []\n",
    "for f in [2500, 5000, 7000]:\n",
    "    flow = 0\n",
    "    for t in np.arange(1, 7):\n",
    "        v = f*(1/((1+r_base)**t))\n",
    "        print(t, v)\n",
    "        flow += v\n",
    "    print(flow)\n",
    "    v1.append(flow-c)\n",
    "    print(f'Net: {flow-c}\\n')"
   ]
  },
  {
   "cell_type": "code",
   "execution_count": 32,
   "id": "9a2610d0-6169-405c-b560-f265c7fe8818",
   "metadata": {},
   "outputs": [
    {
     "name": "stdout",
     "output_type": "stream",
     "text": [
      "1 4566.210045662101\n",
      "2 4170.054836221097\n",
      "3 3808.2692568229195\n",
      "4 3477.8714674181915\n",
      "5 3176.1383264093074\n",
      "6 2900.582946492518\n",
      "22099.12687902614\n",
      "Net: 8099.126879026138\n",
      "\n",
      "1 4504.504504504504\n",
      "2 4058.1121662202736\n",
      "3 3655.956906504751\n",
      "4 3293.654870725001\n",
      "5 2967.2566402927932\n",
      "6 2673.2041804439573\n",
      "21152.68926869128\n",
      "Net: 7152.68926869128\n",
      "\n",
      "1 4464.285714285714\n",
      "2 3985.9693877551017\n",
      "3 3558.9012390670546\n",
      "4 3177.5903920241553\n",
      "5 2837.134278592996\n",
      "6 2533.1556058866026\n",
      "20557.036617611622\n",
      "Net: 6557.036617611622\n",
      "\n"
     ]
    }
   ],
   "source": [
    "v2 = []\n",
    "for r in [0.095, 0.11, 0.12]:\n",
    "    flow = 0\n",
    "    for t in np.arange(1, 7):\n",
    "        v = f_base*(1/((1+r)**t))\n",
    "        print(t, v)\n",
    "        flow += v\n",
    "    print(flow)\n",
    "    v2.append(flow-c)\n",
    "    print(f'Net: {flow-c}\\n')"
   ]
  },
  {
   "cell_type": "code",
   "execution_count": 98,
   "id": "7b1cfdb3-c465-4d79-9473-1f7fd5585490",
   "metadata": {},
   "outputs": [
    {
     "data": {
      "image/png": "[encoded data removed]",
      "text/plain": [
       "<Figure size 432x288 with 1 Axes>"
      ]
     },
     "metadata": {
      "needs_background": "light"
     },
     "output_type": "display_data"
    }
   ],
   "source": [
    "plt.title('',fontsize=20)\n",
    "\n",
    "s = ['','RATE','FLOW','']\n",
    "x = np.linspace(np.min(v1),np.max(v1), 25)\n",
    "y = [2]* len(x)\n",
    "c = ['red' if s<=0 else 'blue' for s in x]\n",
    "plt.scatter(x,y, color=c, s=600)\n",
    "\n",
    "x = np.linspace(np.min(v2),np.max(v2), 3)\n",
    "y = [1]* len(x)\n",
    "c = ['red' if s<=0 else 'blue' for s in x]\n",
    "plt.scatter(x,y, color=c, s=600)\n",
    "plt.yticks(range(len(s)), s, size='small')\n",
    "\n",
    "plt.ylabel('Variables', fontsize=15)\n",
    "plt.xlabel('Net Present Value', fontsize=15)\n",
    "plt.show()"
   ]
  },
  {
   "cell_type": "markdown",
   "id": "a984cd25-0105-47d6-92f5-15269af4f563",
   "metadata": {},
   "source": [
    "## P2"
   ]
  },
  {
   "cell_type": "code",
   "execution_count": 152,
   "id": "78f64186-97a7-4494-8768-6344aa1cc52d",
   "metadata": {},
   "outputs": [],
   "source": [
    "p_charlote = 0.85\n",
    "p_astoria = 0.78"
   ]
  },
  {
   "cell_type": "code",
   "execution_count": 153,
   "id": "e6bac2a3-e212-45da-ad22-c7f3bef9dc1c",
   "metadata": {},
   "outputs": [],
   "source": [
    "m_rent = 1500\n",
    "m_occupied = 10\n",
    "tax_rate = 0.33\n",
    "p_rented = 0.35\n",
    "\n",
    "insurance = 1440\n",
    "repair = 4000\n",
    "house_price = 600000\n",
    "p_tax_rate = 0.01\n",
    "\n",
    "mortage = 47143"
   ]
  },
  {
   "cell_type": "code",
   "execution_count": 154,
   "id": "c4dac72c-1af1-4df7-89a5-380f0fc0ca1f",
   "metadata": {},
   "outputs": [],
   "source": [
    "Price = p_charlote\n",
    "#Price = p_astoria\n"
   ]
  },
  {
   "cell_type": "code",
   "execution_count": 155,
   "id": "b7c92005-a5b9-4efa-bdf6-96b70003f493",
   "metadata": {},
   "outputs": [
    {
     "data": {
      "text/plain": [
       "8595.347475"
      ]
     },
     "execution_count": 155,
     "metadata": {},
     "output_type": "execute_result"
    }
   ],
   "source": [
    "tax_ded = tax_rate*(1-p_rented)*(P*mortage)\n",
    "tax_ded"
   ]
  },
  {
   "cell_type": "code",
   "execution_count": 156,
   "id": "74f2f68d-c29a-4240-9e5a-6176f8adfafc",
   "metadata": {},
   "outputs": [
    {
     "data": {
      "text/plain": [
       "15000"
      ]
     },
     "execution_count": 156,
     "metadata": {},
     "output_type": "execute_result"
    }
   ],
   "source": [
    "rental_income = m_rent*m_occupied\n",
    "rental_income"
   ]
  },
  {
   "cell_type": "code",
   "execution_count": 132,
   "id": "9c7138bd-a93a-4f3f-8840-a99547350ca4",
   "metadata": {},
   "outputs": [
    {
     "data": {
      "text/plain": [
       "58583.0"
      ]
     },
     "execution_count": 132,
     "metadata": {},
     "output_type": "execute_result"
    }
   ],
   "source": [
    "cost = mortage + insurance + repair + house_price*p_tax_rate\n",
    "cost"
   ]
  },
  {
   "cell_type": "code",
   "execution_count": 133,
   "id": "bdfc79ff-56ef-4752-ad1f-8912557e96ef",
   "metadata": {},
   "outputs": [
    {
     "data": {
      "text/plain": [
       "34987.652525"
      ]
     },
     "execution_count": 133,
     "metadata": {},
     "output_type": "execute_result"
    }
   ],
   "source": [
    "net_cost = cost - (rental_income + tax_ded)\n",
    "net_cost"
   ]
  },
  {
   "cell_type": "code",
   "execution_count": 195,
   "id": "8e2c5061-6c39-4a7a-ae30-74bb40b41fbd",
   "metadata": {},
   "outputs": [],
   "source": [
    "def calculate(house):\n",
    "    if house == 'astoria':\n",
    "        price = 450000\n",
    "        insurance = 1080\n",
    "        mortage = 27866\n",
    "        repair = 2400\n",
    "        p_rented = 0\n",
    "        m_rent = 0\n",
    "        m_occupied = 0\n",
    "        \n",
    "        P = 0.78\n",
    "        \n",
    "    elif house == 'charlotte':\n",
    "        price = 600000\n",
    "        insurance = 1440\n",
    "        mortage = 47143\n",
    "        repair = 4000\n",
    "        p_rented = 0.35\n",
    "        m_rent = 1500\n",
    "        m_occupied = 10\n",
    "        \n",
    "        P = 0.85\n",
    "        \n",
    "    elif house == 'barnard':\n",
    "        price = 750000\n",
    "        insurance = 1800\n",
    "        mortage = 56813\n",
    "        repair = 3200\n",
    "        p_rented = 0.40\n",
    "        m_rent = 2000\n",
    "        m_occupied = 10\n",
    "        \n",
    "        P = 0.85\n",
    "        \n",
    "    tax_ded = tax_rate*(1-p_rented)*(P*mortage)\n",
    "    print(f'Tax Ded.: {tax_ded}')\n",
    "    \n",
    "    rental_income = m_rent*m_occupied\n",
    "    print(f'Income: {rental_income}')\n",
    "    \n",
    "    cost = mortage + insurance + repair + price*p_tax_rate\n",
    "    #print(mortage, insurance, repair, price*p_tax_rate)\n",
    "    print(f'Cost: {cost}')\n",
    "    \n",
    "    net_cost = cost - (rental_income + tax_ded)\n",
    "    print(f'Net: {np.round(net_cost,1)}')\n",
    "    \n",
    "    "
   ]
  },
  {
   "cell_type": "code",
   "execution_count": 196,
   "id": "26b447b9-4d9e-4716-9e58-7e27ee3a177a",
   "metadata": {},
   "outputs": [
    {
     "name": "stdout",
     "output_type": "stream",
     "text": [
      "Tax Ded.: 7172.7084\n",
      "Income: 0\n",
      "Cost: 35846.0\n",
      "Net: 28673.3\n"
     ]
    }
   ],
   "source": [
    "calculate('astoria')"
   ]
  },
  {
   "cell_type": "code",
   "execution_count": 197,
   "id": "07a0c8b0-1473-4d69-8a50-6d769977a04c",
   "metadata": {},
   "outputs": [
    {
     "name": "stdout",
     "output_type": "stream",
     "text": [
      "Tax Ded.: 9561.6279\n",
      "Income: 20000\n",
      "Cost: 69313.0\n",
      "Net: 39751.4\n"
     ]
    }
   ],
   "source": [
    "calculate('barnard')"
   ]
  },
  {
   "cell_type": "code",
   "execution_count": 198,
   "id": "0743004a-349c-46a9-8576-d91bfb60bbe1",
   "metadata": {},
   "outputs": [
    {
     "name": "stdout",
     "output_type": "stream",
     "text": [
      "Tax Ded.: 8595.347475\n",
      "Income: 15000\n",
      "Cost: 58583.0\n",
      "Net: 34987.7\n"
     ]
    }
   ],
   "source": [
    "calculate('charlotte')"
   ]
  },
  {
   "cell_type": "code",
   "execution_count": null,
   "id": "44501bba-cd96-476c-8a00-e2cc3b0d5d41",
   "metadata": {},
   "outputs": [],
   "source": []
  }
 ],
 "metadata": {
  "kernelspec": {
   "display_name": "Python 3",
   "language": "python",
   "name": "python3"
  },
  "language_info": {
   "codemirror_mode": {
    "name": "ipython",
    "version": 3
   },
   "file_extension": ".py",
   "mimetype": "text/x-python",
   "name": "python",
   "nbconvert_exporter": "python",
   "pygments_lexer": "ipython3",
   "version": "3.9.0"
  }
 },
 "nbformat": 4,
 "nbformat_minor": 5
}

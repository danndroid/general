{
 "cells": [
  {
   "cell_type": "code",
   "execution_count": 1,
   "id": "6b395678-5e9c-4fd9-b306-53e789f679bf",
   "metadata": {},
   "outputs": [],
   "source": [
    "import numpy as np\n",
    "from scipy.stats import binom\n",
    "from scipy.special import binom as binomCof\n",
    "import matplotlib.pyplot as plt"
   ]
  },
  {
   "cell_type": "code",
   "execution_count": 2,
   "id": "9b54f2b5-3b96-4123-9678-ea260861495b",
   "metadata": {},
   "outputs": [],
   "source": [
    "n, p = 6, 0.25"
   ]
  },
  {
   "cell_type": "markdown",
   "id": "9c76e834-8f52-4868-b309-e65ddb1dd977",
   "metadata": {},
   "source": [
    "### $p(X=4)$"
   ]
  },
  {
   "cell_type": "code",
   "execution_count": 3,
   "id": "b4ed24cd-ef69-4d7b-8aa8-005294553db8",
   "metadata": {},
   "outputs": [
    {
     "data": {
      "text/plain": [
       "0.03295898437499997"
      ]
     },
     "execution_count": 3,
     "metadata": {},
     "output_type": "execute_result"
    }
   ],
   "source": [
    "binom.pmf(4, n,p)"
   ]
  },
  {
   "cell_type": "code",
   "execution_count": 4,
   "id": "d3d97f39-6947-483d-8bf4-df4979faf5e5",
   "metadata": {},
   "outputs": [
    {
     "data": {
      "text/plain": [
       "0.032958984375"
      ]
     },
     "execution_count": 4,
     "metadata": {},
     "output_type": "execute_result"
    }
   ],
   "source": [
    "binomCof(6,4)*(.25**4)*(.75**2)"
   ]
  },
  {
   "cell_type": "markdown",
   "id": "ea2309d1-d575-4de1-a301-d365b68cec61",
   "metadata": {},
   "source": [
    "### $p(X \\geq 1)$"
   ]
  },
  {
   "cell_type": "code",
   "execution_count": 5,
   "id": "699c2008-3bec-4906-9ac4-b1334ac48ffc",
   "metadata": {},
   "outputs": [
    {
     "data": {
      "text/plain": [
       "0.822021484375"
      ]
     },
     "execution_count": 5,
     "metadata": {},
     "output_type": "execute_result"
    }
   ],
   "source": [
    "1 - binom.cdf(0, n,p)"
   ]
  },
  {
   "cell_type": "code",
   "execution_count": 6,
   "id": "dd083040-c339-4977-9385-e2c15f6c49d0",
   "metadata": {},
   "outputs": [
    {
     "data": {
      "text/plain": [
       "0.822021484375"
      ]
     },
     "execution_count": 6,
     "metadata": {},
     "output_type": "execute_result"
    }
   ],
   "source": [
    "1 - binomCof(6,0)*(.25**0)*(.75**6)"
   ]
  },
  {
   "cell_type": "code",
   "execution_count": 7,
   "id": "7e6dbf6d-6e28-4bb1-ab5a-09a52aa18469",
   "metadata": {},
   "outputs": [
    {
     "data": {
      "text/plain": [
       "0.822021484375"
      ]
     },
     "execution_count": 7,
     "metadata": {},
     "output_type": "execute_result"
    }
   ],
   "source": [
    "1-(0.75**6)"
   ]
  },
  {
   "cell_type": "markdown",
   "id": "7447ecbb-9147-4dd7-9e2b-4441e67c9eb3",
   "metadata": {},
   "source": [
    "### R"
   ]
  },
  {
   "cell_type": "code",
   "execution_count": 13,
   "id": "b65bf870-7edf-4bc8-b203-b4d161c470f2",
   "metadata": {},
   "outputs": [
    {
     "data": {
      "text/plain": [
       "(0.63671875, 0.36328125)"
      ]
     },
     "execution_count": 13,
     "metadata": {},
     "output_type": "execute_result"
    }
   ],
   "source": [
    "binom.cdf(4, 8, 0.5), binom.cdf(3, 8, 0.5)"
   ]
  },
  {
   "cell_type": "code",
   "execution_count": 16,
   "id": "0c7c54f3-e727-49b7-a58d-d83eabe3be1e",
   "metadata": {},
   "outputs": [
    {
     "data": {
      "text/plain": [
       "0.14453125"
      ]
     },
     "execution_count": 16,
     "metadata": {},
     "output_type": "execute_result"
    }
   ],
   "source": [
    "1 - binom.cdf(5, 8, 0.5)"
   ]
  },
  {
   "cell_type": "code",
   "execution_count": null,
   "id": "4b964a50-b940-458c-a4b6-82adbdd03d6c",
   "metadata": {},
   "outputs": [],
   "source": []
  },
  {
   "cell_type": "code",
   "execution_count": 19,
   "id": "b438d485-f567-4345-a51d-92e76521971c",
   "metadata": {},
   "outputs": [
    {
     "data": {
      "text/plain": [
       "0.17886305056987964"
      ]
     },
     "execution_count": 19,
     "metadata": {},
     "output_type": "execute_result"
    }
   ],
   "source": [
    "binom.pmf(5, 20, 0.3)"
   ]
  },
  {
   "cell_type": "code",
   "execution_count": null,
   "id": "0c9ced07-2bdd-47c0-9085-d121a0b6158d",
   "metadata": {},
   "outputs": [],
   "source": []
  }
 ],
 "metadata": {
  "kernelspec": {
   "display_name": "Python 3 (ipykernel)",
   "language": "python",
   "name": "python3"
  },
  "language_info": {
   "codemirror_mode": {
    "name": "ipython",
    "version": 3
   },
   "file_extension": ".py",
   "mimetype": "text/x-python",
   "name": "python",
   "nbconvert_exporter": "python",
   "pygments_lexer": "ipython3",
   "version": "3.9.13"
  }
 },
 "nbformat": 4,
 "nbformat_minor": 5
}

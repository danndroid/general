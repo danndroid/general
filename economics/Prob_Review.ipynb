{
 "cells": [
  {
   "cell_type": "code",
   "execution_count": 49,
   "id": "6b395678-5e9c-4fd9-b306-53e789f679bf",
   "metadata": {},
   "outputs": [],
   "source": [
    "import numpy as np\n",
    "from scipy.stats import binom, poisson, expon, norm\n",
    "from scipy.special import binom as binomCof\n",
    "import matplotlib.pyplot as plt"
   ]
  },
  {
   "cell_type": "markdown",
   "id": "0ba096cd-3440-414c-b08f-917bada02b63",
   "metadata": {
    "jp-MarkdownHeadingCollapsed": true,
    "tags": []
   },
   "source": [
    "## Hidden"
   ]
  },
  {
   "cell_type": "code",
   "execution_count": null,
   "id": "9b54f2b5-3b96-4123-9678-ea260861495b",
   "metadata": {},
   "outputs": [],
   "source": [
    "n, p = 6, 0.25"
   ]
  },
  {
   "cell_type": "markdown",
   "id": "9c76e834-8f52-4868-b309-e65ddb1dd977",
   "metadata": {},
   "source": [
    "### $p(X=4)$"
   ]
  },
  {
   "cell_type": "code",
   "execution_count": null,
   "id": "b4ed24cd-ef69-4d7b-8aa8-005294553db8",
   "metadata": {},
   "outputs": [
    {
     "data": {
      "text/plain": [
       "0.03295898437499997"
      ]
     },
     "execution_count": 3,
     "metadata": {},
     "output_type": "execute_result"
    }
   ],
   "source": [
    "binom.pmf(4, n,p)"
   ]
  },
  {
   "cell_type": "code",
   "execution_count": null,
   "id": "d3d97f39-6947-483d-8bf4-df4979faf5e5",
   "metadata": {},
   "outputs": [
    {
     "data": {
      "text/plain": [
       "0.032958984375"
      ]
     },
     "execution_count": 4,
     "metadata": {},
     "output_type": "execute_result"
    }
   ],
   "source": [
    "binomCof(6,4)*(.25**4)*(.75**2)"
   ]
  },
  {
   "cell_type": "markdown",
   "id": "ea2309d1-d575-4de1-a301-d365b68cec61",
   "metadata": {},
   "source": [
    "### $p(X \\geq 1)$"
   ]
  },
  {
   "cell_type": "code",
   "execution_count": null,
   "id": "699c2008-3bec-4906-9ac4-b1334ac48ffc",
   "metadata": {},
   "outputs": [
    {
     "data": {
      "text/plain": [
       "0.822021484375"
      ]
     },
     "execution_count": 5,
     "metadata": {},
     "output_type": "execute_result"
    }
   ],
   "source": [
    "1 - binom.cdf(0, n,p)"
   ]
  },
  {
   "cell_type": "code",
   "execution_count": null,
   "id": "dd083040-c339-4977-9385-e2c15f6c49d0",
   "metadata": {},
   "outputs": [
    {
     "data": {
      "text/plain": [
       "0.822021484375"
      ]
     },
     "execution_count": 6,
     "metadata": {},
     "output_type": "execute_result"
    }
   ],
   "source": [
    "1 - binomCof(6,0)*(.25**0)*(.75**6)"
   ]
  },
  {
   "cell_type": "code",
   "execution_count": 7,
   "id": "7e6dbf6d-6e28-4bb1-ab5a-09a52aa18469",
   "metadata": {},
   "outputs": [
    {
     "data": {
      "text/plain": [
       "0.822021484375"
      ]
     },
     "execution_count": 7,
     "metadata": {},
     "output_type": "execute_result"
    }
   ],
   "source": [
    "1-(0.75**6)"
   ]
  },
  {
   "cell_type": "markdown",
   "id": "9e58b348-0719-4a96-ac8b-7ac3cd50e139",
   "metadata": {
    "tags": []
   },
   "source": [
    "## Review"
   ]
  },
  {
   "cell_type": "code",
   "execution_count": 3,
   "id": "b65bf870-7edf-4bc8-b203-b4d161c470f2",
   "metadata": {},
   "outputs": [
    {
     "data": {
      "text/plain": [
       "(0.63671875, 0.36328125)"
      ]
     },
     "execution_count": 3,
     "metadata": {},
     "output_type": "execute_result"
    }
   ],
   "source": [
    "binom.cdf(4, 8, 0.5), binom.cdf(3, 8, 0.5)"
   ]
  },
  {
   "cell_type": "code",
   "execution_count": 4,
   "id": "0c7c54f3-e727-49b7-a58d-d83eabe3be1e",
   "metadata": {},
   "outputs": [
    {
     "data": {
      "text/plain": [
       "0.14453125"
      ]
     },
     "execution_count": 4,
     "metadata": {},
     "output_type": "execute_result"
    }
   ],
   "source": [
    "1 - binom.cdf(5, n=8, p=0.5)"
   ]
  },
  {
   "cell_type": "code",
   "execution_count": null,
   "id": "4b964a50-b940-458c-a4b6-82adbdd03d6c",
   "metadata": {},
   "outputs": [],
   "source": []
  },
  {
   "cell_type": "code",
   "execution_count": 5,
   "id": "b438d485-f567-4345-a51d-92e76521971c",
   "metadata": {},
   "outputs": [
    {
     "data": {
      "text/plain": [
       "0.17886305056987964"
      ]
     },
     "execution_count": 5,
     "metadata": {},
     "output_type": "execute_result"
    }
   ],
   "source": [
    "binom.pmf(5, 20, 0.3) # P(D|H1)"
   ]
  },
  {
   "cell_type": "code",
   "execution_count": 6,
   "id": "0c9ced07-2bdd-47c0-9085-d121a0b6158d",
   "metadata": {},
   "outputs": [
    {
     "data": {
      "text/plain": [
       "0.031921361119954424"
      ]
     },
     "execution_count": 6,
     "metadata": {},
     "output_type": "execute_result"
    }
   ],
   "source": [
    "binom.pmf(5, 20, 0.1) # P(D|H2)"
   ]
  },
  {
   "cell_type": "code",
   "execution_count": null,
   "id": "335603c1-eedc-473a-8a06-45b51bfcb28e",
   "metadata": {},
   "outputs": [],
   "source": []
  },
  {
   "cell_type": "code",
   "execution_count": 10,
   "id": "3e9a676a-7c29-4d8e-8069-a2e037324d9f",
   "metadata": {},
   "outputs": [
    {
     "data": {
      "text/plain": [
       "0.9097959895689501"
      ]
     },
     "execution_count": 10,
     "metadata": {},
     "output_type": "execute_result"
    }
   ],
   "source": [
    "poisson.cdf(1, 0.5) # P(X<2 | L=0.5)"
   ]
  },
  {
   "cell_type": "code",
   "execution_count": 12,
   "id": "42f62cb2-4d10-4c73-8d41-022aa1dfd28a",
   "metadata": {},
   "outputs": [
    {
     "data": {
      "text/plain": [
       "0.014387677966970713"
      ]
     },
     "execution_count": 12,
     "metadata": {},
     "output_type": "execute_result"
    }
   ],
   "source": [
    "1 - poisson.cdf(2, 0.5) # P(X>2 | L=0.5)"
   ]
  },
  {
   "cell_type": "code",
   "execution_count": 14,
   "id": "db0aa5b7-5775-4dd9-8fc8-33efe0c8d9b4",
   "metadata": {},
   "outputs": [
    {
     "data": {
      "text/plain": [
       "0.22313016014842982"
      ]
     },
     "execution_count": 14,
     "metadata": {},
     "output_type": "execute_result"
    }
   ],
   "source": [
    "poisson.cdf(0, 1.5) # P(X<=0 | L=1.5=0.5x3 weeks)"
   ]
  },
  {
   "cell_type": "code",
   "execution_count": null,
   "id": "8453c2fe-8a8a-4cbb-8439-01a3a7677460",
   "metadata": {},
   "outputs": [],
   "source": []
  },
  {
   "cell_type": "code",
   "execution_count": 26,
   "id": "557357f5-644c-4b60-aa08-7b1d47b3ecd4",
   "metadata": {},
   "outputs": [
    {
     "data": {
      "text/plain": [
       "(0.090079225719216, 0.10444486295705395, 0.02160403145248382)"
      ]
     },
     "execution_count": 26,
     "metadata": {},
     "output_type": "execute_result"
    }
   ],
   "source": [
    "poisson.pmf(7, mu=10), poisson.pmf(7, mu=5), poisson.pmf(7, mu=3) # mu=lambda"
   ]
  },
  {
   "cell_type": "code",
   "execution_count": 21,
   "id": "fd23bbbe-edc5-4b76-94c2-f8e6ea2f517f",
   "metadata": {},
   "outputs": [
    {
     "data": {
      "text/plain": [
       "0.7323103159779747"
      ]
     },
     "execution_count": 21,
     "metadata": {},
     "output_type": "execute_result"
    }
   ],
   "source": [
    "(poisson.pmf(7, 10)*0.7) / (poisson.pmf(7, 10)*0.7 + poisson.pmf(7, 5)*0.2 + poisson.pmf(7, 3)*0.1)"
   ]
  },
  {
   "cell_type": "code",
   "execution_count": null,
   "id": "fc0648b5-add5-4124-a059-ee57e46e352d",
   "metadata": {},
   "outputs": [],
   "source": []
  },
  {
   "cell_type": "code",
   "execution_count": 47,
   "id": "643c2ef6-6204-4481-bc5b-13dbd35b7d4a",
   "metadata": {},
   "outputs": [
    {
     "data": {
      "text/plain": [
       "0.6885967760854023"
      ]
     },
     "execution_count": 47,
     "metadata": {},
     "output_type": "execute_result"
    }
   ],
   "source": [
    "expon.cdf(3.5/60, scale=1/20) # P(T<3.5 | L=20)"
   ]
  },
  {
   "cell_type": "code",
   "execution_count": 48,
   "id": "d79f9219-f013-437a-8a45-303c5a5d50b2",
   "metadata": {},
   "outputs": [
    {
     "data": {
      "text/plain": [
       "0.31140322391459774"
      ]
     },
     "execution_count": 48,
     "metadata": {},
     "output_type": "execute_result"
    }
   ],
   "source": [
    "1 - expon.cdf(3.5/60, scale=1/20)  # P(T>3.5 | L=20)"
   ]
  },
  {
   "cell_type": "code",
   "execution_count": null,
   "id": "36c70102-9478-42ac-935a-f99921c74eb8",
   "metadata": {},
   "outputs": [],
   "source": []
  },
  {
   "cell_type": "code",
   "execution_count": 54,
   "id": "7d4bb999-a2fe-4b7e-a217-53b40b5f7123",
   "metadata": {},
   "outputs": [
    {
     "data": {
      "text/plain": [
       "0.8997274320455579"
      ]
     },
     "execution_count": 54,
     "metadata": {},
     "output_type": "execute_result"
    }
   ],
   "source": [
    "norm.cdf(1.28, 0,1)"
   ]
  },
  {
   "cell_type": "code",
   "execution_count": 55,
   "id": "0028dfb6-b972-4e9b-9301-372ec65eb731",
   "metadata": {},
   "outputs": [
    {
     "data": {
      "text/plain": [
       "1.2815515655446004"
      ]
     },
     "execution_count": 55,
     "metadata": {},
     "output_type": "execute_result"
    }
   ],
   "source": [
    "norm.ppf(0.9, 0,1)"
   ]
  },
  {
   "cell_type": "code",
   "execution_count": 56,
   "id": "f35d7cec-b5f9-4328-a00c-8600bcc9c779",
   "metadata": {},
   "outputs": [
    {
     "data": {
      "text/plain": [
       "0.4120704478709426"
      ]
     },
     "execution_count": 56,
     "metadata": {},
     "output_type": "execute_result"
    }
   ],
   "source": [
    "1 - norm.cdf(6, 4,9)"
   ]
  },
  {
   "cell_type": "code",
   "execution_count": 63,
   "id": "0f48f6b7-ecc4-481a-85d5-1005ab4cdbe6",
   "metadata": {},
   "outputs": [
    {
     "data": {
      "text/plain": [
       "0.6666666666666666"
      ]
     },
     "execution_count": 63,
     "metadata": {},
     "output_type": "execute_result"
    }
   ],
   "source": [
    "((6-4)/3)"
   ]
  },
  {
   "cell_type": "code",
   "execution_count": 64,
   "id": "51d7138e-6cbb-4fc6-a655-9d0ae954d469",
   "metadata": {},
   "outputs": [
    {
     "data": {
      "text/plain": [
       "0.2514288950953101"
      ]
     },
     "execution_count": 64,
     "metadata": {},
     "output_type": "execute_result"
    }
   ],
   "source": [
    "1 - norm.cdf(0.67, 0,1)"
   ]
  },
  {
   "cell_type": "code",
   "execution_count": 71,
   "id": "1107106a-7129-4b4a-b850-c28bc5417350",
   "metadata": {},
   "outputs": [
    {
     "data": {
      "text/plain": [
       "0.8413447460685429"
      ]
     },
     "execution_count": 71,
     "metadata": {},
     "output_type": "execute_result"
    }
   ],
   "source": [
    "norm.cdf(((7-4)/3), 0,1) # P(X<7)  => a=1"
   ]
  },
  {
   "cell_type": "code",
   "execution_count": 72,
   "id": "651880d8-cdb5-4aa9-9499-b9edaf9d1641",
   "metadata": {},
   "outputs": [
    {
     "data": {
      "text/plain": [
       "0.8413447460685429"
      ]
     },
     "execution_count": 72,
     "metadata": {},
     "output_type": "execute_result"
    }
   ],
   "source": [
    "1- norm.cdf(((1-4)/3), 0,1) # P(X>1)  => a=-1"
   ]
  },
  {
   "cell_type": "code",
   "execution_count": null,
   "id": "87705771-f9d2-4b4a-9f6e-26816085469a",
   "metadata": {},
   "outputs": [],
   "source": []
  }
 ],
 "metadata": {
  "kernelspec": {
   "display_name": "Python 3 (ipykernel)",
   "language": "python",
   "name": "python3"
  },
  "language_info": {
   "codemirror_mode": {
    "name": "ipython",
    "version": 3
   },
   "file_extension": ".py",
   "mimetype": "text/x-python",
   "name": "python",
   "nbconvert_exporter": "python",
   "pygments_lexer": "ipython3",
   "version": "3.9.13"
  }
 },
 "nbformat": 4,
 "nbformat_minor": 5
}

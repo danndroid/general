{
 "cells": [
  {
   "cell_type": "code",
   "execution_count": 3,
   "id": "b4310da6-6716-4c5e-a15b-65c7d1e25635",
   "metadata": {},
   "outputs": [],
   "source": [
    "import numpy as np\n",
    "from scipy.stats import binom, poisson, expon, beta, uniform\n",
    "from scipy.special import binom as binomCof\n",
    "from scipy import optimize\n",
    "import matplotlib.pyplot as plt\n",
    "import seaborn as sns\n",
    "\n",
    "from scipy.optimize import minimize, minimize_scalar"
   ]
  },
  {
   "cell_type": "code",
   "execution_count": 2,
   "id": "bed49e89-a395-4083-b73e-e756cc33cb59",
   "metadata": {},
   "outputs": [
    {
     "name": "stdout",
     "output_type": "stream",
     "text": [
      "The autoreload extension is already loaded. To reload it, use:\n",
      "  %reload_ext autoreload\n"
     ]
    }
   ],
   "source": [
    "%load_ext autoreload\n",
    "%autoreload 2\n",
    "from libs.tree import Node"
   ]
  },
  {
   "cell_type": "code",
   "execution_count": 55,
   "id": "cdf093d5-0917-4489-91c2-8c35b94e4aad",
   "metadata": {},
   "outputs": [],
   "source": [
    "def utility(x, R):\n",
    "    u = 1 - np.exp(-x/R)\n",
    "    \n",
    "    return u"
   ]
  },
  {
   "cell_type": "code",
   "execution_count": 56,
   "id": "c8c1614d-ee51-4115-83ae-989b0dc8a13c",
   "metadata": {},
   "outputs": [
    {
     "data": {
      "text/plain": [
       "array([   0,  100,  200,  300,  400,  500,  600,  700,  800,  900, 1000])"
      ]
     },
     "execution_count": 56,
     "metadata": {},
     "output_type": "execute_result"
    }
   ],
   "source": [
    "x = np.arange(0,1100, 100)\n",
    "x"
   ]
  },
  {
   "cell_type": "code",
   "execution_count": 57,
   "id": "847492a2-51e5-43b9-9d36-f6cae90786eb",
   "metadata": {},
   "outputs": [
    {
     "data": {
      "text/plain": [
       "array([0.        , 0.07932173, 0.15235152, 0.21958846, 0.28149205,\n",
       "       0.33848534, 0.39095783, 0.43926811, 0.48374633, 0.52469646,\n",
       "       0.56239836])"
      ]
     },
     "execution_count": 57,
     "metadata": {},
     "output_type": "execute_result"
    }
   ],
   "source": [
    "y = utility(x, 1210)\n",
    "y"
   ]
  },
  {
   "cell_type": "code",
   "execution_count": 58,
   "id": "b0838ae2-2e5f-4622-b269-b95635f29c91",
   "metadata": {},
   "outputs": [
    {
     "data": {
      "image/png": "[encoded data removed]",
      "text/plain": [
       "<Figure size 936x504 with 1 Axes>"
      ]
     },
     "metadata": {
      "needs_background": "light"
     },
     "output_type": "display_data"
    }
   ],
   "source": [
    "fig , ax = plt.subplots(1,1, figsize=(13,7))\n",
    "\n",
    "plt.suptitle('Hit and Flop Probabilities', fontsize=20)\n",
    "sns.lineplot(x=x, y=y, color='gray', \n",
    "             marker='o', markersize=10, markerfacecolor='red')\n",
    "ax.tick_params(axis='x', rotation=45)\n",
    "ax.set_xlabel('x', fontsize=15)\n",
    "ax.set_ylabel('U(x)', fontsize=15)\n",
    "\n",
    "#plt.legend()\n",
    "plt.show()"
   ]
  },
  {
   "cell_type": "code",
   "execution_count": 59,
   "id": "c60068d7-10d9-4e5b-89c1-c23e21bab80a",
   "metadata": {},
   "outputs": [
    {
     "name": "stdout",
     "output_type": "stream",
     "text": [
      "U(1000) = 0.56\n",
      "U(800) = 0.48\n",
      "U(0) = 0.0\n",
      "U(-1250) = -1.81\n"
     ]
    }
   ],
   "source": [
    "x = np.array([1000, 800, 0,-1250])\n",
    "for i in x: \n",
    "    y = utility(i, 1210)\n",
    "    print(f'U({i}) = {np.round(y,2)}')"
   ]
  },
  {
   "cell_type": "code",
   "execution_count": 60,
   "id": "5bf29ccd-2bd8-4536-ba86-7551654f5473",
   "metadata": {},
   "outputs": [
    {
     "data": {
      "text/plain": [
       "1.0"
      ]
     },
     "execution_count": 60,
     "metadata": {},
     "output_type": "execute_result"
    }
   ],
   "source": [
    "probs = np.array([0.33, 0.21, 0.33, 0.13])\n",
    "np.sum(probs)"
   ]
  },
  {
   "cell_type": "code",
   "execution_count": 61,
   "id": "bdd12dec-c5f2-47b7-a39b-588098648169",
   "metadata": {},
   "outputs": [
    {
     "data": {
      "text/plain": [
       "335.5"
      ]
     },
     "execution_count": 61,
     "metadata": {},
     "output_type": "execute_result"
    }
   ],
   "source": [
    "np.dot(probs, x)"
   ]
  },
  {
   "cell_type": "code",
   "execution_count": 62,
   "id": "50a200f0-b749-471f-841c-6c0836c1c84e",
   "metadata": {},
   "outputs": [
    {
     "data": {
      "text/plain": [
       "0.051924443892442496"
      ]
     },
     "execution_count": 62,
     "metadata": {},
     "output_type": "execute_result"
    }
   ],
   "source": [
    "np.dot(probs, utility(x, 1210))"
   ]
  },
  {
   "cell_type": "markdown",
   "id": "f23b6396-e947-43b1-93b2-34724e15be8b",
   "metadata": {},
   "source": [
    "### BOOK TEST"
   ]
  },
  {
   "cell_type": "code",
   "execution_count": 63,
   "id": "6c1384fe-08f6-4bf7-b096-f7576dc5cfb8",
   "metadata": {},
   "outputs": [],
   "source": [
    "R = 900\n",
    "\n",
    "x = np.array([2000, 1000, 500])\n",
    "probs = [0.4, 0.4, 0.2]"
   ]
  },
  {
   "cell_type": "code",
   "execution_count": 64,
   "id": "9fcbe6f0-b4da-4842-bb72-6152727cb18d",
   "metadata": {},
   "outputs": [
    {
     "data": {
      "text/plain": [
       "0.7102249114405929"
      ]
     },
     "execution_count": 64,
     "metadata": {},
     "output_type": "execute_result"
    }
   ],
   "source": [
    "eu = np.dot(probs, utility(x, R))\n",
    "eu"
   ]
  },
  {
   "cell_type": "code",
   "execution_count": 65,
   "id": "526ab606-aef0-40de-a866-cb41357e45f4",
   "metadata": {},
   "outputs": [],
   "source": [
    "def objective_function_test(x):\n",
    "    #(a, b) = v\n",
    "    loss  = np.square(1-np.exp(-x/900) - eu) \n",
    "        \n",
    "    return loss"
   ]
  },
  {
   "cell_type": "code",
   "execution_count": 66,
   "id": "3e58315e-df03-4590-861c-3cc125372f27",
   "metadata": {},
   "outputs": [
    {
     "data": {
      "text/plain": [
       "      fun: 7.961844112347834e-06\n",
       " hess_inv: array([[3610064.08954577]])\n",
       "      jac: array([-1.83468683e-06])\n",
       "  message: 'Optimization terminated successfully.'\n",
       "     nfev: 32\n",
       "      nit: 7\n",
       "     njev: 16\n",
       "   status: 0\n",
       "  success: True\n",
       "        x: array([1106.06386939])"
      ]
     },
     "execution_count": 66,
     "metadata": {},
     "output_type": "execute_result"
    }
   ],
   "source": [
    "res = minimize(objective_function_test, x0 = 0.5)\n",
    "res"
   ]
  },
  {
   "cell_type": "code",
   "execution_count": 68,
   "id": "2c902890-7e73-4c95-a90e-acf24a51c21a",
   "metadata": {},
   "outputs": [
    {
     "data": {
      "text/plain": [
       "1300.0"
      ]
     },
     "execution_count": 68,
     "metadata": {},
     "output_type": "execute_result"
    }
   ],
   "source": [
    "mu = np.dot(probs, x)\n",
    "mu"
   ]
  },
  {
   "cell_type": "code",
   "execution_count": 69,
   "id": "31774296-eb17-4e60-aafe-512ce5b24876",
   "metadata": {},
   "outputs": [
    {
     "data": {
      "text/plain": [
       "(360000.0, 600.0, 360000.0)"
      ]
     },
     "execution_count": 69,
     "metadata": {},
     "output_type": "execute_result"
    }
   ],
   "source": [
    "var = np.dot(probs, np.square(x-mu))\n",
    "var, np.sqrt(var), np.square(np.sqrt(var))"
   ]
  },
  {
   "cell_type": "code",
   "execution_count": 70,
   "id": "8d77315c-f6bd-48dc-9bf9-e26b1c0d30c0",
   "metadata": {},
   "outputs": [
    {
     "data": {
      "text/plain": [
       "1100.0"
      ]
     },
     "execution_count": 70,
     "metadata": {},
     "output_type": "execute_result"
    }
   ],
   "source": [
    "ce = mu - (0.5*var / R)\n",
    "ce"
   ]
  },
  {
   "cell_type": "markdown",
   "id": "13e99ab8-b9fa-408a-92cf-906ba2a852b9",
   "metadata": {},
   "source": [
    "### HW"
   ]
  },
  {
   "cell_type": "code",
   "execution_count": 71,
   "id": "d9380f95-4e5a-43e4-bbff-bd435810b699",
   "metadata": {},
   "outputs": [],
   "source": [
    "R = 1210\n",
    "\n",
    "x = np.array([1000, 800, 0, -1250])\n",
    "probs = [0.33,0.21, 0.33, 0.13]"
   ]
  },
  {
   "cell_type": "code",
   "execution_count": 72,
   "id": "1efac263-be95-4dde-84ed-a2af158dd1df",
   "metadata": {},
   "outputs": [
    {
     "data": {
      "text/plain": [
       "0.051924443892442496"
      ]
     },
     "execution_count": 72,
     "metadata": {},
     "output_type": "execute_result"
    }
   ],
   "source": [
    "eu = np.dot(probs, utility(x, R))\n",
    "eu"
   ]
  },
  {
   "cell_type": "code",
   "execution_count": 73,
   "id": "3467cd6b-84df-4f3f-bda3-2397ad279044",
   "metadata": {},
   "outputs": [],
   "source": [
    "def objective_function(x):\n",
    "    #(a, b) = v\n",
    "    loss  = np.square(1-np.exp(-x/1210) - eu) \n",
    "        \n",
    "    return loss"
   ]
  },
  {
   "cell_type": "code",
   "execution_count": 74,
   "id": "58fe2fe1-660c-4079-bc65-7f31aaa44860",
   "metadata": {},
   "outputs": [
    {
     "data": {
      "text/plain": [
       "      fun: 4.434209616453271e-06\n",
       " hess_inv: array([[723177.48705305]])\n",
       "      jac: array([-3.30720098e-06])\n",
       "  message: 'Optimization terminated successfully.'\n",
       "     nfev: 24\n",
       "      nit: 3\n",
       "     njev: 12\n",
       "   status: 0\n",
       "  success: True\n",
       "        x: array([61.83397349])"
      ]
     },
     "execution_count": 74,
     "metadata": {},
     "output_type": "execute_result"
    }
   ],
   "source": [
    "res = minimize(objective_function, x0 = 0.5)\n",
    "res"
   ]
  },
  {
   "cell_type": "code",
   "execution_count": 75,
   "id": "d40ef51e-632c-4b4e-a312-6c59595c85cd",
   "metadata": {},
   "outputs": [
    {
     "data": {
      "text/plain": [
       "335.5"
      ]
     },
     "execution_count": 75,
     "metadata": {},
     "output_type": "execute_result"
    }
   ],
   "source": [
    "mu = np.dot(probs, x)\n",
    "mu"
   ]
  },
  {
   "cell_type": "code",
   "execution_count": 76,
   "id": "92a12c58-bf2d-4c19-aec5-14325d994357",
   "metadata": {},
   "outputs": [
    {
     "data": {
      "text/plain": [
       "273.6666"
      ]
     },
     "execution_count": 76,
     "metadata": {},
     "output_type": "execute_result"
    }
   ],
   "source": [
    "premium = mu - 61.8334\n",
    "premium"
   ]
  },
  {
   "cell_type": "code",
   "execution_count": 77,
   "id": "8d78328e-024c-4ca8-a0f3-9728ad727ca5",
   "metadata": {},
   "outputs": [
    {
     "data": {
      "text/plain": [
       "(554964.75, 744.9595626609541, 554964.75)"
      ]
     },
     "execution_count": 77,
     "metadata": {},
     "output_type": "execute_result"
    }
   ],
   "source": [
    "var = np.dot(probs, np.square(x-mu))\n",
    "var, np.sqrt(var), np.square(np.sqrt(var))"
   ]
  },
  {
   "cell_type": "code",
   "execution_count": 78,
   "id": "88c07635-d8eb-447e-978b-01c80133d4f8",
   "metadata": {},
   "outputs": [
    {
     "data": {
      "text/plain": [
       "106.17572314049588"
      ]
     },
     "execution_count": 78,
     "metadata": {},
     "output_type": "execute_result"
    }
   ],
   "source": [
    "ce = mu - (0.5*var / R)\n",
    "ce"
   ]
  },
  {
   "cell_type": "code",
   "execution_count": 79,
   "id": "839c063f-7410-433b-a22c-5c45766d9d13",
   "metadata": {},
   "outputs": [
    {
     "data": {
      "text/plain": [
       "2362.809917355372"
      ]
     },
     "execution_count": 79,
     "metadata": {},
     "output_type": "execute_result"
    }
   ],
   "source": [
    "ce = 2400 - (0.5*np.square(300) / R)\n",
    "ce"
   ]
  },
  {
   "cell_type": "markdown",
   "id": "29afe6a8-4aa4-4930-a362-294c92adf1bd",
   "metadata": {
    "jp-MarkdownHeadingCollapsed": true,
    "tags": []
   },
   "source": [
    "## P2"
   ]
  },
  {
   "cell_type": "code",
   "execution_count": 80,
   "id": "b77438df-b806-4e96-8052-f10ce141ee5d",
   "metadata": {},
   "outputs": [],
   "source": [
    "x = [0,2,3,5,10.3]\n",
    "d1 = [1,2.6,2.8,2.9,3]\n",
    "d2 = [0,8,15,30,100]\n",
    "d3 = [6,13,16.5,23.5,42.05]"
   ]
  },
  {
   "cell_type": "code",
   "execution_count": 82,
   "id": "c3bc35b5-2ac1-47e6-be10-39e132b23259",
   "metadata": {},
   "outputs": [
    {
     "data": {
      "image/png": "[encoded data removed]",
      "text/plain": [
       "<Figure size 1224x360 with 3 Axes>"
      ]
     },
     "metadata": {
      "needs_background": "light"
     },
     "output_type": "display_data"
    }
   ],
   "source": [
    "fig , axes = plt.subplots(1,3, figsize=(17,5))\n",
    "\n",
    "#plt.suptitle('Utility functions pero Director', fontsize=20)\n",
    "ax = axes[0]\n",
    "ax.set_title('Director A', fontsize=15)\n",
    "sns.lineplot(x=x, y=d1, color='gray', \n",
    "             marker='o', markersize=10, markerfacecolor='red', ax=ax)\n",
    "#ax.tick_params(axis='x', rotation=45)\n",
    "ax.set_xlabel('X', fontsize=15)\n",
    "ax.set_ylabel('$U_A(x)$', fontsize=15)\n",
    "\n",
    "ax = axes[1]\n",
    "ax.set_title('Director B', fontsize=15)\n",
    "sns.lineplot(x=x, y=d2, color='gray', \n",
    "             marker='o', markersize=10, markerfacecolor='red', ax=ax)\n",
    "#ax.tick_params(axis='x', rotation=45)\n",
    "ax.set_xlabel('X', fontsize=15)\n",
    "ax.set_ylabel('$U_B(x)$', fontsize=15)\n",
    "\n",
    "ax = axes[2]\n",
    "ax.set_title('Director C', fontsize=15)\n",
    "sns.lineplot(x=x, y=d3, color='gray', \n",
    "             marker='o', markersize=10, markerfacecolor='red', ax=ax)\n",
    "#ax.tick_params(axis='x', rotation=45)\n",
    "ax.set_xlabel('X', fontsize=15)\n",
    "ax.set_ylabel('$U_C(x)$', fontsize=15)\n",
    "\n",
    "#plt.legend()\n",
    "plt.show()"
   ]
  },
  {
   "cell_type": "markdown",
   "id": "df8a45ba-69f7-495b-8ba1-6ec75d8f9683",
   "metadata": {
    "tags": []
   },
   "source": [
    "### TEXACO"
   ]
  },
  {
   "cell_type": "code",
   "execution_count": 38,
   "id": "ca8e36a0-4d1d-4473-9051-f24073d4d62b",
   "metadata": {},
   "outputs": [],
   "source": [
    "t3 = [\n",
    "['T', 10.3],\n",
    "['T', 5],\n",
    "['T', 0],\n",
    "]\n",
    "\n",
    "ta = ['T', 2]\n",
    "tb = ['T', 5]\n",
    "tc = ['T', 3]"
   ]
  },
  {
   "cell_type": "code",
   "execution_count": 39,
   "id": "1525b694-694a-468c-9959-31053de5cb65",
   "metadata": {},
   "outputs": [],
   "source": [
    "c1 = ['C', [.17, .5, .33]]\n",
    "\n",
    "c2 = ['C', [.2, .5, .3]]\n",
    "c3 = ['C', [.2, .5, .3]]"
   ]
  },
  {
   "cell_type": "code",
   "execution_count": 40,
   "id": "eb6cd216-2a45-4950-9dbc-d3fb323c5143",
   "metadata": {},
   "outputs": [],
   "source": [
    "C1 = Node(*c1)\n",
    "\n",
    "\n",
    "C2 = Node(*c2)\n",
    "C3 = Node(*c3)\n",
    "for i in t3:\n",
    "    n = Node(*i)\n",
    "    C2.children.append(n)\n",
    "    C3.children.append(n)\n",
    "\n",
    "\n",
    "D2 = Node(*['D', 0])\n",
    "D2.children.append(C3)\n",
    "D2.children.append(Node(*tc))\n",
    "\n",
    "\n",
    "C1.children.append(Node(*tb))\n",
    "C1.children.append(C2)\n",
    "C1.children.append(D2)\n",
    "\n",
    "D1 = Node(*['D',0])\n",
    "D1.children.append(Node(*ta))\n",
    "D1.children.append(C1)"
   ]
  },
  {
   "cell_type": "code",
   "execution_count": 41,
   "id": "6f553294-2e27-4832-8e73-cd3ce4981b30",
   "metadata": {},
   "outputs": [
    {
     "name": "stdout",
     "output_type": "stream",
     "text": [
      "    TYPE C\n",
      "    TYPE T\n",
      "    val 2\n",
      "    TYPE C\n",
      "        TYPE T\n",
      "        val 5\n",
      "        TYPE C\n",
      "        TYPE T\n",
      "        val 10.3\n",
      "        TYPE T\n",
      "        val 5\n",
      "        TYPE T\n",
      "        val 0\n",
      "        VALUE >>> 4.5600000000000005\n",
      "        TYPE C\n",
      "    TYPE C\n",
      "            TYPE T\n",
      "            val 10.3\n",
      "            TYPE T\n",
      "            val 5\n",
      "            TYPE T\n",
      "            val 0\n",
      "    VALUE >>> 4.5600000000000005\n",
      "    TYPE T\n",
      "    val 3\n",
      "        VALUE >>> 4.5600000000000005\n",
      "    VALUE >>> 4.6348\n",
      "    VALUE >>> 4.6348\n"
     ]
    },
    {
     "data": {
      "text/plain": [
       "4.6348"
      ]
     },
     "execution_count": 41,
     "metadata": {},
     "output_type": "execute_result"
    }
   ],
   "source": [
    "D1.compute()"
   ]
  },
  {
   "cell_type": "markdown",
   "id": "ea53a95a-0b8c-4942-a2e1-a8d3ddcb50c0",
   "metadata": {
    "jp-MarkdownHeadingCollapsed": true,
    "tags": []
   },
   "source": [
    "### Liedtke"
   ]
  },
  {
   "cell_type": "code",
   "execution_count": 48,
   "id": "5f15f8bb-6da1-47b8-b6e7-a96800ab3c38",
   "metadata": {},
   "outputs": [],
   "source": [
    "t3 = [\n",
    "['T', 1],\n",
    "['T', 0.75],\n",
    "['T', 0],\n",
    "]\n",
    "\n",
    "ta = ['T', 0.45]\n",
    "tb = ['T', 0.75]\n",
    "tc = ['T', 0.60]\n",
    "\n",
    "C2 = Node(*c2)\n",
    "C3 = Node(*c3)\n",
    "for i in t3:\n",
    "    n = Node(*i)\n",
    "    C2.children.append(n)\n",
    "    C3.children.append(n)\n",
    "\n",
    "\n",
    "D2 = Node(*['D', 0])\n",
    "D2.children.append(C3)\n",
    "D2.children.append(Node(*tc))\n",
    "\n",
    "C1 = Node(*c1)\n",
    "C1.children.append(Node(*tb))\n",
    "C1.children.append(C2)\n",
    "C1.children.append(D2)\n",
    "\n",
    "D1 = Node(*['D',0])\n",
    "D1.children.append(Node(*ta))\n",
    "D1.children.append(C1)"
   ]
  },
  {
   "cell_type": "code",
   "execution_count": 49,
   "id": "df14735f-0d1e-47ad-bca3-603ff2c8a8d6",
   "metadata": {},
   "outputs": [
    {
     "name": "stdout",
     "output_type": "stream",
     "text": [
      "    TYPE C\n",
      "    TYPE T\n",
      "    val 0.45\n",
      "    TYPE C\n",
      "        TYPE T\n",
      "        val 0.75\n",
      "        TYPE C\n",
      "        TYPE T\n",
      "        val 1\n",
      "        TYPE T\n",
      "        val 0.75\n",
      "        TYPE T\n",
      "        val 0\n",
      "        VALUE >>> 0.575\n",
      "        TYPE C\n",
      "    TYPE C\n",
      "            TYPE T\n",
      "            val 1\n",
      "            TYPE T\n",
      "            val 0.75\n",
      "            TYPE T\n",
      "            val 0\n",
      "    VALUE >>> 0.575\n",
      "    TYPE T\n",
      "    val 0.6\n",
      "        VALUE >>> 0.6\n",
      "    VALUE >>> 0.613\n",
      "    VALUE >>> 0.613\n"
     ]
    },
    {
     "data": {
      "text/plain": [
       "0.613"
      ]
     },
     "execution_count": 49,
     "metadata": {},
     "output_type": "execute_result"
    }
   ],
   "source": [
    "D1.compute()"
   ]
  },
  {
   "cell_type": "markdown",
   "id": "7e0e1d05-f77e-426d-80e1-841709d359d9",
   "metadata": {
    "jp-MarkdownHeadingCollapsed": true,
    "tags": []
   },
   "source": [
    "### Director 1"
   ]
  },
  {
   "cell_type": "code",
   "execution_count": 83,
   "id": "920f1994-6789-4985-b663-2de63b82f61c",
   "metadata": {},
   "outputs": [],
   "source": [
    "t3 = [\n",
    "['T', 3], # 10.3\n",
    "['T', 2.9], # 5\n",
    "['T', 1], # 0\n",
    "]\n",
    "\n",
    "ta = ['T', 2.6] # 2\n",
    "tb = ['T', 2.9] # 5\n",
    "tc = ['T', 2.8] # 3\n",
    "\n",
    "C2 = Node(*c2)\n",
    "C3 = Node(*c3)\n",
    "for i in t3:\n",
    "    n = Node(*i)\n",
    "    C2.children.append(n)\n",
    "    C3.children.append(n)\n",
    "\n",
    "\n",
    "D2 = Node(*['D', 0])\n",
    "D2.children.append(C3)\n",
    "D2.children.append(Node(*tc))\n",
    "\n",
    "C1 = Node(*c1)\n",
    "C1.children.append(Node(*tb))\n",
    "C1.children.append(C2)\n",
    "C1.children.append(D2)\n",
    "\n",
    "D1 = Node(*['D',0])\n",
    "D1.children.append(Node(*ta))\n",
    "D1.children.append(C1)"
   ]
  },
  {
   "cell_type": "code",
   "execution_count": 84,
   "id": "0adff4cf-ecae-4857-8606-fe1ffe9fbb97",
   "metadata": {},
   "outputs": [
    {
     "name": "stdout",
     "output_type": "stream",
     "text": [
      "    TYPE C\n",
      "    TYPE T\n",
      "    val 2.6\n",
      "    TYPE C\n",
      "        TYPE T\n",
      "        val 2.9\n",
      "        TYPE C\n",
      "        TYPE T\n",
      "        val 3\n",
      "        TYPE T\n",
      "        val 2.9\n",
      "        TYPE T\n",
      "        val 1\n",
      "        VALUE >>> 2.3499999999999996\n",
      "        TYPE C\n",
      "    TYPE C\n",
      "            TYPE T\n",
      "            val 3\n",
      "            TYPE T\n",
      "            val 2.9\n",
      "            TYPE T\n",
      "            val 1\n",
      "    VALUE >>> 2.3499999999999996\n",
      "    TYPE T\n",
      "    val 2.8\n",
      "        VALUE >>> 2.8\n",
      "    VALUE >>> 2.5919999999999996\n",
      "    VALUE >>> 2.6\n"
     ]
    },
    {
     "data": {
      "text/plain": [
       "2.6"
      ]
     },
     "execution_count": 84,
     "metadata": {},
     "output_type": "execute_result"
    }
   ],
   "source": [
    "D1.compute()"
   ]
  },
  {
   "cell_type": "markdown",
   "id": "2fcc46f3-2240-4f29-807f-0b54f1666bca",
   "metadata": {
    "jp-MarkdownHeadingCollapsed": true,
    "tags": []
   },
   "source": [
    "### Director 2"
   ]
  },
  {
   "cell_type": "code",
   "execution_count": 50,
   "id": "8fffd365-6af7-4d26-a2d6-ac747dbcc9b5",
   "metadata": {},
   "outputs": [],
   "source": [
    "t3 = [\n",
    "['T', 100], # 10.3\n",
    "['T', 30], # 5\n",
    "['T', 0], # 0\n",
    "]\n",
    "\n",
    "ta = ['T', 8] # 2\n",
    "tb = ['T', 30] # 5\n",
    "tc = ['T', 15] # 3\n",
    "\n",
    "C2 = Node(*c2)\n",
    "C3 = Node(*c3)\n",
    "for i in t3:\n",
    "    n = Node(*i)\n",
    "    C2.children.append(n)\n",
    "    C3.children.append(n)\n",
    "\n",
    "\n",
    "D2 = Node(*['D', 0])\n",
    "D2.children.append(C3)\n",
    "D2.children.append(Node(*tc))\n",
    "\n",
    "C1 = Node(*c1)\n",
    "C1.children.append(Node(*tb))\n",
    "C1.children.append(C2)\n",
    "C1.children.append(D2)\n",
    "\n",
    "D1 = Node(*['D',0])\n",
    "D1.children.append(Node(*ta))\n",
    "D1.children.append(C1)"
   ]
  },
  {
   "cell_type": "code",
   "execution_count": 51,
   "id": "dc815713-c74a-4104-a6bd-d589a65bf3be",
   "metadata": {},
   "outputs": [
    {
     "name": "stdout",
     "output_type": "stream",
     "text": [
      "    TYPE C\n",
      "    TYPE T\n",
      "    val 8\n",
      "    TYPE C\n",
      "        TYPE T\n",
      "        val 30\n",
      "        TYPE C\n",
      "        TYPE T\n",
      "        val 100\n",
      "        TYPE T\n",
      "        val 30\n",
      "        TYPE T\n",
      "        val 0\n",
      "        VALUE >>> 35.0\n",
      "        TYPE C\n",
      "    TYPE C\n",
      "            TYPE T\n",
      "            val 100\n",
      "            TYPE T\n",
      "            val 30\n",
      "            TYPE T\n",
      "            val 0\n",
      "    VALUE >>> 35.0\n",
      "    TYPE T\n",
      "    val 15\n",
      "        VALUE >>> 35.0\n",
      "    VALUE >>> 34.150000000000006\n",
      "    VALUE >>> 34.150000000000006\n"
     ]
    },
    {
     "data": {
      "text/plain": [
       "34.150000000000006"
      ]
     },
     "execution_count": 51,
     "metadata": {},
     "output_type": "execute_result"
    }
   ],
   "source": [
    "D1.compute()"
   ]
  },
  {
   "cell_type": "markdown",
   "id": "de04665f-e2d3-40f0-b765-1e2d2ba37f7f",
   "metadata": {},
   "source": [
    "### Director 3"
   ]
  },
  {
   "cell_type": "code",
   "execution_count": 52,
   "id": "1649887f-98d1-4033-bf1a-a9299d8fc67f",
   "metadata": {},
   "outputs": [],
   "source": [
    "t3 = [\n",
    "['T', 42.05], # 10.3\n",
    "['T', 23.5], # 5\n",
    "['T', 6], # 0\n",
    "]\n",
    "\n",
    "ta = ['T', 13] # 2\n",
    "tb = ['T', 23.5] # 5\n",
    "tc = ['T', 16.5] # 3\n",
    "\n",
    "C2 = Node(*c2)\n",
    "C3 = Node(*c3)\n",
    "for i in t3:\n",
    "    n = Node(*i)\n",
    "    C2.children.append(n)\n",
    "    C3.children.append(n)\n",
    "\n",
    "\n",
    "D2 = Node(*['D', 0])\n",
    "D2.children.append(C3)\n",
    "D2.children.append(Node(*tc))\n",
    "\n",
    "C1 = Node(*c1)\n",
    "C1.children.append(Node(*tb))\n",
    "C1.children.append(C2)\n",
    "C1.children.append(D2)\n",
    "\n",
    "D1 = Node(*['D',0])\n",
    "D1.children.append(Node(*ta))\n",
    "D1.children.append(C1)"
   ]
  },
  {
   "cell_type": "code",
   "execution_count": 53,
   "id": "c8caa8d1-14ef-41a9-ab35-0ee9c55a00cb",
   "metadata": {},
   "outputs": [
    {
     "name": "stdout",
     "output_type": "stream",
     "text": [
      "    TYPE C\n",
      "    TYPE T\n",
      "    val 13\n",
      "    TYPE C\n",
      "        TYPE T\n",
      "        val 23.5\n",
      "        TYPE C\n",
      "        TYPE T\n",
      "        val 42.05\n",
      "        TYPE T\n",
      "        val 23.5\n",
      "        TYPE T\n",
      "        val 6\n",
      "        VALUE >>> 21.96\n",
      "        TYPE C\n",
      "    TYPE C\n",
      "            TYPE T\n",
      "            val 42.05\n",
      "            TYPE T\n",
      "            val 23.5\n",
      "            TYPE T\n",
      "            val 6\n",
      "    VALUE >>> 21.96\n",
      "    TYPE T\n",
      "    val 16.5\n",
      "        VALUE >>> 21.96\n",
      "    VALUE >>> 22.2218\n",
      "    VALUE >>> 22.2218\n"
     ]
    },
    {
     "data": {
      "text/plain": [
       "22.2218"
      ]
     },
     "execution_count": 53,
     "metadata": {},
     "output_type": "execute_result"
    }
   ],
   "source": [
    "D1.compute()"
   ]
  },
  {
   "cell_type": "markdown",
   "id": "3ad46ced-92a9-49bb-9fce-ecd886d91885",
   "metadata": {},
   "source": [
    "## P4"
   ]
  },
  {
   "cell_type": "code",
   "execution_count": 91,
   "id": "687bfd96-2b47-495a-af5f-d2ce806187e8",
   "metadata": {},
   "outputs": [
    {
     "name": "stdout",
     "output_type": "stream",
     "text": [
      "EU(l1): 8.415111382640083\n",
      "EU(l2): 8.592436301674347\n"
     ]
    }
   ],
   "source": [
    "asset = 2500\n",
    "\n",
    "l1 = 0.2*np.log(asset + 10000) + 0.8*np.log(asset + 1000)\n",
    "print(f'EU(l1): {l1}')\n",
    "l2 = 0.9*np.log(asset + 3000) + 0.1*np.log(asset + 2000)\n",
    "print(f'EU(l2): {l2}')"
   ]
  },
  {
   "cell_type": "code",
   "execution_count": 92,
   "id": "f6d75f11-6f29-4428-a211-b2f0241fc456",
   "metadata": {},
   "outputs": [
    {
     "name": "stdout",
     "output_type": "stream",
     "text": [
      "EU(l1): 8.882772894585024\n",
      "EU(l2): 8.97384368139952\n"
     ]
    }
   ],
   "source": [
    "asset = 5000\n",
    "\n",
    "l1 = 0.2*np.log(asset + 10000) + 0.8*np.log(asset + 1000)\n",
    "print(f'EU(l1): {l1}')\n",
    "l2 = 0.9*np.log(asset + 3000) + 0.1*np.log(asset + 2000)\n",
    "print(f'EU(l2): {l2}')"
   ]
  },
  {
   "cell_type": "code",
   "execution_count": 93,
   "id": "aa027629-0eb2-4c51-93ca-838b47870637",
   "metadata": {},
   "outputs": [
    {
     "name": "stdout",
     "output_type": "stream",
     "text": [
      "EU(l1): 9.425217951931632\n",
      "EU(l2): 9.46470036567632\n"
     ]
    }
   ],
   "source": [
    "asset = 10000\n",
    "\n",
    "l1 = 0.2*np.log(asset + 10000) + 0.8*np.log(asset + 1000)\n",
    "print(f'EU(l1): {l1}')\n",
    "l2 = 0.9*np.log(asset + 3000) + 0.1*np.log(asset + 2000)\n",
    "print(f'EU(l2): {l2}')"
   ]
  },
  {
   "cell_type": "code",
   "execution_count": 100,
   "id": "dbd36761-220b-4ff8-a2c2-c397a43e0cc4",
   "metadata": {},
   "outputs": [],
   "source": [
    "x = np.arange(1, 10000, 1000)\n",
    "y = np.log(x)"
   ]
  },
  {
   "cell_type": "code",
   "execution_count": 101,
   "id": "18282b8f-5443-4c22-aaef-a6a96a00760e",
   "metadata": {},
   "outputs": [
    {
     "data": {
      "image/png": "[encoded data removed]",
      "text/plain": [
       "<Figure size 936x504 with 1 Axes>"
      ]
     },
     "metadata": {
      "needs_background": "light"
     },
     "output_type": "display_data"
    }
   ],
   "source": [
    "fig , ax = plt.subplots(1,1, figsize=(13,7))\n",
    "\n",
    "plt.suptitle('Hit and Flop Probabilities', fontsize=20)\n",
    "sns.lineplot(x=x, y=y, color='gray', \n",
    "             marker='o', markersize=10, markerfacecolor='red')\n",
    "ax.tick_params(axis='x', rotation=45)\n",
    "ax.set_xlabel('x', fontsize=15)\n",
    "ax.set_ylabel('U(x)', fontsize=15)\n",
    "\n",
    "#plt.legend()\n",
    "plt.show()"
   ]
  },
  {
   "cell_type": "code",
   "execution_count": 103,
   "id": "6ac0c31f-622b-4a68-aa25-1deaf0fb5712",
   "metadata": {},
   "outputs": [],
   "source": [
    "x = np.array([1,2,3,4])\n",
    "y = np.array([1,0.7,0.35,0])"
   ]
  },
  {
   "cell_type": "code",
   "execution_count": 108,
   "id": "50759521-2d5c-4a56-836a-0b72c93c3153",
   "metadata": {},
   "outputs": [
    {
     "data": {
      "image/png": "[encoded data removed]",
      "text/plain": [
       "<Figure size 936x504 with 1 Axes>"
      ]
     },
     "metadata": {
      "needs_background": "light"
     },
     "output_type": "display_data"
    }
   ],
   "source": [
    "fig , ax = plt.subplots(1,1, figsize=(13,7))\n",
    "\n",
    "plt.suptitle('Hit and Flop Probabilities', fontsize=20)\n",
    "sns.lineplot(x=x, y=y, color='gray', \n",
    "             marker='o', markersize=10, markerfacecolor='red')\n",
    "plt.plot([1,4],[1,0])\n",
    "ax.set_xlabel('x', fontsize=15)\n",
    "ax.set_ylabel('U(x)', fontsize=15)\n",
    "\n",
    "plt.gca().invert_xaxis()\n",
    "#plt.legend()\n",
    "plt.show()"
   ]
  },
  {
   "cell_type": "code",
   "execution_count": null,
   "id": "74386fa3-ab1c-4abe-8707-749fb568b4a5",
   "metadata": {},
   "outputs": [],
   "source": []
  }
 ],
 "metadata": {
  "kernelspec": {
   "display_name": "Python 3",
   "language": "python",
   "name": "python3"
  },
  "language_info": {
   "codemirror_mode": {
    "name": "ipython",
    "version": 3
   },
   "file_extension": ".py",
   "mimetype": "text/x-python",
   "name": "python",
   "nbconvert_exporter": "python",
   "pygments_lexer": "ipython3",
   "version": "3.9.0"
  }
 },
 "nbformat": 4,
 "nbformat_minor": 5
}

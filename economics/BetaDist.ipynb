{
 "cells": [
  {
   "cell_type": "code",
   "execution_count": 33,
   "id": "53775503-7545-4d05-9e44-fca0f065cb5c",
   "metadata": {},
   "outputs": [],
   "source": [
    "import numpy as np\n",
    "from scipy.stats import binom, poisson, expon, beta\n",
    "from scipy.special import binom as binomCof\n",
    "import matplotlib.pyplot as plt"
   ]
  },
  {
   "cell_type": "markdown",
   "id": "6091923c-aa22-4d5e-88f2-a82ba9cdb8cb",
   "metadata": {
    "jp-MarkdownHeadingCollapsed": true,
    "tags": []
   },
   "source": [
    "### Poisson"
   ]
  },
  {
   "cell_type": "code",
   "execution_count": 5,
   "id": "bb8e3ba5-3935-49d5-bf41-2efd59cf62da",
   "metadata": {},
   "outputs": [
    {
     "data": {
      "text/plain": [
       "0.07160440945982202"
      ]
     },
     "execution_count": 5,
     "metadata": {},
     "output_type": "execute_result"
    }
   ],
   "source": [
    "poisson.pmf(6, 3.4) # P(X=6|3.4)"
   ]
  },
  {
   "cell_type": "code",
   "execution_count": 8,
   "id": "d0aa98c0-bda2-421e-a9b6-18269f0c865f",
   "metadata": {},
   "outputs": [
    {
     "data": {
      "text/plain": [
       "(0.9097959895689501, 0.014387677966970713)"
      ]
     },
     "execution_count": 8,
     "metadata": {},
     "output_type": "execute_result"
    }
   ],
   "source": [
    "poisson.cdf(1, 0.5), 1-poisson.cdf(2, 0.5) # P(X<2|0.5) P(X>2|0.5)"
   ]
  },
  {
   "cell_type": "code",
   "execution_count": 9,
   "id": "f9bc9f47-666c-42b9-891b-b3c6e6dee4a9",
   "metadata": {},
   "outputs": [
    {
     "data": {
      "text/plain": [
       "0.22313016014842982"
      ]
     },
     "execution_count": 9,
     "metadata": {},
     "output_type": "execute_result"
    }
   ],
   "source": [
    "(poisson.cdf(0, 0.5))**3 # P(X=3|0.5) in 3 periods"
   ]
  },
  {
   "cell_type": "code",
   "execution_count": 16,
   "id": "4c9b5ebb-cd5d-4a28-9351-8fc535a21d45",
   "metadata": {},
   "outputs": [
    {
     "data": {
      "text/plain": [
       "0.2168598325767855"
      ]
     },
     "execution_count": 16,
     "metadata": {},
     "output_type": "execute_result"
    }
   ],
   "source": [
    "poisson.pmf(2, 1.2) # P(X=2|1.2)"
   ]
  },
  {
   "cell_type": "code",
   "execution_count": 17,
   "id": "c7c09ab3-aae9-4622-8b5a-981e414a8ec3",
   "metadata": {},
   "outputs": [
    {
     "data": {
      "text/plain": [
       "0.8794870987836302"
      ]
     },
     "execution_count": 17,
     "metadata": {},
     "output_type": "execute_result"
    }
   ],
   "source": [
    "poisson.cdf(2, 1.2) # P(X<3|1.2) P(X<=2|1.2)"
   ]
  },
  {
   "cell_type": "code",
   "execution_count": 19,
   "id": "50b898f8-2a64-41b7-bd71-2aa833384824",
   "metadata": {},
   "outputs": [
    {
     "data": {
      "text/plain": [
       "0.012740638735861376"
      ]
     },
     "execution_count": 19,
     "metadata": {},
     "output_type": "execute_result"
    }
   ],
   "source": [
    "poisson.pmf(5, 1.2*10) # P(X=5|1.2) on 10 pages"
   ]
  },
  {
   "cell_type": "code",
   "execution_count": 24,
   "id": "146279cb-04f2-4cd0-90a0-e55fddc05797",
   "metadata": {},
   "outputs": [
    {
     "data": {
      "text/plain": [
       "1.0"
      ]
     },
     "execution_count": 24,
     "metadata": {},
     "output_type": "execute_result"
    }
   ],
   "source": [
    "1-poisson.cdf(3, 1.2*40) # P(X>=3|1.2) on 40 pages"
   ]
  },
  {
   "cell_type": "code",
   "execution_count": 28,
   "id": "9264ac66-ba7c-41ca-8d6a-2f878805f230",
   "metadata": {},
   "outputs": [
    {
     "data": {
      "text/plain": [
       "0.5768099188731564"
      ]
     },
     "execution_count": 28,
     "metadata": {},
     "output_type": "execute_result"
    }
   ],
   "source": [
    "1-poisson.cdf(2, 3) # P(X>=3) = 1 - P(X<=2)"
   ]
  },
  {
   "cell_type": "markdown",
   "id": "e3d20f2c-7f68-464d-a121-49fa00c7ea15",
   "metadata": {},
   "source": [
    "### Exponenttial"
   ]
  },
  {
   "cell_type": "code",
   "execution_count": 75,
   "id": "a106aeaa-edbf-4a48-ac19-77bf2cbf5bc0",
   "metadata": {},
   "outputs": [],
   "source": [
    "a, b = 3, 10"
   ]
  },
  {
   "cell_type": "code",
   "execution_count": 76,
   "id": "b27131f5-e833-48f1-a812-d22344bcf6b4",
   "metadata": {},
   "outputs": [
    {
     "data": {
      "text/plain": [
       "(0.038982140493247594, 0.5373429143169248)"
      ]
     },
     "execution_count": 76,
     "metadata": {},
     "output_type": "execute_result"
    }
   ],
   "source": [
    "beta.ppf(0.01, a, b), beta.ppf(0.99, a, b)"
   ]
  },
  {
   "cell_type": "code",
   "execution_count": 79,
   "id": "978d24dd-3263-47e7-82a6-305211335c5d",
   "metadata": {},
   "outputs": [
    {
     "name": "stdout",
     "output_type": "stream",
     "text": [
      "(array(0.23076923), array(0.01267963))\n"
     ]
    },
    {
     "data": {
      "image/png": "[encoded data removed]",
      "text/plain": [
       "<Figure size 864x360 with 2 Axes>"
      ]
     },
     "metadata": {
      "needs_background": "light"
     },
     "output_type": "display_data"
    }
   ],
   "source": [
    "x = np.linspace(beta.ppf(0.001, a, b),\n",
    "              beta.ppf(0.999, a, b), 20)\n",
    "print(beta.stats(a, b))\n",
    "fig, (ax1,ax2) = plt.subplots(1, 2, figsize=(12,5))\n",
    "\n",
    "ax=ax1\n",
    "ax.set_title('Probability Mass Function (PMF)', fontsize=15)\n",
    "ax.plot(x, beta.pdf(x, a, b), 'bo', ms=8, label='binom pmf')\n",
    "ax.vlines(x, 0, beta.pdf(x, a, b), colors='b', lw=5, alpha=0.5)\n",
    "\n",
    "ax=ax2\n",
    "ax.set_title('Cumulative Density Function (CDF)', fontsize=15)\n",
    "ax.plot(x, beta.cdf(x, a, b), 'bo', ms=8, label='binom pmf')\n",
    "ax.vlines(x, 0, beta.cdf(x, a, b), colors='b', lw=5, alpha=0.5)\n",
    "plt.show()\n"
   ]
  },
  {
   "cell_type": "code",
   "execution_count": 80,
   "id": "37380e02-5189-447e-ba16-9107eee25f9c",
   "metadata": {},
   "outputs": [
    {
     "data": {
      "text/plain": [
       "(0.11086997774500003, 0.7471846521450002, 0.980712890625)"
      ]
     },
     "execution_count": 80,
     "metadata": {},
     "output_type": "execute_result"
    }
   ],
   "source": [
    "beta.cdf(0.1, a=3,b=10), beta.cdf(0.3, a=3,b=10), beta.cdf(0.5, a=3,b=10)"
   ]
  },
  {
   "cell_type": "code",
   "execution_count": 82,
   "id": "ed4d8a00-e9e3-4cf2-be56-899e1deba0ca",
   "metadata": {},
   "outputs": [
    {
     "data": {
      "text/plain": [
       "(0.09565290556860409, 0.3855216914678814)"
      ]
     },
     "execution_count": 82,
     "metadata": {},
     "output_type": "execute_result"
    }
   ],
   "source": [
    "beta.ppf(0.1, a=3,b=10), beta.ppf(0.9, a=3,b=10)"
   ]
  },
  {
   "cell_type": "code",
   "execution_count": null,
   "id": "7de39361-403f-4c69-9971-7bfcd244c3b5",
   "metadata": {},
   "outputs": [],
   "source": []
  },
  {
   "cell_type": "code",
   "execution_count": 41,
   "id": "16f7f6d9-815a-401c-b11c-8f63a954993f",
   "metadata": {},
   "outputs": [
    {
     "data": {
      "text/plain": [
       "0.2166864107865456"
      ]
     },
     "execution_count": 41,
     "metadata": {},
     "output_type": "execute_result"
    }
   ],
   "source": [
    "beta.ppf(.5, a=3,b=10)"
   ]
  },
  {
   "cell_type": "code",
   "execution_count": 46,
   "id": "01ecbc74-7252-4dd5-8ecd-5b124e74206f",
   "metadata": {},
   "outputs": [
    {
     "data": {
      "text/plain": [
       "0.9772563497156154"
      ]
     },
     "execution_count": 46,
     "metadata": {},
     "output_type": "execute_result"
    }
   ],
   "source": [
    "beta.cdf(.49, a=3,b=10)"
   ]
  },
  {
   "cell_type": "code",
   "execution_count": 47,
   "id": "d23626c7-614d-4ef2-94b8-4fb9f1310b0c",
   "metadata": {},
   "outputs": [
    {
     "data": {
      "text/plain": [
       "0.02274365028438463"
      ]
     },
     "execution_count": 47,
     "metadata": {},
     "output_type": "execute_result"
    }
   ],
   "source": [
    "1-beta.cdf(.49, a=3,b=10)"
   ]
  },
  {
   "cell_type": "code",
   "execution_count": 44,
   "id": "31809d8b-dabc-4b19-a4a5-606a521d9c90",
   "metadata": {},
   "outputs": [
    {
     "data": {
      "text/plain": [
       "0.7471846521450002"
      ]
     },
     "execution_count": 44,
     "metadata": {},
     "output_type": "execute_result"
    }
   ],
   "source": [
    "beta.cdf(.3, a=3,b=10)"
   ]
  },
  {
   "cell_type": "code",
   "execution_count": null,
   "id": "6d15fa3e-278e-4816-b39e-ef146719ee8c",
   "metadata": {},
   "outputs": [],
   "source": []
  }
 ],
 "metadata": {
  "kernelspec": {
   "display_name": "Python 3 (ipykernel)",
   "language": "python",
   "name": "python3"
  },
  "language_info": {
   "codemirror_mode": {
    "name": "ipython",
    "version": 3
   },
   "file_extension": ".py",
   "mimetype": "text/x-python",
   "name": "python",
   "nbconvert_exporter": "python",
   "pygments_lexer": "ipython3",
   "version": "3.9.13"
  }
 },
 "nbformat": 4,
 "nbformat_minor": 5
}

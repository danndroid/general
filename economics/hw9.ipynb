{
 "cells": [
  {
   "cell_type": "code",
   "execution_count": 154,
   "id": "df323799-e908-4088-8098-03b497f8a404",
   "metadata": {},
   "outputs": [],
   "source": [
    "import numpy as np\n",
    "from scipy.stats import binom, poisson, expon, beta, uniform\n",
    "from scipy.special import binom as binomCof\n",
    "from scipy import optimize\n",
    "import matplotlib.pyplot as plt\n",
    "import seaborn as sns"
   ]
  },
  {
   "cell_type": "markdown",
   "id": "7c3498f4-be19-4aa6-ab95-8b49c1423747",
   "metadata": {
    "jp-MarkdownHeadingCollapsed": true,
    "tags": []
   },
   "source": [
    "### Examples"
   ]
  },
  {
   "cell_type": "code",
   "execution_count": 78,
   "id": "b42c02fb-1d34-4586-95a8-54580c46d2b1",
   "metadata": {},
   "outputs": [
    {
     "data": {
      "text/plain": [
       "(array(1.5), array(1.), array(2.), array(6.))"
      ]
     },
     "execution_count": 78,
     "metadata": {},
     "output_type": "execute_result"
    }
   ],
   "source": [
    "expon.stats(loc=0.5, moments='mvsk')"
   ]
  },
  {
   "cell_type": "code",
   "execution_count": 79,
   "id": "30f4876d-f573-4862-8cab-6fe86f07e3e5",
   "metadata": {},
   "outputs": [],
   "source": [
    "def exponentialCDF(rate, t):\n",
    "    p = 1-(np.exp(-(1/rate)*t))\n",
    "    \n",
    "    return p"
   ]
  },
  {
   "cell_type": "code",
   "execution_count": 80,
   "id": "e77d0243-2fe6-47cb-81c6-35aedde532f2",
   "metadata": {},
   "outputs": [
    {
     "data": {
      "text/plain": [
       "0.950212931632136"
      ]
     },
     "execution_count": 80,
     "metadata": {},
     "output_type": "execute_result"
    }
   ],
   "source": [
    "exponentialCDF(0.5, 1.5)"
   ]
  },
  {
   "cell_type": "code",
   "execution_count": 81,
   "id": "7cf9e206-7e64-4b8c-898a-1c850fbbb451",
   "metadata": {},
   "outputs": [
    {
     "data": {
      "text/plain": [
       "0.5048639365386571"
      ]
     },
     "execution_count": 81,
     "metadata": {},
     "output_type": "execute_result"
    }
   ],
   "source": [
    "exponentialCDF(27.03, 19)"
   ]
  },
  {
   "cell_type": "code",
   "execution_count": 82,
   "id": "1988245d-7a60-4e3a-8c84-87c22f5469dc",
   "metadata": {},
   "outputs": [
    {
     "data": {
      "text/plain": [
       "0.6065306597126334"
      ]
     },
     "execution_count": 82,
     "metadata": {},
     "output_type": "execute_result"
    }
   ],
   "source": [
    "1-exponentialCDF(0.5, 0.25)"
   ]
  },
  {
   "cell_type": "code",
   "execution_count": 83,
   "id": "6f1fa8f5-7fdb-4400-a620-5455c33990b1",
   "metadata": {},
   "outputs": [
    {
     "data": {
      "text/plain": [
       "0.7134952031398099"
      ]
     },
     "execution_count": 83,
     "metadata": {},
     "output_type": "execute_result"
    }
   ],
   "source": [
    "exponentialCDF(40, 50)"
   ]
  },
  {
   "cell_type": "code",
   "execution_count": null,
   "id": "3825c927-e97d-4208-90ad-03bafc44f9f6",
   "metadata": {},
   "outputs": [],
   "source": []
  },
  {
   "cell_type": "code",
   "execution_count": 84,
   "id": "d316cdf3-ba36-46ec-8b29-c58c255792c7",
   "metadata": {},
   "outputs": [
    {
     "data": {
      "text/plain": [
       "0.950212931632136"
      ]
     },
     "execution_count": 84,
     "metadata": {},
     "output_type": "execute_result"
    }
   ],
   "source": [
    "expon.cdf(1.5, scale=0.5) # Beta (1/2=0.5 inter event time)  -- Lambda (2 events/hour) "
   ]
  },
  {
   "cell_type": "code",
   "execution_count": 85,
   "id": "9bc78996-5eaa-448f-9fde-7621516fc8ea",
   "metadata": {},
   "outputs": [
    {
     "data": {
      "text/plain": [
       "0.5048639365386571"
      ]
     },
     "execution_count": 85,
     "metadata": {},
     "output_type": "execute_result"
    }
   ],
   "source": [
    "expon.cdf(19, scale=27.03) # Beta (200/7.5=27.03 every 27.03 yards a blemish appears)  Lambda (7.5 blemishes/in 200 yards) "
   ]
  },
  {
   "cell_type": "markdown",
   "id": "da4600cc-13e9-4ea2-a72d-66bea28d3a62",
   "metadata": {
    "tags": []
   },
   "source": [
    "### P1"
   ]
  },
  {
   "cell_type": "code",
   "execution_count": 2,
   "id": "0dceed59-b6f1-45a2-850a-d7670c1b9d8b",
   "metadata": {},
   "outputs": [],
   "source": [
    "beta=10 # "
   ]
  },
  {
   "cell_type": "code",
   "execution_count": 87,
   "id": "d8d6636f-31bf-4174-9d40-959c2ab7f8b1",
   "metadata": {},
   "outputs": [
    {
     "data": {
      "text/plain": [
       "0.09516258196404044"
      ]
     },
     "execution_count": 87,
     "metadata": {},
     "output_type": "execute_result"
    }
   ],
   "source": [
    "expon.cdf(1, scale=beta)"
   ]
  },
  {
   "cell_type": "code",
   "execution_count": 3,
   "id": "b6562b0e-eeb2-446e-b4f7-b4f14d3a61be",
   "metadata": {},
   "outputs": [
    {
     "data": {
      "text/plain": [
       "0.4511883639059736"
      ]
     },
     "execution_count": 3,
     "metadata": {},
     "output_type": "execute_result"
    }
   ],
   "source": [
    "expon.cdf(6, scale=beta)"
   ]
  },
  {
   "cell_type": "code",
   "execution_count": 88,
   "id": "4860c2df-9cbf-421c-9593-6560854dc843",
   "metadata": {},
   "outputs": [
    {
     "data": {
      "text/plain": [
       "0.5488116360940264"
      ]
     },
     "execution_count": 88,
     "metadata": {},
     "output_type": "execute_result"
    }
   ],
   "source": [
    "1-expon.cdf(6, scale=beta)"
   ]
  },
  {
   "cell_type": "code",
   "execution_count": 89,
   "id": "0903f2c4-ac11-46bd-8835-743bfc67946f",
   "metadata": {},
   "outputs": [
    {
     "data": {
      "text/plain": [
       "0.05222633230261686"
      ]
     },
     "execution_count": 89,
     "metadata": {},
     "output_type": "execute_result"
    }
   ],
   "source": [
    "expon.cdf(7, scale=beta)-expon.cdf(6, scale=beta)"
   ]
  },
  {
   "cell_type": "code",
   "execution_count": 90,
   "id": "a637868b-2696-4bc7-9beb-4753bf4f4a96",
   "metadata": {},
   "outputs": [
    {
     "data": {
      "text/plain": [
       "0.09516258196404033"
      ]
     },
     "execution_count": 90,
     "metadata": {},
     "output_type": "execute_result"
    }
   ],
   "source": [
    "(expon.cdf(7, scale=beta)- expon.cdf(6, scale=beta)) / (1-expon.cdf(6, scale=beta))"
   ]
  },
  {
   "cell_type": "markdown",
   "id": "37ab45b5-d917-424c-9ffc-2aefe086d8f9",
   "metadata": {
    "tags": []
   },
   "source": [
    "### P2"
   ]
  },
  {
   "cell_type": "code",
   "execution_count": 6,
   "id": "92ba5a43-1a09-4efb-bcea-4a4be8ec7814",
   "metadata": {},
   "outputs": [],
   "source": [
    "k, n = 5, 20 # Evidence: 5 successes in 20 trials"
   ]
  },
  {
   "cell_type": "code",
   "execution_count": 7,
   "id": "eab1f41e-e18a-492a-b6ac-dade801ffd11",
   "metadata": {},
   "outputs": [],
   "source": [
    "hit = 0.3 # Hypothesis 1\n",
    "flop = 0.1 # Hypothesis 2\n",
    "\n",
    "hit_prior = 0.5 # P(H1)\n",
    "flop_prior = 0.5 # P(H2)"
   ]
  },
  {
   "cell_type": "code",
   "execution_count": 8,
   "id": "0900b0a6-71d8-47a5-a8fc-d8c4f7ef508a",
   "metadata": {},
   "outputs": [
    {
     "name": "stdout",
     "output_type": "stream",
     "text": [
      "Priors:\n",
      "0.5\n",
      "0.5\n",
      "\n",
      "Likelihood:\n",
      "0.17886305056987964\n",
      "0.031921361119954424\n",
      "\n",
      "Posteriors:\n",
      "0.8485591943728448\n",
      "0.15144080562715523\n"
     ]
    }
   ],
   "source": [
    "print('Priors:')\n",
    "print(hit_prior)\n",
    "print(flop_prior)\n",
    "print('\\nLikelihood:')\n",
    "print(binom.pmf(k, n, hit))\n",
    "print(binom.pmf(k, n, flop))\n",
    "print('\\nPosteriors:')\n",
    "print( binom.pmf(k, n, hit)*hit_prior / (binom.pmf(k, n, hit)*hit_prior + binom.pmf(k, n, flop)*flop_prior) )\n",
    "print( binom.pmf(k, n, flop)*flop_prior / (binom.pmf(k, n, hit)*hit_prior + binom.pmf(k, n, flop)*flop_prior) )"
   ]
  },
  {
   "cell_type": "code",
   "execution_count": null,
   "id": "f5a8f4ca-80dd-4ee5-8ffa-8abcd5199cd7",
   "metadata": {},
   "outputs": [],
   "source": []
  },
  {
   "cell_type": "code",
   "execution_count": 9,
   "id": "6acb6029-6d0b-4f49-be07-ff9a5e3d99d5",
   "metadata": {},
   "outputs": [
    {
     "name": "stdout",
     "output_type": "stream",
     "text": [
      "Ratio: 0.2\n"
     ]
    }
   ],
   "source": [
    "k, n = 4, 20 # Evidence: 4 successes in 20 trials\n",
    "print(f'Ratio: {k/n}')"
   ]
  },
  {
   "cell_type": "code",
   "execution_count": 11,
   "id": "bc718ede-6762-4254-93f2-510c7b49459b",
   "metadata": {},
   "outputs": [
    {
     "name": "stdout",
     "output_type": "stream",
     "text": [
      "P(Hit): 0.2 --> 0.2664\n",
      "P(Flop): 0.8 --> 0.7336\n",
      "\n",
      "P(Hit): 0.4 --> 0.492\n",
      "P(Flop): 0.6 --> 0.508\n",
      "\n",
      "P(Hit): 0.5 --> 0.5923\n",
      "P(Flop): 0.5 --> 0.4077\n",
      "\n",
      "P(Hit): 0.75 --> 0.8134\n",
      "P(Flop): 0.25 --> 0.1866\n",
      "\n",
      "P(Hit): 0.9 --> 0.9289\n",
      "P(Flop): 0.1 --> 0.0711\n",
      "\n",
      "P(Hit): 1.0 --> 0.9993\n",
      "P(Flop): 0.0 --> 0.0007\n",
      "\n"
     ]
    }
   ],
   "source": [
    "hit_prior = np.array([0.2,0.4,0.5,0.75,0.9,0.999])\n",
    "flop_prior = []\n",
    "hit_posterior = []\n",
    "flop_posterior = []\n",
    "for p in hit_prior:\n",
    "    q = 1-p\n",
    "    \n",
    "    flop_prior.append(q)\n",
    "    \n",
    "    p2 = binom.pmf(k, n, hit)*p / (binom.pmf(k, n, hit)*p + binom.pmf(k, n, flop)*q)\n",
    "    q2 = binom.pmf(k, n, flop)*q / (binom.pmf(k, n, hit)*p + binom.pmf(k, n, flop)*q)\n",
    "    \n",
    "    hit_posterior.append(p2)\n",
    "    flop_posterior.append(q2)\n",
    "    \n",
    "    print(f'P(Hit): {np.round(p,2)} --> {np.round(p2,4)}')\n",
    "    print(f'P(Flop): {np.round(q,2)} --> {np.round(q2,4)}')\n",
    "    print('')"
   ]
  },
  {
   "cell_type": "code",
   "execution_count": 20,
   "id": "309a9559-19ba-49a5-a36e-b3f4b86c11d5",
   "metadata": {},
   "outputs": [
    {
     "data": {
      "image/png": "[encoded data removed]",
      "text/plain": [
       "<Figure size 1224x360 with 2 Axes>"
      ]
     },
     "metadata": {
      "needs_background": "light"
     },
     "output_type": "display_data"
    }
   ],
   "source": [
    "fig , axes = plt.subplots(1,2, figsize=(17,5))\n",
    "\n",
    "plt.suptitle('Hit and Flop Probabilities', fontsize=20)\n",
    "ax = axes[0]\n",
    "sns.lineplot(x=hit_prior, y=hit_posterior, color='gray', \n",
    "             marker='o', markersize=10, markerfacecolor='red', ax=ax, label=f'n={n}, k={k}')\n",
    "ax.tick_params(axis='x', rotation=45)\n",
    "ax.set_xlabel('Hit Prior', fontsize=15)\n",
    "ax.set_ylabel('Hit Posterior', fontsize=15)\n",
    "\n",
    "ax = axes[1]\n",
    "sns.lineplot(x=flop_prior, y=flop_posterior, color='gray', \n",
    "             marker='o', markersize=10, markerfacecolor='red', ax=ax, label=f'n={n}, k={k}')\n",
    "ax.tick_params(axis='x', rotation=45)\n",
    "ax.set_xlabel('Flop Prior', fontsize=15)\n",
    "ax.set_ylabel('Flop Posterior', fontsize=15)\n",
    "\n",
    "plt.legend()\n",
    "plt.show()"
   ]
  },
  {
   "cell_type": "markdown",
   "id": "41a1ad09-ea04-446e-a643-2fa663b4eba9",
   "metadata": {
    "tags": []
   },
   "source": [
    "### P3"
   ]
  },
  {
   "cell_type": "code",
   "execution_count": 99,
   "id": "97543573-4ff2-4004-9555-1050d70e8b40",
   "metadata": {},
   "outputs": [
    {
     "data": {
      "text/plain": [
       "0.25102143016698353"
      ]
     },
     "execution_count": 99,
     "metadata": {},
     "output_type": "execute_result"
    }
   ],
   "source": [
    "poisson.pmf(2, mu=1.5)"
   ]
  },
  {
   "cell_type": "code",
   "execution_count": 100,
   "id": "84d54e16-2088-428f-8758-943d7e070592",
   "metadata": {},
   "outputs": [
    {
     "data": {
      "text/plain": [
       "0.5578254003710748"
      ]
     },
     "execution_count": 100,
     "metadata": {},
     "output_type": "execute_result"
    }
   ],
   "source": [
    "poisson.cdf(1, mu=1.5) # P(X<2)"
   ]
  },
  {
   "cell_type": "code",
   "execution_count": null,
   "id": "09a20f43-5317-4efc-a0af-7118a83af86d",
   "metadata": {},
   "outputs": [],
   "source": []
  },
  {
   "cell_type": "code",
   "execution_count": 101,
   "id": "cdd3709f-2f0e-4d22-8734-609f309e2e8f",
   "metadata": {},
   "outputs": [],
   "source": [
    "m = 2.5 # 2.5 breakdowns per month"
   ]
  },
  {
   "cell_type": "code",
   "execution_count": 102,
   "id": "9f5c7928-a59f-4c5a-ad78-75e4a463fb9a",
   "metadata": {},
   "outputs": [
    {
     "data": {
      "text/plain": [
       "2.25"
      ]
     },
     "execution_count": 102,
     "metadata": {},
     "output_type": "execute_result"
    }
   ],
   "source": [
    "e_breaks = 0.5*3 + 0.5*1.5\n",
    "e_breaks"
   ]
  },
  {
   "cell_type": "code",
   "execution_count": 103,
   "id": "8f15ca61-0e83-4f23-8fc7-f6e478201b94",
   "metadata": {},
   "outputs": [
    {
     "data": {
      "text/plain": [
       "3825.0"
      ]
     },
     "execution_count": 103,
     "metadata": {},
     "output_type": "execute_result"
    }
   ],
   "source": [
    "e_cost = 1700*e_breaks\n",
    "e_cost"
   ]
  },
  {
   "cell_type": "code",
   "execution_count": 25,
   "id": "4025e1c3-c260-45aa-91c8-a834058a56dd",
   "metadata": {},
   "outputs": [
    {
     "data": {
      "text/plain": [
       "3750.0"
      ]
     },
     "execution_count": 25,
     "metadata": {},
     "output_type": "execute_result"
    }
   ],
   "source": [
    "2.5*1500"
   ]
  },
  {
   "cell_type": "code",
   "execution_count": 105,
   "id": "d66f0cc3-e4e4-4df8-b140-4c036d1039c1",
   "metadata": {},
   "outputs": [
    {
     "name": "stdout",
     "output_type": "stream",
     "text": [
      "Likelihood:\n",
      "0.5\n",
      "0.5\n"
     ]
    }
   ],
   "source": [
    "print('Likelihood:')\n",
    "print(0.5)\n",
    "print(0.5)"
   ]
  },
  {
   "cell_type": "code",
   "execution_count": 106,
   "id": "491d8d7c-6b07-4728-8d2b-3b9ff16ef522",
   "metadata": {},
   "outputs": [
    {
     "name": "stdout",
     "output_type": "stream",
     "text": [
      "Likelihood:\n",
      "0.25102143016698353\n",
      "0.22404180765538775\n"
     ]
    }
   ],
   "source": [
    "print('Likelihood:')\n",
    "print(poisson.pmf(2,mu=1.5))\n",
    "print(poisson.pmf(2,mu=3))"
   ]
  },
  {
   "cell_type": "code",
   "execution_count": 22,
   "id": "f35131bd-f870-4e01-8311-fe7960025341",
   "metadata": {},
   "outputs": [
    {
     "name": "stdout",
     "output_type": "stream",
     "text": [
      "0.23753161891118563\n"
     ]
    }
   ],
   "source": [
    "print((poisson.pmf(2, mu=1.5)*0.5 + poisson.pmf(2, mu=3)*0.5))"
   ]
  },
  {
   "cell_type": "code",
   "execution_count": 107,
   "id": "3c7df2ce-daaa-4210-a0b9-ca9b2ce695a9",
   "metadata": {},
   "outputs": [
    {
     "name": "stdout",
     "output_type": "stream",
     "text": [
      "\n",
      "Posteriors:\n",
      "0.5283958222438626\n",
      "0.4716041777561374\n"
     ]
    }
   ],
   "source": [
    "print('\\nPosteriors:')\n",
    "print(poisson.pmf(2, mu=1.5)*0.5 / (poisson.pmf(2, mu=1.5)*0.5 + poisson.pmf(2, mu=3)*0.5))\n",
    "print(poisson.pmf(2, mu=3)*0.5 / (poisson.pmf(2, mu=1.5)*0.5 + poisson.pmf(2, mu=3)*0.5))"
   ]
  },
  {
   "cell_type": "code",
   "execution_count": 24,
   "id": "290bcd88-e76e-4a6e-bedd-d2f3a4697fbb",
   "metadata": {},
   "outputs": [
    {
     "data": {
      "text/plain": [
       "(2.2074, 3752.5799999999995)"
      ]
     },
     "execution_count": 24,
     "metadata": {},
     "output_type": "execute_result"
    }
   ],
   "source": [
    "0.5284*1.5 +0.4716*3, (0.5284*1.5 +0.4716*3)*1700"
   ]
  },
  {
   "cell_type": "markdown",
   "id": "11c01446-d3c4-4a22-9c4a-120e4be747f4",
   "metadata": {},
   "source": [
    "### P4"
   ]
  },
  {
   "cell_type": "code",
   "execution_count": null,
   "id": "91f18952-7d6b-4815-adad-8dab8256398d",
   "metadata": {},
   "outputs": [],
   "source": []
  },
  {
   "cell_type": "code",
   "execution_count": 122,
   "id": "2e52c659-06f8-4a5f-b8cd-de7c32bc2275",
   "metadata": {},
   "outputs": [],
   "source": [
    "def beta_parameters(x1,p1, x2,p2):\n",
    "    \n",
    "    def square(x): \n",
    "        return x*x\n",
    "\n",
    "    def objective(v):\n",
    "        (a, b) = v\n",
    "        temp  = np.square( beta.cdf(x1, a, b) - p1 )\n",
    "        temp += np.square( beta.cdf(x2, a, b) - p2 )\n",
    "        return temp\n",
    "    \n",
    "    # arbitrary initial guess of (3, 3) for parameters\n",
    "    xopt = optimize.fmin(objective, (1, 2))\n",
    "    print(xopt)\n",
    "    return (xopt[0], xopt[1])\n",
    "    \n",
    "\n",
    "def beta_parameters_2(x1,p1, x2,p2):\n",
    "    \n",
    "\n",
    "    def objective(v):\n",
    "        (a, b) = v\n",
    "        temp  = np.square(beta.cdf(x1, a, b) - p1)\n",
    "        temp += np.square(beta.cdf(x2, a, b) - p2) \n",
    "        return temp\n",
    "    \n",
    "    # arbitrary initial guess of (3, 3) for parameters\n",
    "    xopt = optimize.minimize(objective, (1, 2))\n",
    "    print('xopt:',xopt)\n",
    "    return (xopt[0], xopt[1])"
   ]
  },
  {
   "cell_type": "code",
   "execution_count": 123,
   "id": "26eab220-c8c6-4176-a185-3ff7d7d70405",
   "metadata": {},
   "outputs": [
    {
     "name": "stdout",
     "output_type": "stream",
     "text": [
      "Optimization terminated successfully.\n",
      "         Current function value: 0.000000\n",
      "         Iterations: 51\n",
      "         Function evaluations: 97\n",
      "[0.92581723 0.29163895]\n"
     ]
    },
    {
     "data": {
      "text/plain": [
       "(0.9258172334536299, 0.2916389544972169)"
      ]
     },
     "execution_count": 123,
     "metadata": {},
     "output_type": "execute_result"
    }
   ],
   "source": [
    "beta_parameters(0.50,0.20, 0.75,0.35)"
   ]
  },
  {
   "cell_type": "code",
   "execution_count": 109,
   "id": "d5a0bcdd-29da-4221-8630-76ac8593480f",
   "metadata": {},
   "outputs": [
    {
     "name": "stdout",
     "output_type": "stream",
     "text": [
      "Optimization terminated successfully.\n",
      "         Current function value: 0.000000\n",
      "         Iterations: 46\n",
      "         Function evaluations: 89\n",
      "[3.16943689 7.56504219]\n"
     ]
    },
    {
     "data": {
      "text/plain": [
       "(3.169436887654957, 7.565042188725487)"
      ]
     },
     "execution_count": 109,
     "metadata": {},
     "output_type": "execute_result"
    }
   ],
   "source": [
    "beta_parameters(0.1,0.05, 0.3,0.55)"
   ]
  },
  {
   "cell_type": "code",
   "execution_count": 18,
   "id": "0fdf69fa-8bf7-4b28-9daa-43776dc4a1b3",
   "metadata": {},
   "outputs": [
    {
     "data": {
      "text/plain": [
       "0.052972138"
      ]
     },
     "execution_count": 18,
     "metadata": {},
     "output_type": "execute_result"
    }
   ],
   "source": [
    "beta.cdf(0.1, 3, 7)"
   ]
  },
  {
   "cell_type": "code",
   "execution_count": 19,
   "id": "dac212ba-0a59-4576-a7c4-705d90c6d55b",
   "metadata": {},
   "outputs": [
    {
     "data": {
      "text/plain": [
       "0.5371688339999998"
      ]
     },
     "execution_count": 19,
     "metadata": {},
     "output_type": "execute_result"
    }
   ],
   "source": [
    "beta.cdf(0.3, 3, 7)"
   ]
  },
  {
   "cell_type": "code",
   "execution_count": 20,
   "id": "38b96eaf-7c8c-43a8-9c94-02ee4fd297f3",
   "metadata": {},
   "outputs": [
    {
     "data": {
      "text/plain": [
       "(0.91015625, 0.08984375)"
      ]
     },
     "execution_count": 20,
     "metadata": {},
     "output_type": "execute_result"
    }
   ],
   "source": [
    "beta.cdf(0.5, 3, 7), 1-beta.cdf(0.5, 3, 7)"
   ]
  },
  {
   "cell_type": "code",
   "execution_count": 48,
   "id": "fe82fabb-d9e0-43db-9f94-6a6573970511",
   "metadata": {},
   "outputs": [
    {
     "data": {
      "text/plain": [
       "0.018534761200000006"
      ]
     },
     "execution_count": 48,
     "metadata": {},
     "output_type": "execute_result"
    }
   ],
   "source": [
    "beta.cdf(0.1, 3+1, 10-3+1)"
   ]
  },
  {
   "cell_type": "code",
   "execution_count": 49,
   "id": "7c603ccf-66b1-4032-9388-e8e5d2b1d13c",
   "metadata": {},
   "outputs": [
    {
     "data": {
      "text/plain": [
       "0.15529225994702847"
      ]
     },
     "execution_count": 49,
     "metadata": {},
     "output_type": "execute_result"
    }
   ],
   "source": [
    "# BOOK EXAMPLE\n",
    "beta.cdf(0.34, 5, 5)"
   ]
  },
  {
   "cell_type": "code",
   "execution_count": 110,
   "id": "12a4bdf9-4800-404d-ba54-f5f2bf7ec50f",
   "metadata": {},
   "outputs": [
    {
     "name": "stdout",
     "output_type": "stream",
     "text": [
      "Mean: 0.24017467248908297\n",
      "Std: 0.18084370129528995\n"
     ]
    }
   ],
   "source": [
    "# BOOK EXAMPLE\n",
    "# If 0.5 --> 0.2\n",
    "#    0.75 --> 0.35\n",
    "# Then ALPHA=1.10 and BETA=3.48\n",
    "\n",
    "mu,var,_,_ = beta.stats(a=1.1,b=3.48, moments='mvsk')\n",
    "print(f'Mean: {mu}')\n",
    "print(f'Std: {np.sqrt(var)}')"
   ]
  },
  {
   "cell_type": "code",
   "execution_count": 111,
   "id": "d72add5d-c566-47c3-9e4b-f69bbb604457",
   "metadata": {},
   "outputs": [
    {
     "name": "stdout",
     "output_type": "stream",
     "text": [
      "Optimization terminated successfully.\n",
      "         Current function value: 0.000000\n",
      "         Iterations: 51\n",
      "         Function evaluations: 97\n",
      "[0.92581723 0.29163895]\n"
     ]
    },
    {
     "data": {
      "text/plain": [
       "(0.9258172334536299, 0.2916389544972169)"
      ]
     },
     "execution_count": 111,
     "metadata": {},
     "output_type": "execute_result"
    }
   ],
   "source": [
    "beta_parameters(0.50,0.20, 0.75,0.35)"
   ]
  },
  {
   "cell_type": "code",
   "execution_count": null,
   "id": "c7484bee-5ca7-455d-a5fe-722783fabba8",
   "metadata": {},
   "outputs": [],
   "source": []
  },
  {
   "cell_type": "code",
   "execution_count": 162,
   "id": "9b18ad29-5c2f-4db7-9482-9165955fe648",
   "metadata": {},
   "outputs": [
    {
     "data": {
      "image/png": "[encoded data removed]",
      "text/plain": [
       "<Figure size 432x288 with 1 Axes>"
      ]
     },
     "metadata": {
      "needs_background": "light"
     },
     "output_type": "display_data"
    }
   ],
   "source": [
    "al, be = 1.10, 3.48\n",
    "\n",
    "x = np.linspace(beta.ppf(0.01, al, be),\n",
    "                beta.ppf(0.99, al, be), 1000)\n",
    "\n",
    "\n",
    "fig , ax = plt.subplots(1,1, figsize=(6,4))\n",
    "\n",
    "plt.suptitle(f'Cumulative Beta (a={al}, b={be})', fontsize=15)\n",
    "sns.lineplot(x=x, y=beta.pdf(x, al, be), color='gray', ax=ax)\n",
    "ax.tick_params(axis='x', rotation=45)\n",
    "ax.set_xlabel('q', fontsize=15)\n",
    "ax.set_ylabel('P(Q<q)', fontsize=15)\n",
    "\n",
    "\n",
    "#plt.legend()\n",
    "plt.show()"
   ]
  },
  {
   "cell_type": "code",
   "execution_count": 160,
   "id": "d3781fa9-cf52-41b3-84e8-15542fcd4425",
   "metadata": {},
   "outputs": [],
   "source": [
    "from scipy.optimize import minimize, minimize_scalar"
   ]
  },
  {
   "cell_type": "code",
   "execution_count": 136,
   "id": "06f41692-93ad-40e6-8fa7-01f1d2999df5",
   "metadata": {},
   "outputs": [],
   "source": [
    "def objective_function(v):\n",
    "    #(a, b) = v\n",
    "    loss  = np.square(beta.cdf(0.5, v[0], v[1]) - 0.2)\n",
    "    loss += np.square(beta.cdf(0.75, v[0], v[1]) - 0.35) \n",
    "        \n",
    "    return loss"
   ]
  },
  {
   "cell_type": "code",
   "execution_count": 142,
   "id": "7f11b3b1-2773-403d-8822-a89318da536f",
   "metadata": {},
   "outputs": [
    {
     "data": {
      "text/plain": [
       "      fun: 1.6410444741060996e-11\n",
       " hess_inv: array([[95.40369189, 28.2971957 ],\n",
       "       [28.2971957 ,  8.82457498]])\n",
       "      jac: array([-2.73392514e-06,  8.35471905e-06])\n",
       "  message: 'Optimization terminated successfully.'\n",
       "     nfev: 45\n",
       "      nit: 14\n",
       "     njev: 15\n",
       "   status: 0\n",
       "  success: True\n",
       "        x: array([0.92575898, 0.2916257 ])"
      ]
     },
     "execution_count": 142,
     "metadata": {},
     "output_type": "execute_result"
    }
   ],
   "source": [
    "res = minimize(objective_function, x0= (1,1))\n",
    "res"
   ]
  },
  {
   "cell_type": "code",
   "execution_count": null,
   "id": "acd8de9d-15a1-446b-960f-cb30b875cb2c",
   "metadata": {},
   "outputs": [],
   "source": []
  },
  {
   "cell_type": "code",
   "execution_count": null,
   "id": "f73c786d-da0a-412c-a9f4-d81932424044",
   "metadata": {},
   "outputs": [],
   "source": []
  },
  {
   "cell_type": "code",
   "execution_count": null,
   "id": "e8d719d0-1eec-40be-a24b-da3b0f1c0b71",
   "metadata": {},
   "outputs": [],
   "source": []
  },
  {
   "cell_type": "code",
   "execution_count": 7,
   "id": "4d40e2e7-08b4-4005-acca-a7dc84dda9fe",
   "metadata": {},
   "outputs": [
    {
     "data": {
      "text/plain": [
       "0.7471846521450002"
      ]
     },
     "execution_count": 7,
     "metadata": {},
     "output_type": "execute_result"
    }
   ],
   "source": [
    "beta.cdf(0.3, 3, 10)"
   ]
  },
  {
   "cell_type": "code",
   "execution_count": 9,
   "id": "76519fd0-3593-45c7-9eea-97a14df749b9",
   "metadata": {},
   "outputs": [
    {
     "data": {
      "text/plain": [
       "0.980712890625"
      ]
     },
     "execution_count": 9,
     "metadata": {},
     "output_type": "execute_result"
    }
   ],
   "source": [
    "beta.cdf(0.5, 3, 10)"
   ]
  },
  {
   "cell_type": "code",
   "execution_count": 8,
   "id": "c283cdd6-fbe9-4c7d-8095-5f80ee33c4fa",
   "metadata": {},
   "outputs": [
    {
     "data": {
      "text/plain": [
       "0.019287109375"
      ]
     },
     "execution_count": 8,
     "metadata": {},
     "output_type": "execute_result"
    }
   ],
   "source": [
    "1 - beta.cdf(0.5, 3, 10)"
   ]
  },
  {
   "cell_type": "code",
   "execution_count": 12,
   "id": "d1763b63-e5ba-422f-8d41-b490847169f2",
   "metadata": {},
   "outputs": [
    {
     "data": {
      "text/plain": [
       "(0.09565290556860409, 0.16028535148736567)"
      ]
     },
     "execution_count": 12,
     "metadata": {},
     "output_type": "execute_result"
    }
   ],
   "source": [
    "beta.ppf(0.1, 3, 10), beta.ppf(0.3, 3, 10)"
   ]
  },
  {
   "cell_type": "code",
   "execution_count": 87,
   "id": "925898c0-612e-4c30-b3a7-de1f09829c83",
   "metadata": {},
   "outputs": [
    {
     "data": {
      "text/plain": [
       "array([0.  , 0.02, 0.04, 0.06, 0.08, 0.1 , 0.12, 0.14, 0.16, 0.18, 0.2 ,\n",
       "       0.22, 0.24, 0.26, 0.28, 0.3 , 0.32, 0.34, 0.36, 0.38, 0.4 , 0.42,\n",
       "       0.44, 0.46, 0.48, 0.5 ])"
      ]
     },
     "execution_count": 87,
     "metadata": {},
     "output_type": "execute_result"
    }
   ],
   "source": [
    "xs = np.linspace(0, 0.50, 26)\n",
    "xs"
   ]
  },
  {
   "cell_type": "code",
   "execution_count": 83,
   "id": "255836dd-98ed-4e24-81d5-4126c105c262",
   "metadata": {},
   "outputs": [
    {
     "data": {
      "text/plain": [
       "15"
      ]
     },
     "execution_count": 83,
     "metadata": {},
     "output_type": "execute_result"
    }
   ],
   "source": [
    "p = np.array([0,0,0,0.02,0.10,0.23,0.41,0.60,0.75,0.86,0.93,0.96,0.98,0.99,0.99])\n",
    "len(p)"
   ]
  },
  {
   "cell_type": "code",
   "execution_count": 86,
   "id": "2e9a8c07-b02f-433d-9542-30c3c2aef6d1",
   "metadata": {},
   "outputs": [
    {
     "data": {
      "text/plain": [
       "26"
      ]
     },
     "execution_count": 86,
     "metadata": {},
     "output_type": "execute_result"
    }
   ],
   "source": [
    "p2 = np.hstack((p, np.ones(26-15)))\n",
    "len(p2)"
   ]
  },
  {
   "cell_type": "code",
   "execution_count": 104,
   "id": "f24311ec-d925-43e3-8a4d-da2c0dd75d78",
   "metadata": {},
   "outputs": [
    {
     "data": {
      "image/png": "[encoded data removed]",
      "text/plain": [
       "<Figure size 432x288 with 1 Axes>"
      ]
     },
     "metadata": {
      "needs_background": "light"
     },
     "output_type": "display_data"
    }
   ],
   "source": [
    "fig , ax = plt.subplots(1,1, figsize=(6,4))\n",
    "\n",
    "plt.suptitle('Cumulative Beta (n=60, r=8)', fontsize=15)\n",
    "sns.lineplot(x=xs, y=p2, color='gray', \n",
    "             marker='o', markersize=10, markerfacecolor='red', ax=ax)\n",
    "ax.plot([0.15,0.15],[0,1], label='q=0.15')\n",
    "ax.tick_params(axis='x', rotation=45)\n",
    "ax.set_xlabel('q', fontsize=15)\n",
    "ax.set_ylabel('P(Q<q)', fontsize=15)\n",
    "\n",
    "\n",
    "plt.legend()\n",
    "plt.show()"
   ]
  },
  {
   "cell_type": "code",
   "execution_count": null,
   "id": "a03ccd58-c595-4421-9f69-67d21bc7c477",
   "metadata": {},
   "outputs": [],
   "source": []
  },
  {
   "cell_type": "code",
   "execution_count": null,
   "id": "f04d2a0b-65c1-4e28-aeb5-c8ab9a98b2dc",
   "metadata": {},
   "outputs": [],
   "source": []
  },
  {
   "cell_type": "markdown",
   "id": "941293db-a387-4ae0-b484-dac9be2763a8",
   "metadata": {},
   "source": [
    "### P5"
   ]
  },
  {
   "cell_type": "code",
   "execution_count": 53,
   "id": "0a5c250d-8d3a-41c7-be18-0234d5c84201",
   "metadata": {},
   "outputs": [
    {
     "data": {
      "image/png": "[encoded data removed]",
      "text/plain": [
       "<Figure size 288x216 with 1 Axes>"
      ]
     },
     "metadata": {
      "needs_background": "light"
     },
     "output_type": "display_data"
    }
   ],
   "source": [
    "a, b = 1, 2\n",
    "x = uniform.rvs(loc=a, scale=2, size=1000)\n",
    "fig, ax = plt.subplots(1,1, figsize=(4,3))\n",
    "ax.set_title(f'Uniform({a},{a+b})')\n",
    "sns.histplot(x=x, ax=ax)\n",
    "plt.show()"
   ]
  },
  {
   "cell_type": "code",
   "execution_count": 64,
   "id": "ec262589-8377-4cd3-b19f-f954f6f332d7",
   "metadata": {},
   "outputs": [],
   "source": [
    "a, b = 0, 10.5\n",
    "beta_mean = 10"
   ]
  },
  {
   "cell_type": "code",
   "execution_count": 65,
   "id": "9ac76aac-ebfd-4338-8555-5973fc9c3d65",
   "metadata": {},
   "outputs": [
    {
     "name": "stdout",
     "output_type": "stream",
     "text": [
      "U: 0.09523809523809523\n",
      "Exp: 0.09516258196404044\n"
     ]
    }
   ],
   "source": [
    "e = expon.cdf(1, scale=beta_mean)\n",
    "u = uniform.cdf(1, loc=a, scale=b)\n",
    "print(f'U: {u}')\n",
    "print(f'Exp: {e}')"
   ]
  },
  {
   "cell_type": "code",
   "execution_count": 66,
   "id": "faab5b3c-17e1-4906-b9da-fa4c0e730fb6",
   "metadata": {},
   "outputs": [
    {
     "name": "stdout",
     "output_type": "stream",
     "text": [
      "U: 0.5714285714285714\n",
      "Exp: 0.4511883639059736\n"
     ]
    }
   ],
   "source": [
    "e = expon.cdf(6, scale=beta_mean)\n",
    "u = uniform.cdf(6, loc=a, scale=b)\n",
    "print(f'U: {u}')\n",
    "print(f'Exp: {e}')"
   ]
  },
  {
   "cell_type": "code",
   "execution_count": 68,
   "id": "94b53066-a28e-4e6c-981d-731354a0589e",
   "metadata": {},
   "outputs": [
    {
     "name": "stdout",
     "output_type": "stream",
     "text": [
      "U: 0.09523809523809523\n",
      "Exp: 0.05222633230261686\n"
     ]
    }
   ],
   "source": [
    "e = expon.cdf(7, scale=beta_mean) - expon.cdf(6, scale=beta_mean)\n",
    "u = uniform.cdf(7, loc=a, scale=b) - uniform.cdf(6, loc=a, scale=b)\n",
    "print(f'U: {u}')\n",
    "print(f'Exp: {e}')"
   ]
  },
  {
   "cell_type": "code",
   "execution_count": 69,
   "id": "6deeab2f-e15d-4c32-9389-e0b43982415d",
   "metadata": {},
   "outputs": [
    {
     "name": "stdout",
     "output_type": "stream",
     "text": [
      "U: 0.22222222222222218\n",
      "Exp: 0.09516258196404033\n"
     ]
    }
   ],
   "source": [
    "e = ( expon.cdf(7, scale=beta_mean) - expon.cdf(6, scale=beta_mean) ) / (1-expon.cdf(6, scale=beta_mean))\n",
    "u = ( uniform.cdf(7, loc=a, scale=b) - uniform.cdf(6, loc=a, scale=b) ) / (1-uniform.cdf(6, loc=a, scale=b))\n",
    "print(f'U: {u}')\n",
    "print(f'Exp: {e}')"
   ]
  },
  {
   "cell_type": "code",
   "execution_count": null,
   "id": "bb4f2057-1e29-406b-a3bc-bf977bb90997",
   "metadata": {},
   "outputs": [],
   "source": []
  }
 ],
 "metadata": {
  "kernelspec": {
   "display_name": "Python 3",
   "language": "python",
   "name": "python3"
  },
  "language_info": {
   "codemirror_mode": {
    "name": "ipython",
    "version": 3
   },
   "file_extension": ".py",
   "mimetype": "text/x-python",
   "name": "python",
   "nbconvert_exporter": "python",
   "pygments_lexer": "ipython3",
   "version": "3.9.0"
  }
 },
 "nbformat": 4,
 "nbformat_minor": 5
}

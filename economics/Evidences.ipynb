{
 "cells": [
  {
   "cell_type": "code",
   "execution_count": 12,
   "id": "6b395678-5e9c-4fd9-b306-53e789f679bf",
   "metadata": {},
   "outputs": [],
   "source": [
    "import numpy as np\n",
    "from scipy.stats import binom, poisson\n",
    "from scipy.special import binom as binomCof\n",
    "import matplotlib.pyplot as plt"
   ]
  },
  {
   "cell_type": "code",
   "execution_count": 2,
   "id": "9b54f2b5-3b96-4123-9678-ea260861495b",
   "metadata": {},
   "outputs": [],
   "source": [
    "n, p = 6, 0.25"
   ]
  },
  {
   "cell_type": "markdown",
   "id": "3ca72b9f-2e7a-4a1a-8f5f-3236583bac70",
   "metadata": {},
   "source": [
    "### Binomial Evidence\n",
    "- Two hypothesis: H1=0.3, H2=0.1\n",
    "- Priors: P(H1)=0.5, P(H2)=0.5\n",
    "- Evidence 5 successes in 20 trials"
   ]
  },
  {
   "cell_type": "code",
   "execution_count": 4,
   "id": "489efc46-0e74-404f-9b0c-d6774c294e93",
   "metadata": {},
   "outputs": [
    {
     "data": {
      "text/plain": [
       "0.17886305056987964"
      ]
     },
     "execution_count": 4,
     "metadata": {},
     "output_type": "execute_result"
    }
   ],
   "source": [
    "binom.pmf(5, 20,0.3) # Hipothesis HIT P(5|0.3)"
   ]
  },
  {
   "cell_type": "code",
   "execution_count": 6,
   "id": "bc8faf6c-8568-4fe8-8e90-8a0affac148f",
   "metadata": {},
   "outputs": [
    {
     "data": {
      "text/plain": [
       "0.031921361119954424"
      ]
     },
     "execution_count": 6,
     "metadata": {},
     "output_type": "execute_result"
    }
   ],
   "source": [
    "binom.pmf(5, 20,0.1) # Hipothesis FLOP P(5|0.1)"
   ]
  },
  {
   "cell_type": "code",
   "execution_count": 10,
   "id": "b65bf870-7edf-4bc8-b203-b4d161c470f2",
   "metadata": {},
   "outputs": [
    {
     "data": {
      "text/plain": [
       "(0.5, '-->', 0.886138613861386)"
      ]
     },
     "execution_count": 10,
     "metadata": {},
     "output_type": "execute_result"
    }
   ],
   "source": [
    "0.5,'-->',(0.179*0.5)/(0.17*0.5+0.032*0.5)"
   ]
  },
  {
   "cell_type": "code",
   "execution_count": 11,
   "id": "1c90a1a1-dd09-4924-8411-080ab7544b06",
   "metadata": {},
   "outputs": [
    {
     "data": {
      "text/plain": [
       "(0.5, '-->', 0.15841584158415842)"
      ]
     },
     "execution_count": 11,
     "metadata": {},
     "output_type": "execute_result"
    }
   ],
   "source": [
    "0.5,'-->',(0.032*0.5)/(0.17*0.5+0.032*0.5)"
   ]
  },
  {
   "cell_type": "markdown",
   "id": "70d0dfb7-47f4-4299-bca8-5c2ffaccf1ae",
   "metadata": {},
   "source": [
    "### Poisson with Binomial Evidence\n",
    "- Hypothesis: Good $\\lambda = $20/h, Bad 10/h, Dismal 6/h\n",
    "- Priors: P(Good)=0.7, P(Bad)=0.2, P(Dismal)=0.1\n",
    "- Evidence: 5 in 0.5 hours = 14 per 1 hour"
   ]
  },
  {
   "cell_type": "code",
   "execution_count": 24,
   "id": "595b4e52-494e-405e-830b-ec63f2d48a57",
   "metadata": {},
   "outputs": [
    {
     "data": {
      "text/plain": [
       "0.1606231410479801"
      ]
     },
     "execution_count": 24,
     "metadata": {},
     "output_type": "execute_result"
    }
   ],
   "source": [
    "poisson.pmf(6, 20) # H1\n",
    "poisson.pmf(6, 10) # H2\n",
    "poisson.pmf(6, 6) # H3"
   ]
  },
  {
   "cell_type": "code",
   "execution_count": 25,
   "id": "10e189c0-2f3a-4850-bc99-dafceb02070f",
   "metadata": {},
   "outputs": [
    {
     "name": "stdout",
     "output_type": "stream",
     "text": [
      "0.03873664014881865\n",
      "0.05207710444602615\n",
      "0.0022281389053608724\n"
     ]
    }
   ],
   "source": [
    "print(poisson.pmf(14, 20)) # H1\n",
    "print(poisson.pmf(14, 10)) # H2\n",
    "print(poisson.pmf(14, 6)) # H3"
   ]
  },
  {
   "cell_type": "code",
   "execution_count": 28,
   "id": "3ff72ca6-6e90-4535-af7d-3210e2cdf7ba",
   "metadata": {},
   "outputs": [
    {
     "name": "stdout",
     "output_type": "stream",
     "text": [
      "0.090079225719216\n",
      "0.10444486295705395\n",
      "0.02160403145248382\n"
     ]
    }
   ],
   "source": [
    "# This is the good one!\n",
    "# Evidence CAN NOT be Extrapolated but Priors can be Scaled to match!\n",
    "print(poisson.pmf(7, 10)) # H1\n",
    "print(poisson.pmf(7, 5)) # H2\n",
    "print(poisson.pmf(7, 3)) # H3"
   ]
  },
  {
   "cell_type": "code",
   "execution_count": null,
   "id": "c79e7ac2-f6e3-4912-a139-0e337edb0e69",
   "metadata": {},
   "outputs": [],
   "source": []
  }
 ],
 "metadata": {
  "kernelspec": {
   "display_name": "Python 3 (ipykernel)",
   "language": "python",
   "name": "python3"
  },
  "language_info": {
   "codemirror_mode": {
    "name": "ipython",
    "version": 3
   },
   "file_extension": ".py",
   "mimetype": "text/x-python",
   "name": "python",
   "nbconvert_exporter": "python",
   "pygments_lexer": "ipython3",
   "version": "3.9.13"
  }
 },
 "nbformat": 4,
 "nbformat_minor": 5
}

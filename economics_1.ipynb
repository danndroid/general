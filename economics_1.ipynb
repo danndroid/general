{
 "cells": [
  {
   "cell_type": "code",
   "execution_count": 1,
   "id": "096f90b8-d8a2-4869-a899-18b0c050d8d6",
   "metadata": {},
   "outputs": [],
   "source": [
    "import sys\n",
    "import numpy as np\n",
    "import pandas as pd\n"
   ]
  },
  {
   "cell_type": "code",
   "execution_count": 2,
   "id": "f560da3f-0baa-436f-b3e7-e571433c5539",
   "metadata": {},
   "outputs": [],
   "source": [
    "from libs import decisions as dc\n",
    "%load_ext autoreload\n",
    "%autoreload 2\n",
    "from libs import decisions as dc"
   ]
  },
  {
   "cell_type": "code",
   "execution_count": 3,
   "id": "59586379-f3a2-4cc2-9d51-09828dfff2a1",
   "metadata": {},
   "outputs": [],
   "source": [
    "c1=[18,14,5,14,10]\n",
    "c2=[18,14,26,22,12]\n",
    "c3=[10,14,10,10,12]\n",
    "c4=[14,14,10,10,10]\n",
    "\n",
    "idx = ['a1','a2','a3','a4','a5']"
   ]
  },
  {
   "cell_type": "code",
   "execution_count": 4,
   "id": "e0be567a-b835-41ba-82b8-5abb587467a1",
   "metadata": {},
   "outputs": [
    {
     "data": {
      "text/html": [
       "<div>\n",
       "<style scoped>\n",
       "    .dataframe tbody tr th:only-of-type {\n",
       "        vertical-align: middle;\n",
       "    }\n",
       "\n",
       "    .dataframe tbody tr th {\n",
       "        vertical-align: top;\n",
       "    }\n",
       "\n",
       "    .dataframe thead th {\n",
       "        text-align: right;\n",
       "    }\n",
       "</style>\n",
       "<table border=\"1\" class=\"dataframe\">\n",
       "  <thead>\n",
       "    <tr style=\"text-align: right;\">\n",
       "      <th></th>\n",
       "      <th>e1</th>\n",
       "      <th>e2</th>\n",
       "      <th>e3</th>\n",
       "      <th>e4</th>\n",
       "    </tr>\n",
       "  </thead>\n",
       "  <tbody>\n",
       "    <tr>\n",
       "      <th>a1</th>\n",
       "      <td>18</td>\n",
       "      <td>18</td>\n",
       "      <td>10</td>\n",
       "      <td>14</td>\n",
       "    </tr>\n",
       "    <tr>\n",
       "      <th>a2</th>\n",
       "      <td>14</td>\n",
       "      <td>14</td>\n",
       "      <td>14</td>\n",
       "      <td>14</td>\n",
       "    </tr>\n",
       "    <tr>\n",
       "      <th>a3</th>\n",
       "      <td>5</td>\n",
       "      <td>26</td>\n",
       "      <td>10</td>\n",
       "      <td>10</td>\n",
       "    </tr>\n",
       "    <tr>\n",
       "      <th>a4</th>\n",
       "      <td>14</td>\n",
       "      <td>22</td>\n",
       "      <td>10</td>\n",
       "      <td>10</td>\n",
       "    </tr>\n",
       "    <tr>\n",
       "      <th>a5</th>\n",
       "      <td>10</td>\n",
       "      <td>12</td>\n",
       "      <td>12</td>\n",
       "      <td>10</td>\n",
       "    </tr>\n",
       "  </tbody>\n",
       "</table>\n",
       "</div>"
      ],
      "text/plain": [
       "    e1  e2  e3  e4\n",
       "a1  18  18  10  14\n",
       "a2  14  14  14  14\n",
       "a3   5  26  10  10\n",
       "a4  14  22  10  10\n",
       "a5  10  12  12  10"
      ]
     },
     "execution_count": 4,
     "metadata": {},
     "output_type": "execute_result"
    }
   ],
   "source": [
    "A = pd.DataFrame({'e1':c1,\n",
    "                     'e2':c2,\n",
    "                     'e3':c3,\n",
    "                     'e4':c4}, index = idx)\n",
    "A"
   ]
  },
  {
   "cell_type": "code",
   "execution_count": 6,
   "id": "3c154a85-d466-4802-9fe2-28fec7aa3d12",
   "metadata": {},
   "outputs": [
    {
     "data": {
      "text/html": [
       "<div>\n",
       "<style scoped>\n",
       "    .dataframe tbody tr th:only-of-type {\n",
       "        vertical-align: middle;\n",
       "    }\n",
       "\n",
       "    .dataframe tbody tr th {\n",
       "        vertical-align: top;\n",
       "    }\n",
       "\n",
       "    .dataframe thead th {\n",
       "        text-align: right;\n",
       "    }\n",
       "</style>\n",
       "<table border=\"1\" class=\"dataframe\">\n",
       "  <thead>\n",
       "    <tr style=\"text-align: right;\">\n",
       "      <th></th>\n",
       "      <th>e1</th>\n",
       "      <th>e2</th>\n",
       "      <th>e3</th>\n",
       "      <th>e4</th>\n",
       "    </tr>\n",
       "  </thead>\n",
       "  <tbody>\n",
       "    <tr>\n",
       "      <th>a1</th>\n",
       "      <td>60</td>\n",
       "      <td>60</td>\n",
       "      <td>36</td>\n",
       "      <td>48</td>\n",
       "    </tr>\n",
       "    <tr>\n",
       "      <th>a2</th>\n",
       "      <td>48</td>\n",
       "      <td>48</td>\n",
       "      <td>48</td>\n",
       "      <td>48</td>\n",
       "    </tr>\n",
       "    <tr>\n",
       "      <th>a3</th>\n",
       "      <td>21</td>\n",
       "      <td>84</td>\n",
       "      <td>36</td>\n",
       "      <td>36</td>\n",
       "    </tr>\n",
       "    <tr>\n",
       "      <th>a4</th>\n",
       "      <td>48</td>\n",
       "      <td>72</td>\n",
       "      <td>36</td>\n",
       "      <td>36</td>\n",
       "    </tr>\n",
       "    <tr>\n",
       "      <th>a5</th>\n",
       "      <td>36</td>\n",
       "      <td>42</td>\n",
       "      <td>42</td>\n",
       "      <td>36</td>\n",
       "    </tr>\n",
       "  </tbody>\n",
       "</table>\n",
       "</div>"
      ],
      "text/plain": [
       "    e1  e2  e3  e4\n",
       "a1  60  60  36  48\n",
       "a2  48  48  48  48\n",
       "a3  21  84  36  36\n",
       "a4  48  72  36  36\n",
       "a5  36  42  42  36"
      ]
     },
     "execution_count": 6,
     "metadata": {},
     "output_type": "execute_result"
    }
   ],
   "source": [
    "B = (A + 2) * 3\n",
    "B"
   ]
  },
  {
   "cell_type": "code",
   "execution_count": 12,
   "id": "0bd9d16f-464b-49a5-9113-227d93cf6c87",
   "metadata": {},
   "outputs": [
    {
     "name": "stdout",
     "output_type": "stream",
     "text": [
      "Strategy:a5 \n",
      "Value:12\n"
     ]
    },
    {
     "data": {
      "text/plain": [
       "('a5', 12)"
      ]
     },
     "execution_count": 12,
     "metadata": {},
     "output_type": "execute_result"
    }
   ],
   "source": [
    "dc.min_max_cost(A)"
   ]
  },
  {
   "cell_type": "code",
   "execution_count": 13,
   "id": "bc4c095e-bd66-4f38-b24d-ca39ee9f2ea1",
   "metadata": {},
   "outputs": [
    {
     "name": "stdout",
     "output_type": "stream",
     "text": [
      "Strategy:a5 \n",
      "Value:42\n"
     ]
    },
    {
     "data": {
      "text/plain": [
       "('a5', 42)"
      ]
     },
     "execution_count": 13,
     "metadata": {},
     "output_type": "execute_result"
    }
   ],
   "source": [
    "dc.min_max_cost(B)"
   ]
  },
  {
   "cell_type": "code",
   "execution_count": 14,
   "id": "4f4dedf4-82c0-4cd6-83aa-a26d57ce5247",
   "metadata": {},
   "outputs": [
    {
     "name": "stdout",
     "output_type": "stream",
     "text": [
      "Strategy:a3 \n",
      "Value:5\n"
     ]
    },
    {
     "data": {
      "text/plain": [
       "('a3', 5)"
      ]
     },
     "execution_count": 14,
     "metadata": {},
     "output_type": "execute_result"
    }
   ],
   "source": [
    "dc.min_min_cost(A)"
   ]
  },
  {
   "cell_type": "code",
   "execution_count": 15,
   "id": "e4c98df1-26fc-403a-b6ad-a7303868df8f",
   "metadata": {},
   "outputs": [
    {
     "name": "stdout",
     "output_type": "stream",
     "text": [
      "Strategy:a3 \n",
      "Value:21\n"
     ]
    },
    {
     "data": {
      "text/plain": [
       "('a3', 21)"
      ]
     },
     "execution_count": 15,
     "metadata": {},
     "output_type": "execute_result"
    }
   ],
   "source": [
    "dc.min_min_cost(B)"
   ]
  },
  {
   "cell_type": "code",
   "execution_count": null,
   "id": "aac65926-c6b7-4f9e-ba9e-4f9e4b679690",
   "metadata": {},
   "outputs": [],
   "source": []
  },
  {
   "cell_type": "code",
   "execution_count": 16,
   "id": "bca55a43-a014-4d4e-862a-ebda1295d92b",
   "metadata": {},
   "outputs": [
    {
     "name": "stdout",
     "output_type": "stream",
     "text": [
      "Strategy:a1 \n",
      "Value:4\n"
     ]
    },
    {
     "data": {
      "text/plain": [
       "('a1', 4)"
      ]
     },
     "execution_count": 16,
     "metadata": {},
     "output_type": "execute_result"
    }
   ],
   "source": [
    "dc.dominance(A)"
   ]
  },
  {
   "cell_type": "code",
   "execution_count": 17,
   "id": "29f8621a-d8ef-43ff-9179-68bf5860828b",
   "metadata": {},
   "outputs": [
    {
     "name": "stdout",
     "output_type": "stream",
     "text": [
      "Strategy:a3 \n",
      "Value:3\n"
     ]
    },
    {
     "data": {
      "text/plain": [
       "('a3', 3)"
      ]
     },
     "execution_count": 17,
     "metadata": {},
     "output_type": "execute_result"
    }
   ],
   "source": [
    "dc.dominance(A, gain=False)"
   ]
  },
  {
   "cell_type": "code",
   "execution_count": 18,
   "id": "3a081c89-2cc7-4e29-80d6-a314211d3ebc",
   "metadata": {},
   "outputs": [
    {
     "name": "stdout",
     "output_type": "stream",
     "text": [
      "Strategy:a3 \n",
      "Value:3\n"
     ]
    },
    {
     "data": {
      "text/plain": [
       "('a3', 3)"
      ]
     },
     "execution_count": 18,
     "metadata": {},
     "output_type": "execute_result"
    }
   ],
   "source": [
    "dc.dominance(B, gain=False)"
   ]
  },
  {
   "cell_type": "code",
   "execution_count": 19,
   "id": "ec47346a-f21c-48c7-9ac9-0ea182cea165",
   "metadata": {},
   "outputs": [
    {
     "name": "stdout",
     "output_type": "stream",
     "text": [
      "Strategy:a1 \n",
      "Value:15.0\n"
     ]
    },
    {
     "data": {
      "text/plain": [
       "('a1', 15.0)"
      ]
     },
     "execution_count": 19,
     "metadata": {},
     "output_type": "execute_result"
    }
   ],
   "source": [
    "dc.laplace(A)"
   ]
  },
  {
   "cell_type": "code",
   "execution_count": null,
   "id": "30d81bd7-36b9-457e-916b-e0c1d9fed990",
   "metadata": {},
   "outputs": [],
   "source": []
  },
  {
   "cell_type": "code",
   "execution_count": 20,
   "id": "0f123212-944c-491a-9097-618d8725647d",
   "metadata": {},
   "outputs": [
    {
     "name": "stdout",
     "output_type": "stream",
     "text": [
      "Strategy:a5 \n",
      "Value:11.0\n"
     ]
    },
    {
     "data": {
      "text/plain": [
       "('a5', 11.0)"
      ]
     },
     "execution_count": 20,
     "metadata": {},
     "output_type": "execute_result"
    }
   ],
   "source": [
    "dc.laplace(A, gain=False)"
   ]
  },
  {
   "cell_type": "code",
   "execution_count": 21,
   "id": "16f732b8-f6c8-4e99-b551-911fed79e22a",
   "metadata": {},
   "outputs": [
    {
     "name": "stdout",
     "output_type": "stream",
     "text": [
      "Strategy:a5 \n",
      "Value:39.0\n"
     ]
    },
    {
     "data": {
      "text/plain": [
       "('a5', 39.0)"
      ]
     },
     "execution_count": 21,
     "metadata": {},
     "output_type": "execute_result"
    }
   ],
   "source": [
    "dc.laplace(B, gain=False)"
   ]
  },
  {
   "cell_type": "code",
   "execution_count": null,
   "id": "8084e779-a22e-484b-b296-300b76125a1d",
   "metadata": {},
   "outputs": [],
   "source": []
  },
  {
   "cell_type": "code",
   "execution_count": 23,
   "id": "6cd42005-7132-4968-95c3-95bb007f87d2",
   "metadata": {},
   "outputs": [
    {
     "name": "stdout",
     "output_type": "stream",
     "text": [
      "Matrix:\n",
      "    e1  e2  e3  e4  min  max   hwz\n",
      "a1  18  18  10  14   10   18  14.0\n",
      "a2  14  14  14  14   14   14  14.0\n",
      "a3   5  26  10  10    5   26  15.5\n",
      "a4  14  22  10  10   10   22  16.0\n",
      "a5  10  12  12  10   10   12  11.0\n",
      "\n",
      "Strategy:a4 \n",
      "Value:16.0\n"
     ]
    },
    {
     "data": {
      "text/plain": [
       "('a4', 16.0)"
      ]
     },
     "execution_count": 23,
     "metadata": {},
     "output_type": "execute_result"
    }
   ],
   "source": [
    "dc.hurwicz(A, alpha=0.5)"
   ]
  },
  {
   "cell_type": "code",
   "execution_count": 24,
   "id": "71b36659-2117-4f08-949f-735244630f84",
   "metadata": {},
   "outputs": [
    {
     "name": "stdout",
     "output_type": "stream",
     "text": [
      "Matrix:\n",
      "    e1  e2  e3  e4  min  max   hwz\n",
      "a1  18  18  10  14   10   18  14.0\n",
      "a2  14  14  14  14   14   14  14.0\n",
      "a3   5  26  10  10    5   26  15.5\n",
      "a4  14  22  10  10   10   22  16.0\n",
      "a5  10  12  12  10   10   12  11.0\n",
      "\n",
      "Strategy:a5 \n",
      "Value:11.0\n"
     ]
    },
    {
     "data": {
      "text/plain": [
       "('a5', 11.0)"
      ]
     },
     "execution_count": 24,
     "metadata": {},
     "output_type": "execute_result"
    }
   ],
   "source": [
    "dc.hurwicz(A, alpha=0.5, gain=False)"
   ]
  },
  {
   "cell_type": "code",
   "execution_count": 25,
   "id": "543bccb5-6119-4cd4-978f-3d1e416ffced",
   "metadata": {},
   "outputs": [
    {
     "name": "stdout",
     "output_type": "stream",
     "text": [
      "Matrix:\n",
      "    e1  e2  e3  e4  min  max   hwz\n",
      "a1  60  60  36  48   36   60  48.0\n",
      "a2  48  48  48  48   48   48  48.0\n",
      "a3  21  84  36  36   21   84  52.5\n",
      "a4  48  72  36  36   36   72  54.0\n",
      "a5  36  42  42  36   36   42  39.0\n",
      "\n",
      "Strategy:a5 \n",
      "Value:39.0\n"
     ]
    },
    {
     "data": {
      "text/plain": [
       "('a5', 39.0)"
      ]
     },
     "execution_count": 25,
     "metadata": {},
     "output_type": "execute_result"
    }
   ],
   "source": [
    "dc.hurwicz(B, alpha=0.5, gain=False)"
   ]
  },
  {
   "cell_type": "code",
   "execution_count": null,
   "id": "da1f0330-1fe5-4ed8-9468-3704956e33cf",
   "metadata": {},
   "outputs": [],
   "source": []
  },
  {
   "cell_type": "code",
   "execution_count": 26,
   "id": "519a97db-f0ae-4926-a4bb-c77c6204e852",
   "metadata": {},
   "outputs": [
    {
     "name": "stdout",
     "output_type": "stream",
     "text": [
      "Regret Matrix:\n",
      "    e1  e2  e3  e4  maxR\n",
      "a1   0   8   4   0     8\n",
      "a2   4  12   0   0    12\n",
      "a3  13   0   4   4    13\n",
      "a4   4   4   4   4     4\n",
      "a5   8  14   2   4    14\n",
      "\n",
      "Strategy:a4 \n",
      "Value:4\n"
     ]
    },
    {
     "data": {
      "text/plain": [
       "('a4', 4)"
      ]
     },
     "execution_count": 26,
     "metadata": {},
     "output_type": "execute_result"
    }
   ],
   "source": [
    "dc.savage_regret(A)"
   ]
  },
  {
   "cell_type": "code",
   "execution_count": 27,
   "id": "200cbb07-7b3b-4317-93db-9c29a3a50212",
   "metadata": {},
   "outputs": [
    {
     "name": "stdout",
     "output_type": "stream",
     "text": [
      "Regret Matrix:\n",
      "    e1  e2  e3  e4  maxR\n",
      "a1  13   6   0   4    13\n",
      "a2   9   2   4   4     9\n",
      "a3   0  14   0   0    14\n",
      "a4   9  10   0   0    10\n",
      "a5   5   0   2   0     5\n",
      "\n",
      "Strategy:a5 \n",
      "Value:5\n"
     ]
    },
    {
     "data": {
      "text/plain": [
       "('a5', 5)"
      ]
     },
     "execution_count": 27,
     "metadata": {},
     "output_type": "execute_result"
    }
   ],
   "source": [
    "dc.savage_regret(A, gain=False)"
   ]
  },
  {
   "cell_type": "code",
   "execution_count": 28,
   "id": "2a69639f-ee9d-457f-b59d-ba1a7a3219ae",
   "metadata": {},
   "outputs": [
    {
     "name": "stdout",
     "output_type": "stream",
     "text": [
      "Regret Matrix:\n",
      "    e1  e2  e3  e4  maxR\n",
      "a1  39  18   0  12    39\n",
      "a2  27   6  12  12    27\n",
      "a3   0  42   0   0    42\n",
      "a4  27  30   0   0    30\n",
      "a5  15   0   6   0    15\n",
      "\n",
      "Strategy:a5 \n",
      "Value:15\n"
     ]
    },
    {
     "data": {
      "text/plain": [
       "('a5', 15)"
      ]
     },
     "execution_count": 28,
     "metadata": {},
     "output_type": "execute_result"
    }
   ],
   "source": [
    "dc.savage_regret(B, gain=False)"
   ]
  },
  {
   "cell_type": "code",
   "execution_count": null,
   "id": "1b38d32a-4b5d-436c-858b-a6dfab623439",
   "metadata": {},
   "outputs": [],
   "source": []
  }
 ],
 "metadata": {
  "kernelspec": {
   "display_name": "Python 3",
   "language": "python",
   "name": "python3"
  },
  "language_info": {
   "codemirror_mode": {
    "name": "ipython",
    "version": 3
   },
   "file_extension": ".py",
   "mimetype": "text/x-python",
   "name": "python",
   "nbconvert_exporter": "python",
   "pygments_lexer": "ipython3",
   "version": "3.9.0"
  }
 },
 "nbformat": 4,
 "nbformat_minor": 5
}

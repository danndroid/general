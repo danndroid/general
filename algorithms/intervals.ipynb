{
 "cells": [
  {
   "cell_type": "code",
   "execution_count": 4,
   "id": "45f45034-9db5-4a35-9b67-258806a62323",
   "metadata": {},
   "outputs": [],
   "source": [
    "import numpy as np\n",
    "import matplotlib.pyplot as plt"
   ]
  },
  {
   "cell_type": "code",
   "execution_count": 139,
   "id": "bb48893b-1303-4c89-8455-84948e11bc1f",
   "metadata": {},
   "outputs": [
    {
     "data": {
      "text/plain": [
       "array([0. , 0.5, 1. , 1.5, 2. ])"
      ]
     },
     "execution_count": 139,
     "metadata": {},
     "output_type": "execute_result"
    }
   ],
   "source": [
    "segs = 5\n",
    "hs = np.linspace(0,2,segs)\n",
    "hs"
   ]
  },
  {
   "cell_type": "code",
   "execution_count": 140,
   "id": "50d071e4-bebb-48bc-bedf-590fbe7d5be0",
   "metadata": {},
   "outputs": [],
   "source": [
    "I = []\n",
    "P = []\n",
    "pn = {}\n",
    "w = {}\n",
    "t = 1\n",
    "for h in hs:\n",
    "    a = np.random.uniform(0,10)\n",
    "    b = a + (1 + np.random.normal(0.5,0.8))\n",
    "    I.append([a,b])\n",
    "    P.append(np.round(np.mean([a,b]),2))\n",
    "    pn[(np.mean([a,b]),-0.5)] = 'p'+str(t)\n",
    "    w[(np.round(np.mean([a,b]),2),-0.5)] = np.random.randint(10)\n",
    "\n",
    "    t+=1\n",
    "        \n",
    "#A, B = np.array(I).min(0)[0], np.array(I).max(0)[1]"
   ]
  },
  {
   "cell_type": "code",
   "execution_count": 141,
   "id": "b9eda977-2030-49b5-b72a-922e6c9659ff",
   "metadata": {},
   "outputs": [
    {
     "data": {
      "text/plain": [
       "{(7.16, -0.5): 6,\n",
       " (3.37, -0.5): 0,\n",
       " (4.19, -0.5): 4,\n",
       " (9.41, -0.5): 8,\n",
       " (9.52, -0.5): 3}"
      ]
     },
     "execution_count": 141,
     "metadata": {},
     "output_type": "execute_result"
    }
   ],
   "source": [
    "w"
   ]
  },
  {
   "cell_type": "code",
   "execution_count": 142,
   "id": "7436726c-570c-4d0b-a02e-41adac10abce",
   "metadata": {},
   "outputs": [],
   "source": [
    "dots = [(x,-0.5) for x in P]"
   ]
  },
  {
   "cell_type": "code",
   "execution_count": 202,
   "id": "82179a26-f341-4606-9bd5-44465a59f1a6",
   "metadata": {},
   "outputs": [
    {
     "data": {
      "image/png": "[encoded data removed]",
      "text/plain": [
       "<Figure size 1080x360 with 1 Axes>"
      ]
     },
     "metadata": {
      "needs_background": "light"
     },
     "output_type": "display_data"
    }
   ],
   "source": [
    "plt.figure(figsize=(15,5))\n",
    "for h,i in zip(hs,I):\n",
    "    plt.plot([i[0],i[1]],[h,h])\n",
    "for i in dots:\n",
    "    plt.plot([i[0]],[i[1]], marker='o', markersize=5)\n",
    "plt.ylim(-1,3)\n",
    "plt.show()"
   ]
  },
  {
   "cell_type": "code",
   "execution_count": 244,
   "id": "ba1fb62c-a6a5-4cf1-81cc-940068388b1d",
   "metadata": {},
   "outputs": [
    {
     "name": "stdout",
     "output_type": "stream",
     "text": [
      "3.37 ---> 0\n",
      "4.19 ---> 4\n",
      "7.16 ---> 6\n",
      "9.41 ---> 8\n",
      "9.52 ---> 3\n"
     ]
    }
   ],
   "source": [
    "for p in Ps:\n",
    "    print(p,'--->',w[(p,-0.5)])"
   ]
  },
  {
   "cell_type": "code",
   "execution_count": 215,
   "id": "d1713ab4-e2e3-4048-b370-7c63385bc168",
   "metadata": {},
   "outputs": [
    {
     "data": {
      "text/plain": [
       "array([[ 2.86184015,  3.87697319],\n",
       "       [ 3.08437395,  5.2991011 ],\n",
       "       [ 6.52513618,  7.79194686],\n",
       "       [ 8.34852648, 10.68569888],\n",
       "       [ 8.62479013, 10.1885712 ]])"
      ]
     },
     "execution_count": 215,
     "metadata": {},
     "output_type": "execute_result"
    }
   ],
   "source": [
    "I = np.array(I)\n",
    "Is = I[I[:, 0].argsort()] #sort by x coordinate\n",
    "Ps = np.sort(P)\n",
    "Is"
   ]
  },
  {
   "cell_type": "code",
   "execution_count": 218,
   "id": "b4dc375c-0a44-4a87-aa1a-32d75b3eab28",
   "metadata": {},
   "outputs": [
    {
     "data": {
      "text/plain": [
       "array([3.37, 4.19, 7.16, 9.41, 9.52])"
      ]
     },
     "execution_count": 218,
     "metadata": {},
     "output_type": "execute_result"
    }
   ],
   "source": [
    "Ps"
   ]
  },
  {
   "cell_type": "code",
   "execution_count": 333,
   "id": "7f4fb595-5417-4372-8267-6afdd1c3bc8e",
   "metadata": {},
   "outputs": [],
   "source": [
    "selected = []\n",
    "def algo(intervalIndex, pointIndex):\n",
    "    print((intervalIndex, pointIndex))\n",
    "     \n",
    "    if pointIndex == 5:\n",
    "        if intervalIndex == 5:\n",
    "            val = 0\n",
    "        else:\n",
    "            val = 1000\n",
    "            \n",
    "    elif intervalIndex == 5:\n",
    "        val = 0\n",
    "        \n",
    "    else:\n",
    "        print(Ps[pointIndex],' ', Is[intervalIndex])\n",
    "        \n",
    "        if memo[intervalIndex][pointIndex] != -1:\n",
    "            print('memo')\n",
    "            val = memo[intervalIndex][pointIndex]\n",
    "            #print('1',val)\n",
    "      \n",
    "        else:\n",
    "            val = algo(intervalIndex, pointIndex+1) # No toma punto\n",
    "            print('val 1:',val)\n",
    "        \n",
    "            idx = intervalIndex\n",
    "            print('Point:',Ps[pointIndex])\n",
    "            print((intervalIndex, pointIndex))\n",
    "            for k in np.arange(intervalIndex+1, 5): # Avanza intervalos\n",
    "                #print(Is[k])\n",
    "                if Is[k][0] <= Ps[pointIndex] and Ps[pointIndex] <= Is[k][1]:\n",
    "                    print(k,Is[k])\n",
    "                    idx = k\n",
    "                    \n",
    "            print('Min', (val, w[(Ps[pointIndex],-0.5)] , algo(idx+1,pointIndex+1) ) )\n",
    "            val = np.min( (val, w[(Ps[pointIndex],-0.5)] + algo(idx+1,pointIndex+1) ) ) # Toma punto\n",
    "            print('val 2:', val,'\\n')\n",
    "            selected.append((Ps[pointIndex],-0.5))\n",
    "            \n",
    "            memo[intervalIndex][pointIndex] = val \n",
    "            #print('2',val)\n",
    "    #print('Selected:',selected)\n",
    "    return val"
   ]
  },
  {
   "cell_type": "code",
   "execution_count": 334,
   "id": "515bb885-976e-439a-af7f-47086039f1e6",
   "metadata": {},
   "outputs": [
    {
     "name": "stdout",
     "output_type": "stream",
     "text": [
      "(0, 0)\n",
      "3.37   [2.86184015 3.87697319]\n",
      "(0, 1)\n",
      "4.19   [2.86184015 3.87697319]\n",
      "(0, 2)\n",
      "7.16   [2.86184015 3.87697319]\n",
      "(0, 3)\n",
      "9.41   [2.86184015 3.87697319]\n",
      "(0, 4)\n",
      "9.52   [2.86184015 3.87697319]\n",
      "(0, 5)\n",
      "val 1: 1000\n",
      "Point: 9.52\n",
      "(0, 4)\n",
      "3 [ 8.34852648 10.68569888]\n",
      "4 [ 8.62479013 10.1885712 ]\n",
      "(5, 5)\n",
      "Min (1000, 3, 0)\n",
      "(5, 5)\n",
      "val 2: 3 \n",
      "\n",
      "val 1: 3\n",
      "Point: 9.41\n",
      "(0, 3)\n",
      "3 [ 8.34852648 10.68569888]\n",
      "4 [ 8.62479013 10.1885712 ]\n",
      "(5, 4)\n",
      "Min (3, 8, 0)\n",
      "(5, 4)\n",
      "val 2: 3 \n",
      "\n",
      "val 1: 3\n",
      "Point: 7.16\n",
      "(0, 2)\n",
      "2 [6.52513618 7.79194686]\n",
      "(3, 3)\n",
      "9.41   [ 8.34852648 10.68569888]\n",
      "(3, 4)\n",
      "9.52   [ 8.34852648 10.68569888]\n",
      "(3, 5)\n",
      "val 1: 1000\n",
      "Point: 9.52\n",
      "(3, 4)\n",
      "4 [ 8.62479013 10.1885712 ]\n",
      "(5, 5)\n",
      "Min (1000, 3, 0)\n",
      "(5, 5)\n",
      "val 2: 3 \n",
      "\n",
      "val 1: 3\n",
      "Point: 9.41\n",
      "(3, 3)\n",
      "4 [ 8.62479013 10.1885712 ]\n",
      "(5, 4)\n",
      "Min (3, 8, 0)\n",
      "(5, 4)\n",
      "val 2: 3 \n",
      "\n",
      "Min (3, 6, 3)\n",
      "(3, 3)\n",
      "9.41   [ 8.34852648 10.68569888]\n",
      "memo\n",
      "val 2: 3.0 \n",
      "\n",
      "val 1: 3.0\n",
      "Point: 4.19\n",
      "(0, 1)\n",
      "1 [3.08437395 5.2991011 ]\n",
      "(2, 2)\n",
      "7.16   [6.52513618 7.79194686]\n",
      "(2, 3)\n",
      "9.41   [6.52513618 7.79194686]\n",
      "(2, 4)\n",
      "9.52   [6.52513618 7.79194686]\n",
      "(2, 5)\n",
      "val 1: 1000\n",
      "Point: 9.52\n",
      "(2, 4)\n",
      "3 [ 8.34852648 10.68569888]\n",
      "4 [ 8.62479013 10.1885712 ]\n",
      "(5, 5)\n",
      "Min (1000, 3, 0)\n",
      "(5, 5)\n",
      "val 2: 3 \n",
      "\n",
      "val 1: 3\n",
      "Point: 9.41\n",
      "(2, 3)\n",
      "3 [ 8.34852648 10.68569888]\n",
      "4 [ 8.62479013 10.1885712 ]\n",
      "(5, 4)\n",
      "Min (3, 8, 0)\n",
      "(5, 4)\n",
      "val 2: 3 \n",
      "\n",
      "val 1: 3\n",
      "Point: 7.16\n",
      "(2, 2)\n",
      "(3, 3)\n",
      "9.41   [ 8.34852648 10.68569888]\n",
      "memo\n",
      "Min (3, 6, 3.0)\n",
      "(3, 3)\n",
      "9.41   [ 8.34852648 10.68569888]\n",
      "memo\n",
      "val 2: 3.0 \n",
      "\n",
      "Min (3.0, 4, 3.0)\n",
      "(2, 2)\n",
      "7.16   [6.52513618 7.79194686]\n",
      "memo\n",
      "val 2: 3.0 \n",
      "\n",
      "val 1: 3.0\n",
      "Point: 3.37\n",
      "(0, 0)\n",
      "1 [3.08437395 5.2991011 ]\n",
      "(2, 1)\n",
      "4.19   [6.52513618 7.79194686]\n",
      "(2, 2)\n",
      "7.16   [6.52513618 7.79194686]\n",
      "memo\n",
      "val 1: 3.0\n",
      "Point: 4.19\n",
      "(2, 1)\n",
      "(3, 2)\n",
      "7.16   [ 8.34852648 10.68569888]\n",
      "(3, 3)\n",
      "9.41   [ 8.34852648 10.68569888]\n",
      "memo\n",
      "val 1: 3.0\n",
      "Point: 7.16\n",
      "(3, 2)\n",
      "(4, 3)\n",
      "9.41   [ 8.62479013 10.1885712 ]\n",
      "(4, 4)\n",
      "9.52   [ 8.62479013 10.1885712 ]\n",
      "(4, 5)\n",
      "val 1: 1000\n",
      "Point: 9.52\n",
      "(4, 4)\n",
      "(5, 5)\n",
      "Min (1000, 3, 0)\n",
      "(5, 5)\n",
      "val 2: 3 \n",
      "\n",
      "val 1: 3\n",
      "Point: 9.41\n",
      "(4, 3)\n",
      "(5, 4)\n",
      "Min (3, 8, 0)\n",
      "(5, 4)\n",
      "val 2: 3 \n",
      "\n",
      "Min (3.0, 6, 3)\n",
      "(4, 3)\n",
      "9.41   [ 8.62479013 10.1885712 ]\n",
      "memo\n",
      "val 2: 3.0 \n",
      "\n",
      "Min (3.0, 4, 3.0)\n",
      "(3, 2)\n",
      "7.16   [ 8.34852648 10.68569888]\n",
      "memo\n",
      "val 2: 3.0 \n",
      "\n",
      "Min (3.0, 0, 3.0)\n",
      "(2, 1)\n",
      "4.19   [6.52513618 7.79194686]\n",
      "memo\n",
      "val 2: 3.0 \n",
      "\n"
     ]
    },
    {
     "data": {
      "text/plain": [
       "3.0"
      ]
     },
     "execution_count": 334,
     "metadata": {},
     "output_type": "execute_result"
    }
   ],
   "source": [
    "memo = np.ones((segs,segs))*-1\n",
    "algo(0,0)"
   ]
  },
  {
   "cell_type": "code",
   "execution_count": 332,
   "id": "7305fe87-5b1e-4d47-800c-4f72e1b67fe0",
   "metadata": {},
   "outputs": [
    {
     "data": {
      "text/plain": [
       "array([[ 3.,  3.,  3.,  3.,  3.],\n",
       "       [-1., -1., -1., -1., -1.],\n",
       "       [-1.,  3.,  3.,  3.,  3.],\n",
       "       [-1., -1.,  3.,  3.,  3.],\n",
       "       [-1., -1., -1.,  3.,  3.]])"
      ]
     },
     "execution_count": 332,
     "metadata": {},
     "output_type": "execute_result"
    }
   ],
   "source": [
    "memo"
   ]
  },
  {
   "cell_type": "code",
   "execution_count": null,
   "id": "25c88248-6142-40bc-bd60-fc0a09d585c6",
   "metadata": {},
   "outputs": [],
   "source": []
  }
 ],
 "metadata": {
  "kernelspec": {
   "display_name": "Python 3",
   "language": "python",
   "name": "python3"
  },
  "language_info": {
   "codemirror_mode": {
    "name": "ipython",
    "version": 3
   },
   "file_extension": ".py",
   "mimetype": "text/x-python",
   "name": "python",
   "nbconvert_exporter": "python",
   "pygments_lexer": "ipython3",
   "version": "3.9.0"
  }
 },
 "nbformat": 4,
 "nbformat_minor": 5
}
